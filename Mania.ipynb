{
 "cells": [
  {
   "cell_type": "code",
   "id": "initial_id",
   "metadata": {
    "collapsed": true,
    "ExecuteTime": {
     "end_time": "2025-03-07T18:19:07.247178Z",
     "start_time": "2025-03-07T18:18:57.898431Z"
    }
   },
   "source": [
    "import pandas as pd\n",
    "import os\n",
    "\n",
    "# Define the base data directory\n",
    "BASE_DIR = \"data\"\n",
    "\n",
    "# Function to load datasets dynamically\n",
    "def load_csv(filename):\n",
    "    return pd.read_csv(os.path.join(BASE_DIR, filename))\n",
    "\n",
    "# Load datasets without adding \"data/\" each time\n",
    "teams = load_csv(\"MTeams.csv\")\n",
    "w_teams = load_csv(\"WTeams.csv\")  # Women's Teams\n",
    "seasons = load_csv(\"MSeasons.csv\")\n",
    "tourney_seeds = load_csv(\"MNCAATourneySeeds.csv\")\n",
    "regular_season_results = load_csv(\"MRegularSeasonCompactResults.csv\")\n",
    "tourney_results = load_csv(\"MNCAATourneyCompactResults.csv\")\n",
    "massey_rankings = load_csv(\"MMasseyOrdinals.csv\")\n",
    "regular_season_detailed = load_csv(\"MRegularSeasonDetailedResults.csv\")\n",
    "tourney_detailed = load_csv(\"MNCAATourneyDetailedResults.csv\")\n",
    "\n",
    "# Verify successful loading\n",
    "datasets = {\n",
    "    \"Teams\": teams,\n",
    "    \"Seasons\": seasons,\n",
    "    \"Tourney Seeds\": tourney_seeds,\n",
    "    \"Regular Season Results\": regular_season_results,\n",
    "    \"Tourney Results\": tourney_results,\n",
    "    \"Massey Rankings\": massey_rankings,\n",
    "    \"Regular Season Detailed\": regular_season_detailed,\n",
    "    \"Tourney Detailed\": tourney_detailed\n",
    "}\n",
    "\n",
    "for name, df in datasets.items():\n",
    "    print(f\"\\n{name} Dataset Sample:\")\n",
    "    print(df.head(), \"\\n\")\n"
   ],
   "outputs": [
    {
     "name": "stdout",
     "output_type": "stream",
     "text": [
      "\n",
      "Teams Dataset Sample:\n",
      "   TeamID     TeamName  FirstD1Season  LastD1Season\n",
      "0    1101  Abilene Chr           2014          2025\n",
      "1    1102    Air Force           1985          2025\n",
      "2    1103        Akron           1985          2025\n",
      "3    1104      Alabama           1985          2025\n",
      "4    1105  Alabama A&M           2000          2025 \n",
      "\n",
      "\n",
      "Seasons Dataset Sample:\n",
      "   Season     DayZero RegionW    RegionX    RegionY    RegionZ\n",
      "0    1985  10/29/1984    East       West    Midwest  Southeast\n",
      "1    1986  10/28/1985    East    Midwest  Southeast       West\n",
      "2    1987  10/27/1986    East  Southeast    Midwest       West\n",
      "3    1988  11/02/1987    East    Midwest  Southeast       West\n",
      "4    1989  10/31/1988    East       West    Midwest  Southeast \n",
      "\n",
      "\n",
      "Tourney Seeds Dataset Sample:\n",
      "   Season Seed  TeamID\n",
      "0    1985  W01    1207\n",
      "1    1985  W02    1210\n",
      "2    1985  W03    1228\n",
      "3    1985  W04    1260\n",
      "4    1985  W05    1374 \n",
      "\n",
      "\n",
      "Regular Season Results Dataset Sample:\n",
      "   Season  DayNum  WTeamID  WScore  LTeamID  LScore WLoc  NumOT\n",
      "0    1985      20     1228      81     1328      64    N      0\n",
      "1    1985      25     1106      77     1354      70    H      0\n",
      "2    1985      25     1112      63     1223      56    H      0\n",
      "3    1985      25     1165      70     1432      54    H      0\n",
      "4    1985      25     1192      86     1447      74    H      0 \n",
      "\n",
      "\n",
      "Tourney Results Dataset Sample:\n",
      "   Season  DayNum  WTeamID  WScore  LTeamID  LScore WLoc  NumOT\n",
      "0    1985     136     1116      63     1234      54    N      0\n",
      "1    1985     136     1120      59     1345      58    N      0\n",
      "2    1985     136     1207      68     1250      43    N      0\n",
      "3    1985     136     1229      58     1425      55    N      0\n",
      "4    1985     136     1242      49     1325      38    N      0 \n",
      "\n",
      "\n",
      "Massey Rankings Dataset Sample:\n",
      "   Season  RankingDayNum SystemName  TeamID  OrdinalRank\n",
      "0    2003             35        SEL  1102.0        159.0\n",
      "1    2003             35        SEL  1103.0        229.0\n",
      "2    2003             35        SEL  1104.0         12.0\n",
      "3    2003             35        SEL  1105.0        314.0\n",
      "4    2003             35        SEL  1106.0        260.0 \n",
      "\n",
      "\n",
      "Regular Season Detailed Dataset Sample:\n",
      "   Season  DayNum  WTeamID  WScore  LTeamID  LScore WLoc  NumOT  WFGM  WFGA  \\\n",
      "0    2003      10     1104      68     1328      62    N      0    27    58   \n",
      "1    2003      10     1272      70     1393      63    N      0    26    62   \n",
      "2    2003      11     1266      73     1437      61    N      0    24    58   \n",
      "3    2003      11     1296      56     1457      50    N      0    18    38   \n",
      "4    2003      11     1400      77     1208      71    N      0    30    61   \n",
      "\n",
      "   ...  LFGA3  LFTM  LFTA  LOR  LDR  LAst  LTO  LStl  LBlk  LPF  \n",
      "0  ...     10    16    22   10   22     8   18     9     2   20  \n",
      "1  ...     24     9    20   20   25     7   12     8     6   16  \n",
      "2  ...     26    14    23   31   22     9   12     2     5   23  \n",
      "3  ...     22     8    15   17   20     9   19     4     3   23  \n",
      "4  ...     16    17    27   21   15    12   10     7     1   14  \n",
      "\n",
      "[5 rows x 34 columns] \n",
      "\n",
      "\n",
      "Tourney Detailed Dataset Sample:\n",
      "   Season  DayNum  WTeamID  WScore  LTeamID  LScore WLoc  NumOT  WFGM  WFGA  \\\n",
      "0    2003     134     1421      92     1411      84    N      1    32    69   \n",
      "1    2003     136     1112      80     1436      51    N      0    31    66   \n",
      "2    2003     136     1113      84     1272      71    N      0    31    59   \n",
      "3    2003     136     1141      79     1166      73    N      0    29    53   \n",
      "4    2003     136     1143      76     1301      74    N      1    27    64   \n",
      "\n",
      "   ...  LFGA3  LFTM  LFTA  LOR  LDR  LAst  LTO  LStl  LBlk  LPF  \n",
      "0  ...     31    14    31   17   28    16   15     5     0   22  \n",
      "1  ...     16     7     7    8   26    12   17    10     3   15  \n",
      "2  ...     28    14    21   20   22    11   12     2     5   18  \n",
      "3  ...     17    12    17   14   17    20   21     6     6   21  \n",
      "4  ...     21    15    20   10   26    16   14     5     8   19  \n",
      "\n",
      "[5 rows x 34 columns] \n",
      "\n"
     ]
    }
   ],
   "execution_count": 135
  },
  {
   "metadata": {
    "ExecuteTime": {
     "end_time": "2025-03-07T18:19:07.406239Z",
     "start_time": "2025-03-07T18:19:07.375408Z"
    }
   },
   "cell_type": "code",
   "source": [
    "# Compute Home Court Bonus (1 if the winning team played at home, 0 otherwise)\n",
    "tourney_results[\"HomeWinBonus\"] = (tourney_results[\"WLoc\"] == \"H\").astype(int)"
   ],
   "id": "a88bf2dc6e4d1a0e",
   "outputs": [],
   "execution_count": 136
  },
  {
   "metadata": {
    "ExecuteTime": {
     "end_time": "2025-03-07T18:19:38.327044Z",
     "start_time": "2025-03-07T18:19:38.269909Z"
    }
   },
   "cell_type": "code",
   "source": [
    "# Using 'dataframe' instead of 'df'\n",
    "for name, dataframe in datasets.items():\n",
    "    print(f\"{name} Dataset: {dataframe.shape[0]} rows, {dataframe.shape[1]} columns\")\n"
   ],
   "id": "4789edf5c5009ab4",
   "outputs": [
    {
     "name": "stdout",
     "output_type": "stream",
     "text": [
      "Teams Dataset: 380 rows, 4 columns\n",
      "Seasons Dataset: 41 rows, 6 columns\n",
      "Tourney Seeds Dataset: 2558 rows, 3 columns\n",
      "Regular Season Results Dataset: 191796 rows, 8 columns\n",
      "Tourney Results Dataset: 2518 rows, 9 columns\n",
      "Massey Rankings Dataset: 106401 rows, 5 columns\n",
      "Regular Season Detailed Dataset: 117748 rows, 34 columns\n",
      "Tourney Detailed Dataset: 1382 rows, 34 columns\n"
     ]
    }
   ],
   "execution_count": 137
  },
  {
   "metadata": {
    "ExecuteTime": {
     "end_time": "2025-03-07T18:19:57.058525Z",
     "start_time": "2025-03-07T18:19:56.556835Z"
    }
   },
   "cell_type": "code",
   "source": [
    "for name, dataframe in datasets.items():\n",
    "    print(f\"\\n{name} Dataset - Unique Values per Column:\")\n",
    "    for column in dataframe.columns:\n",
    "        unique_values = dataframe[column].unique()\n",
    "        print(f\"{column}: {len(unique_values)} unique values\")\n"
   ],
   "id": "24b384aabc71af89",
   "outputs": [
    {
     "name": "stdout",
     "output_type": "stream",
     "text": [
      "\n",
      "Teams Dataset - Unique Values per Column:\n",
      "TeamID: 380 unique values\n",
      "TeamName: 380 unique values\n",
      "FirstD1Season: 32 unique values\n",
      "LastD1Season: 14 unique values\n",
      "\n",
      "Seasons Dataset - Unique Values per Column:\n",
      "Season: 41 unique values\n",
      "DayZero: 41 unique values\n",
      "RegionW: 5 unique values\n",
      "RegionX: 9 unique values\n",
      "RegionY: 8 unique values\n",
      "RegionZ: 9 unique values\n",
      "\n",
      "Tourney Seeds Dataset - Unique Values per Column:\n",
      "Season: 39 unique values\n",
      "Seed: 94 unique values\n",
      "TeamID: 309 unique values\n",
      "\n",
      "Regular Season Results Dataset - Unique Values per Column:\n",
      "Season: 41 unique values\n",
      "DayNum: 133 unique values\n",
      "WTeamID: 380 unique values\n",
      "WScore: 130 unique values\n",
      "LTeamID: 380 unique values\n",
      "LScore: 119 unique values\n",
      "WLoc: 3 unique values\n",
      "NumOT: 7 unique values\n",
      "\n",
      "Tourney Results Dataset - Unique Values per Column:\n",
      "Season: 39 unique values\n",
      "DayNum: 15 unique values\n",
      "WTeamID: 217 unique values\n",
      "WScore: 78 unique values\n",
      "LTeamID: 309 unique values\n",
      "LScore: 73 unique values\n",
      "WLoc: 1 unique values\n",
      "NumOT: 4 unique values\n",
      "HomeWinBonus: 1 unique values\n",
      "\n",
      "Massey Rankings Dataset - Unique Values per Column:\n",
      "Season: 1 unique values\n",
      "RankingDayNum: 41 unique values\n",
      "SystemName: 36 unique values\n",
      "TeamID: 328 unique values\n",
      "OrdinalRank: 328 unique values\n",
      "\n",
      "Regular Season Detailed Dataset - Unique Values per Column:\n",
      "Season: 23 unique values\n",
      "DayNum: 133 unique values\n",
      "WTeamID: 371 unique values\n",
      "WScore: 104 unique values\n",
      "LTeamID: 371 unique values\n",
      "LScore: 105 unique values\n",
      "WLoc: 3 unique values\n",
      "NumOT: 7 unique values\n",
      "WFGM: 45 unique values\n",
      "WFGA: 73 unique values\n",
      "WFGM3: 27 unique values\n",
      "WFGA3: 56 unique values\n",
      "WFTM: 50 unique values\n",
      "WFTA: 66 unique values\n",
      "WOR: 37 unique values\n",
      "WDR: 47 unique values\n",
      "WAst: 39 unique values\n",
      "WTO: 33 unique values\n",
      "WStl: 27 unique values\n",
      "WBlk: 21 unique values\n",
      "WPF: 39 unique values\n",
      "LFGM: 42 unique values\n",
      "LFGA: 75 unique values\n",
      "LFGM3: 23 unique values\n",
      "LFGA3: 57 unique values\n",
      "LFTM: 44 unique values\n",
      "LFTA: 61 unique values\n",
      "LOR: 36 unique values\n",
      "LDR: 44 unique values\n",
      "LAst: 32 unique values\n",
      "LTO: 42 unique values\n",
      "LStl: 23 unique values\n",
      "LBlk: 19 unique values\n",
      "LPF: 42 unique values\n",
      "\n",
      "Tourney Detailed Dataset - Unique Values per Column:\n",
      "Season: 21 unique values\n",
      "DayNum: 15 unique values\n",
      "WTeamID: 177 unique values\n",
      "WScore: 64 unique values\n",
      "LTeamID: 268 unique values\n",
      "LScore: 65 unique values\n",
      "WLoc: 1 unique values\n",
      "NumOT: 3 unique values\n",
      "WFGM: 30 unique values\n",
      "WFGA: 45 unique values\n",
      "WFGM3: 19 unique values\n",
      "WFGA3: 37 unique values\n",
      "WFTM: 37 unique values\n",
      "WFTA: 47 unique values\n",
      "WOR: 26 unique values\n",
      "WDR: 31 unique values\n",
      "WAst: 27 unique values\n",
      "WTO: 26 unique values\n",
      "WStl: 18 unique values\n",
      "WBlk: 15 unique values\n",
      "WPF: 26 unique values\n",
      "LFGM: 26 unique values\n",
      "LFGA: 46 unique values\n",
      "LFGM3: 18 unique values\n",
      "LFGA3: 37 unique values\n",
      "LFTM: 32 unique values\n",
      "LFTA: 39 unique values\n",
      "LOR: 27 unique values\n",
      "LDR: 29 unique values\n",
      "LAst: 22 unique values\n",
      "LTO: 24 unique values\n",
      "LStl: 18 unique values\n",
      "LBlk: 13 unique values\n",
      "LPF: 27 unique values\n"
     ]
    }
   ],
   "execution_count": 138
  },
  {
   "metadata": {
    "ExecuteTime": {
     "end_time": "2025-03-07T18:20:13.174625Z",
     "start_time": "2025-03-07T18:20:12.201957Z"
    }
   },
   "cell_type": "code",
   "source": [
    "for name, dataframe in datasets.items():\n",
    "    duplicate_count = dataframe.duplicated().sum()\n",
    "    print(f\"{name} Dataset - Duplicate Rows: {duplicate_count}\")\n"
   ],
   "id": "8b86f1993528830e",
   "outputs": [
    {
     "name": "stdout",
     "output_type": "stream",
     "text": [
      "Teams Dataset - Duplicate Rows: 0\n",
      "Seasons Dataset - Duplicate Rows: 0\n",
      "Tourney Seeds Dataset - Duplicate Rows: 0\n",
      "Regular Season Results Dataset - Duplicate Rows: 0\n",
      "Tourney Results Dataset - Duplicate Rows: 0\n",
      "Massey Rankings Dataset - Duplicate Rows: 0\n",
      "Regular Season Detailed Dataset - Duplicate Rows: 0\n",
      "Tourney Detailed Dataset - Duplicate Rows: 0\n"
     ]
    }
   ],
   "execution_count": 139
  },
  {
   "metadata": {
    "jupyter": {
     "is_executing": true
    }
   },
   "cell_type": "code",
   "source": [
    "for name, dataframe in datasets.items():\n",
    "    print(f\"\\n{name} Dataset - Summary Statistics:\")\n",
    "    print(dataframe.describe(), \"\\n\")\n"
   ],
   "id": "9d39380d426de6e6",
   "outputs": [],
   "execution_count": null
  },
  {
   "metadata": {
    "ExecuteTime": {
     "end_time": "2025-03-07T10:19:56.646078Z",
     "start_time": "2025-03-07T10:19:55.085320Z"
    }
   },
   "cell_type": "code",
   "source": [
    "for name, dataframe in datasets.items():\n",
    "    missing_values = dataframe.isnull().sum()\n",
    "    total_missing = missing_values.sum()\n",
    "    \n",
    "    if total_missing > 0:\n",
    "        print(f\"\\n{name} Dataset - Missing Values:\")\n",
    "        print(missing_values[missing_values > 0])  # Show only columns with missing values\n",
    "    else:\n",
    "        print(f\"\\n{name} Dataset - No Missing Values.\")\n"
   ],
   "id": "a9c9844279201e4a",
   "outputs": [
    {
     "name": "stdout",
     "output_type": "stream",
     "text": [
      "\n",
      "Teams Dataset - No Missing Values.\n",
      "\n",
      "Seasons Dataset - No Missing Values.\n",
      "\n",
      "Tourney Seeds Dataset - No Missing Values.\n",
      "\n",
      "Regular Season Results Dataset - No Missing Values.\n",
      "\n",
      "Tourney Results Dataset - No Missing Values.\n",
      "\n",
      "Massey Rankings Dataset - No Missing Values.\n",
      "\n",
      "Regular Season Detailed Dataset - No Missing Values.\n",
      "\n",
      "Tourney Detailed Dataset - No Missing Values.\n"
     ]
    }
   ],
   "execution_count": 74
  },
  {
   "metadata": {
    "ExecuteTime": {
     "end_time": "2025-03-07T18:20:51.621230Z",
     "start_time": "2025-03-07T18:20:51.528041Z"
    }
   },
   "cell_type": "code",
   "source": [
    "# Merge Tournament Seeds to get Seed information for both winning and losing teams\n",
    "tourney_results = datasets[\"Tourney Results\"]\n",
    "tourney_seeds = datasets[\"Tourney Seeds\"]\n",
    "\n",
    "tourney_results = tourney_results.merge(\n",
    "    tourney_seeds, how=\"left\", left_on=[\"Season\", \"WTeamID\"], right_on=[\"Season\", \"TeamID\"]\n",
    ").rename(columns={\"Seed\": \"WSeed\"})\n",
    "\n",
    "tourney_results = tourney_results.merge(\n",
    "    tourney_seeds, how=\"left\", left_on=[\"Season\", \"LTeamID\"], right_on=[\"Season\", \"TeamID\"]\n",
    ").rename(columns={\"Seed\": \"LSeed\"})\n",
    "\n",
    "# Drop duplicate TeamID columns\n",
    "tourney_results.drop(columns=[\"TeamID_x\", \"TeamID_y\"], inplace=True)\n",
    "\n",
    "print(\"✅ Tournament Seeds Merged\")\n"
   ],
   "id": "d044f480341f6667",
   "outputs": [
    {
     "name": "stdout",
     "output_type": "stream",
     "text": [
      "✅ Tournament Seeds Merged\n",
      "✅ Tournament Seeds Merged\n"
     ]
    }
   ],
   "execution_count": 142
  },
  {
   "metadata": {
    "ExecuteTime": {
     "end_time": "2025-03-07T18:21:15.328648Z",
     "start_time": "2025-03-07T18:21:14.950357Z"
    }
   },
   "cell_type": "code",
   "source": [
    "regular_season_results = datasets[\"Regular Season Results\"]\n",
    "\n",
    "# Aggregate season performance stats\n",
    "regular_season_summary = regular_season_results.groupby([\"Season\", \"WTeamID\"]).agg({\n",
    "    \"WScore\": \"mean\",  # Average points scored\n",
    "    \"LScore\": \"mean\",  # Average points conceded\n",
    "    \"NumOT\": \"mean\"    # Average OT games played\n",
    "}).reset_index().rename(columns={\"WTeamID\": \"TeamID\", \"WScore\": \"AvgPointsScored\", \"LScore\": \"AvgPointsConceded\", \"NumOT\": \"AvgOT\"})\n",
    "\n",
    "# Merge season stats with the tournament data (for winning teams)\n",
    "tourney_results = tourney_results.merge(\n",
    "    regular_season_summary, how=\"left\", left_on=[\"Season\", \"WTeamID\"], right_on=[\"Season\", \"TeamID\"]\n",
    ").rename(columns={\"AvgPointsScored\": \"WAvgPointsScored\", \"AvgPointsConceded\": \"WAvgPointsConceded\", \"AvgOT\": \"WAvgOT\"})\n",
    "\n",
    "# Merge season stats with the tournament data (for losing teams)\n",
    "tourney_results = tourney_results.merge(\n",
    "    regular_season_summary, how=\"left\", left_on=[\"Season\", \"LTeamID\"], right_on=[\"Season\", \"TeamID\"]\n",
    ").rename(columns={\"AvgPointsScored\": \"LAvgPointsScored\", \"AvgPointsConceded\": \"LAvgPointsConceded\", \"AvgOT\": \"LAvgOT\"})\n",
    "\n",
    "# Drop duplicate TeamID columns\n",
    "tourney_results.drop(columns=[\"TeamID_x\", \"TeamID_y\"], inplace=True)\n",
    "\n",
    "print(\"✅ Regular Season Performance Merged\")\n"
   ],
   "id": "c128fee62551cea9",
   "outputs": [
    {
     "name": "stdout",
     "output_type": "stream",
     "text": [
      "✅ Regular Season Performance Merged\n"
     ]
    }
   ],
   "execution_count": 143
  },
  {
   "metadata": {
    "ExecuteTime": {
     "end_time": "2025-03-07T18:21:25.280635Z",
     "start_time": "2025-03-07T18:21:25.130348Z"
    }
   },
   "cell_type": "code",
   "source": [
    "massey_rankings = datasets[\"Massey Rankings\"]\n",
    "\n",
    "# Select the last ranking before the tournament (DayNum = 133)\n",
    "latest_rankings = massey_rankings[massey_rankings[\"RankingDayNum\"] == 133]\n",
    "\n",
    "# Merge rankings for winning teams\n",
    "tourney_results = tourney_results.merge(\n",
    "    latest_rankings, how=\"left\", left_on=[\"Season\", \"WTeamID\"], right_on=[\"Season\", \"TeamID\"]\n",
    ").rename(columns={\"OrdinalRank\": \"WTeamRank\"})\n",
    "\n",
    "# Merge rankings for losing teams\n",
    "tourney_results = tourney_results.merge(\n",
    "    latest_rankings, how=\"left\", left_on=[\"Season\", \"LTeamID\"], right_on=[\"Season\", \"TeamID\"]\n",
    ").rename(columns={\"OrdinalRank\": \"LTeamRank\"})\n",
    "\n",
    "# Drop duplicate TeamID columns\n",
    "tourney_results.drop(columns=[\"TeamID_x\", \"TeamID_y\"], inplace=True)\n",
    "\n",
    "print(\"✅ Massey Rankings Merged\")\n"
   ],
   "id": "b120eb17198fb1d0",
   "outputs": [
    {
     "name": "stdout",
     "output_type": "stream",
     "text": [
      "✅ Massey Rankings Merged\n"
     ]
    }
   ],
   "execution_count": 144
  },
  {
   "metadata": {
    "ExecuteTime": {
     "end_time": "2025-03-07T18:21:36.866591Z",
     "start_time": "2025-03-07T18:21:36.773013Z"
    }
   },
   "cell_type": "code",
   "source": [
    "# Display merged dataset structure\n",
    "print(\"\\nMerged Dataset Sample:\")\n",
    "print(tourney_results.head())\n",
    "\n",
    "# Check for missing values after merging\n",
    "missing_values = tourney_results.isnull().sum().sum()\n",
    "print(f\"\\nTotal Missing Values After Merging: {missing_values}\")\n"
   ],
   "id": "ef54987ab1b4f8a3",
   "outputs": [
    {
     "name": "stdout",
     "output_type": "stream",
     "text": [
      "\n",
      "Merged Dataset Sample:\n",
      "   Season  DayNum  WTeamID  WScore  LTeamID  LScore WLoc  NumOT  HomeWinBonus  \\\n",
      "0    1985     136     1116      63     1234      54    N      0             0   \n",
      "1    1985     136     1120      59     1345      58    N      0             0   \n",
      "2    1985     136     1207      68     1250      43    N      0             0   \n",
      "3    1985     136     1229      58     1425      55    N      0             0   \n",
      "4    1985     136     1242      49     1325      38    N      0             0   \n",
      "\n",
      "  WSeed  ...    WAvgOT  LAvgPointsScored  LAvgPointsConceded    LAvgOT  \\\n",
      "0   X09  ...  0.000000         76.250000           57.800000  0.000000   \n",
      "1   Z11  ...  0.055556         70.058824           57.529412  0.000000   \n",
      "2   W01  ...  0.000000         74.727273           68.727273  0.090909   \n",
      "3   Y09  ...  0.000000         72.947368           63.526316  0.000000   \n",
      "4   Z03  ...  0.000000         67.450000           58.650000  0.000000   \n",
      "\n",
      "   RankingDayNum_x  SystemName_x  WTeamRank  RankingDayNum_y SystemName_y  \\\n",
      "0              NaN           NaN        NaN              NaN          NaN   \n",
      "1              NaN           NaN        NaN              NaN          NaN   \n",
      "2              NaN           NaN        NaN              NaN          NaN   \n",
      "3              NaN           NaN        NaN              NaN          NaN   \n",
      "4              NaN           NaN        NaN              NaN          NaN   \n",
      "\n",
      "   LTeamRank  \n",
      "0        NaN  \n",
      "1        NaN  \n",
      "2        NaN  \n",
      "3        NaN  \n",
      "4        NaN  \n",
      "\n",
      "[5 rows x 23 columns]\n",
      "\n",
      "Total Missing Values After Merging: 15108\n"
     ]
    }
   ],
   "execution_count": 145
  },
  {
   "metadata": {
    "ExecuteTime": {
     "end_time": "2025-03-07T18:21:54.617711Z",
     "start_time": "2025-03-07T18:21:54.552635Z"
    }
   },
   "cell_type": "code",
   "source": [
    "missing_summary = tourney_results.isnull().sum()\n",
    "print(missing_summary[missing_summary > 0])\n"
   ],
   "id": "5ea97b3d2574bfff",
   "outputs": [
    {
     "name": "stdout",
     "output_type": "stream",
     "text": [
      "RankingDayNum_x    2518\n",
      "SystemName_x       2518\n",
      "WTeamRank          2518\n",
      "RankingDayNum_y    2518\n",
      "SystemName_y       2518\n",
      "LTeamRank          2518\n",
      "dtype: int64\n"
     ]
    }
   ],
   "execution_count": 146
  },
  {
   "metadata": {
    "ExecuteTime": {
     "end_time": "2025-03-07T18:22:26.518714Z",
     "start_time": "2025-03-07T18:22:26.458031Z"
    }
   },
   "cell_type": "code",
   "source": "tourney_results.drop(columns=[\"RankingDayNum_x\", \"SystemName_x\", \"RankingDayNum_y\", \"SystemName_y\"], inplace=True)\n",
   "id": "a961c5e5d03a2c59",
   "outputs": [],
   "execution_count": 147
  },
  {
   "metadata": {
    "ExecuteTime": {
     "end_time": "2025-03-07T18:22:26.829409Z",
     "start_time": "2025-03-07T18:22:26.797430Z"
    }
   },
   "cell_type": "code",
   "source": "print(\"\\nTotal Missing Values After Fixes:\", tourney_results.isnull().sum().sum())\n",
   "id": "cf457bfa824f769e",
   "outputs": [
    {
     "name": "stdout",
     "output_type": "stream",
     "text": [
      "\n",
      "Total Missing Values After Fixes: 5036\n"
     ]
    }
   ],
   "execution_count": 148
  },
  {
   "metadata": {
    "ExecuteTime": {
     "end_time": "2025-03-07T18:22:40.491674Z",
     "start_time": "2025-03-07T18:22:40.457050Z"
    }
   },
   "cell_type": "code",
   "source": [
    "missing_summary = tourney_results.isnull().sum()\n",
    "print(missing_summary[missing_summary > 0])"
   ],
   "id": "5d8a2832197884f1",
   "outputs": [
    {
     "name": "stdout",
     "output_type": "stream",
     "text": [
      "WTeamRank    2518\n",
      "LTeamRank    2518\n",
      "dtype: int64\n"
     ]
    }
   ],
   "execution_count": 149
  },
  {
   "metadata": {
    "ExecuteTime": {
     "end_time": "2025-03-07T18:22:48.777515Z",
     "start_time": "2025-03-07T18:22:48.707397Z"
    }
   },
   "cell_type": "code",
   "source": [
    "# Display rows where WTeamRank or LTeamRank is missing\n",
    "missing_ranks = tourney_results[tourney_results[\"WTeamRank\"].isnull() | tourney_results[\"LTeamRank\"].isnull()]\n",
    "print(missing_ranks[[\"Season\", \"WTeamID\", \"WTeamRank\", \"LTeamID\", \"LTeamRank\"]].head(10))"
   ],
   "id": "5e2255cd572d8ef1",
   "outputs": [
    {
     "name": "stdout",
     "output_type": "stream",
     "text": [
      "   Season  WTeamID  WTeamRank  LTeamID  LTeamRank\n",
      "0    1985     1116        NaN     1234        NaN\n",
      "1    1985     1120        NaN     1345        NaN\n",
      "2    1985     1207        NaN     1250        NaN\n",
      "3    1985     1229        NaN     1425        NaN\n",
      "4    1985     1242        NaN     1325        NaN\n",
      "5    1985     1246        NaN     1449        NaN\n",
      "6    1985     1256        NaN     1338        NaN\n",
      "7    1985     1260        NaN     1233        NaN\n",
      "8    1985     1314        NaN     1292        NaN\n",
      "9    1985     1323        NaN     1333        NaN\n"
     ]
    }
   ],
   "execution_count": 150
  },
  {
   "metadata": {
    "ExecuteTime": {
     "end_time": "2025-03-07T18:22:55.782876Z",
     "start_time": "2025-03-07T18:22:55.755160Z"
    }
   },
   "cell_type": "code",
   "source": [
    "# Show unique values in team rankings\n",
    "print(\"Unique Winning Team Ranks:\", tourney_results[\"WTeamRank\"].dropna().unique()[:15])  # Show first 15 unique values\n",
    "print(\"Unique Losing Team Ranks:\", tourney_results[\"LTeamRank\"].dropna().unique()[:15])  # Show first 15 unique values\n"
   ],
   "id": "9cce0ba6a16cfb49",
   "outputs": [
    {
     "name": "stdout",
     "output_type": "stream",
     "text": [
      "Unique Winning Team Ranks: []\n",
      "Unique Losing Team Ranks: []\n"
     ]
    }
   ],
   "execution_count": 151
  },
  {
   "metadata": {
    "ExecuteTime": {
     "end_time": "2025-03-07T18:23:09.145418Z",
     "start_time": "2025-03-07T18:23:09.119914Z"
    }
   },
   "cell_type": "code",
   "source": [
    "print(\"Winning Team Rank Range: \", tourney_results[\"WTeamRank\"].min(), \"-\", tourney_results[\"WTeamRank\"].max())\n",
    "print(\"Losing Team Rank Range: \", tourney_results[\"LTeamRank\"].min(), \"-\", tourney_results[\"LTeamRank\"].max())\n"
   ],
   "id": "b0c425f74e6ff29c",
   "outputs": [
    {
     "name": "stdout",
     "output_type": "stream",
     "text": [
      "Winning Team Rank Range:  nan - nan\n",
      "Losing Team Rank Range:  nan - nan\n"
     ]
    }
   ],
   "execution_count": 152
  },
  {
   "metadata": {
    "ExecuteTime": {
     "end_time": "2025-03-07T18:23:10.501192Z",
     "start_time": "2025-03-07T18:23:09.319415Z"
    }
   },
   "cell_type": "code",
   "source": [
    "import matplotlib.pyplot as plt\n",
    "\n",
    "# Plot histogram for Winning Team Rank\n",
    "plt.figure(figsize=(12, 5))\n",
    "plt.hist(tourney_results[\"WTeamRank\"].dropna(), bins=30, alpha=0.7, color=\"blue\", label=\"WTeamRank\")\n",
    "plt.hist(tourney_results[\"LTeamRank\"].dropna(), bins=30, alpha=0.7, color=\"red\", label=\"LTeamRank\")\n",
    "plt.xlabel(\"Team Rank\")\n",
    "plt.ylabel(\"Frequency\")\n",
    "plt.title(\"Distribution of Team Rankings\")\n",
    "plt.legend()\n",
    "plt.show()\n"
   ],
   "id": "b298bf979ca4f94d",
   "outputs": [
    {
     "data": {
      "text/plain": [
       "<Figure size 1200x500 with 1 Axes>"
      ],
      "image/png": "[encoded data removed]"
     },
     "metadata": {},
     "output_type": "display_data"
    }
   ],
   "execution_count": 153
  },
  {
   "metadata": {
    "ExecuteTime": {
     "end_time": "2025-03-07T18:23:16.662591Z",
     "start_time": "2025-03-07T18:23:16.617624Z"
    }
   },
   "cell_type": "code",
   "source": [
    "# Fill missing team rankings with 350 to indicate unranked teams\n",
    "tourney_results[\"WTeamRank\"].fillna(350, inplace=True)\n",
    "tourney_results[\"LTeamRank\"].fillna(350, inplace=True)\n",
    "\n",
    "# Verify no missing values remain\n",
    "print(\"Total Missing Values After Fix:\", tourney_results.isnull().sum().sum())\n"
   ],
   "id": "c92bbdf1f025ddc4",
   "outputs": [
    {
     "name": "stdout",
     "output_type": "stream",
     "text": [
      "Total Missing Values After Fix: 0\n"
     ]
    },
    {
     "name": "stderr",
     "output_type": "stream",
     "text": [
      "C:\\Users\\Emmanuel Okunfolami\\AppData\\Local\\Temp\\ipykernel_11704\\2288531159.py:2: FutureWarning: A value is trying to be set on a copy of a DataFrame or Series through chained assignment using an inplace method.\n",
      "The behavior will change in pandas 3.0. This inplace method will never work because the intermediate object on which we are setting values always behaves as a copy.\n",
      "\n",
      "For example, when doing 'df[col].method(value, inplace=True)', try using 'df.method({col: value}, inplace=True)' or df[col] = df[col].method(value) instead, to perform the operation inplace on the original object.\n",
      "\n",
      "\n",
      "  tourney_results[\"WTeamRank\"].fillna(350, inplace=True)\n",
      "C:\\Users\\Emmanuel Okunfolami\\AppData\\Local\\Temp\\ipykernel_11704\\2288531159.py:3: FutureWarning: A value is trying to be set on a copy of a DataFrame or Series through chained assignment using an inplace method.\n",
      "The behavior will change in pandas 3.0. This inplace method will never work because the intermediate object on which we are setting values always behaves as a copy.\n",
      "\n",
      "For example, when doing 'df[col].method(value, inplace=True)', try using 'df.method({col: value}, inplace=True)' or df[col] = df[col].method(value) instead, to perform the operation inplace on the original object.\n",
      "\n",
      "\n",
      "  tourney_results[\"LTeamRank\"].fillna(350, inplace=True)\n"
     ]
    }
   ],
   "execution_count": 154
  },
  {
   "metadata": {
    "ExecuteTime": {
     "end_time": "2025-03-07T18:23:23.377945Z",
     "start_time": "2025-03-07T18:23:23.266594Z"
    }
   },
   "cell_type": "code",
   "source": [
    "import re\n",
    "\n",
    "# Function to clean seed values\n",
    "def clean_seed(seed):\n",
    "    if pd.isna(seed):  # If value is NaN, return NaN\n",
    "        return None\n",
    "    seed_num = re.sub(\"[^0-9]\", \"\", seed)  # Remove non-numeric characters\n",
    "    return int(seed_num)  # Convert to integer\n",
    "\n",
    "# Apply function to clean both columns\n",
    "tourney_results[\"WSeed\"] = tourney_results[\"WSeed\"].apply(clean_seed)\n",
    "tourney_results[\"LSeed\"] = tourney_results[\"LSeed\"].apply(clean_seed)\n",
    "\n",
    "# Now compute Seed Difference\n",
    "tourney_results[\"SeedDiff\"] = tourney_results[\"WSeed\"] - tourney_results[\"LSeed\"]\n",
    "\n",
    "# Display sample values to confirm fix\n",
    "print(tourney_results[[\"WSeed\", \"LSeed\", \"SeedDiff\"]].head())\n"
   ],
   "id": "3cee0a6ce40dec54",
   "outputs": [
    {
     "name": "stdout",
     "output_type": "stream",
     "text": [
      "   WSeed  LSeed  SeedDiff\n",
      "0      9      8         1\n",
      "1     11      6         5\n",
      "2      1     16       -15\n",
      "3      9      8         1\n",
      "4      3     14       -11\n"
     ]
    }
   ],
   "execution_count": 155
  },
  {
   "metadata": {
    "ExecuteTime": {
     "end_time": "2025-03-07T18:23:29.687984Z",
     "start_time": "2025-03-07T18:23:29.655304Z"
    }
   },
   "cell_type": "code",
   "source": "tourney_results[\"RankDiff\"] = tourney_results[\"WTeamRank\"] - tourney_results[\"LTeamRank\"]",
   "id": "de82cc8097733856",
   "outputs": [],
   "execution_count": 156
  },
  {
   "metadata": {
    "ExecuteTime": {
     "end_time": "2025-03-07T18:23:35.843725Z",
     "start_time": "2025-03-07T18:23:35.808085Z"
    }
   },
   "cell_type": "code",
   "source": [
    "tourney_results[\"W_OffensiveRating\"] = tourney_results[\"WAvgPointsScored\"] - tourney_results[\"LAvgPointsConceded\"]\n",
    "tourney_results[\"L_OffensiveRating\"] = tourney_results[\"LAvgPointsScored\"] - tourney_results[\"WAvgPointsConceded\"]\n",
    "\n",
    "tourney_results[\"W_DefensiveRating\"] = tourney_results[\"WAvgPointsConceded\"] - tourney_results[\"LAvgPointsScored\"]\n",
    "tourney_results[\"L_DefensiveRating\"] = tourney_results[\"LAvgPointsConceded\"] - tourney_results[\"WAvgPointsScored\"]"
   ],
   "id": "30d83d62e64eb7d6",
   "outputs": [],
   "execution_count": 157
  },
  {
   "metadata": {
    "ExecuteTime": {
     "end_time": "2025-03-07T18:23:42.484527Z",
     "start_time": "2025-03-07T18:23:42.463235Z"
    }
   },
   "cell_type": "code",
   "source": "tourney_results[\"WinLabel\"] = 1  # Since this dataset contains only winning teams\n",
   "id": "5a1a22695470bcea",
   "outputs": [],
   "execution_count": 158
  },
  {
   "metadata": {
    "ExecuteTime": {
     "end_time": "2025-03-07T18:23:49.670146Z",
     "start_time": "2025-03-07T18:23:49.557650Z"
    }
   },
   "cell_type": "code",
   "source": [
    "# Select final features for modeling\n",
    "features = [\n",
    "    \"SeedDiff\", \"RankDiff\",\n",
    "    \"W_OffensiveRating\", \"L_OffensiveRating\",\n",
    "    \"W_DefensiveRating\", \"L_DefensiveRating\", \"HomeWinBonus\"\n",
    "]\n",
    "\n",
    "X = tourney_results[features]  # Independent variables\n",
    "y = tourney_results[\"WinLabel\"]  # Target variable (always 1 in this dataset)\n"
   ],
   "id": "34bf365cec6eae05",
   "outputs": [],
   "execution_count": 159
  },
  {
   "metadata": {
    "ExecuteTime": {
     "end_time": "2025-03-07T18:23:57.187816Z",
     "start_time": "2025-03-07T18:23:57.020363Z"
    }
   },
   "cell_type": "code",
   "source": [
    "from sklearn.preprocessing import StandardScaler\n",
    "\n",
    "# Initialize scaler\n",
    "scaler = StandardScaler()\n",
    "\n",
    "# Fit and transform the feature matrix\n",
    "X_scaled = scaler.fit_transform(X)\n"
   ],
   "id": "28a52d5ac17209b2",
   "outputs": [],
   "execution_count": 160
  },
  {
   "metadata": {
    "ExecuteTime": {
     "end_time": "2025-03-07T18:24:05.590725Z",
     "start_time": "2025-03-07T18:24:03.897630Z"
    }
   },
   "cell_type": "code",
   "source": [
    "import numpy as np\n",
    "import pandas as pd\n",
    "\n",
    "# Create a flipped version of the dataset\n",
    "tourney_results_flipped = tourney_results.copy()\n",
    "\n",
    "# Swap winning and losing team features\n",
    "tourney_results_flipped[\"SeedDiff\"] *= -1\n",
    "tourney_results_flipped[\"RankDiff\"] *= -1\n",
    "tourney_results_flipped[\"W_OffensiveRating\"], tourney_results_flipped[\"L_OffensiveRating\"] = \\\n",
    "    tourney_results_flipped[\"L_OffensiveRating\"], tourney_results_flipped[\"W_OffensiveRating\"]\n",
    "\n",
    "tourney_results_flipped[\"W_DefensiveRating\"], tourney_results_flipped[\"L_DefensiveRating\"] = \\\n",
    "    tourney_results_flipped[\"L_DefensiveRating\"], tourney_results_flipped[\"W_DefensiveRating\"]\n",
    "\n",
    "# Change target variable (flip winners)\n",
    "tourney_results_flipped[\"WinLabel\"] = 0  # These are now losing team matchups\n",
    "\n",
    "# Combine original and flipped datasets\n",
    "final_dataset = pd.concat([tourney_results, tourney_results_flipped], ignore_index=True)\n",
    "\n",
    "# Shuffle data\n",
    "final_dataset = final_dataset.sample(frac=1, random_state=42).reset_index(drop=True)\n",
    "\n",
    "print(f\"✅ Final Dataset Balanced: {final_dataset['WinLabel'].value_counts()}\")\n"
   ],
   "id": "369cef310dbac50b",
   "outputs": [
    {
     "name": "stdout",
     "output_type": "stream",
     "text": [
      "✅ Final Dataset Balanced: WinLabel\n",
      "0    2518\n",
      "1    2518\n",
      "Name: count, dtype: int64\n"
     ]
    }
   ],
   "execution_count": 161
  },
  {
   "metadata": {
    "ExecuteTime": {
     "end_time": "2025-03-07T18:24:07.473954Z",
     "start_time": "2025-03-07T18:24:07.304609Z"
    }
   },
   "cell_type": "code",
   "source": [
    "from sklearn.model_selection import train_test_split\n",
    "\n",
    "# Select final features again after balancing dataset\n",
    "X = final_dataset[features]\n",
    "y = final_dataset[\"WinLabel\"]\n",
    "\n",
    "# Normalize again\n",
    "X_scaled = scaler.fit_transform(X)\n",
    "\n",
    "# Split data (80% training, 20% testing)\n",
    "X_train, X_test, y_train, y_test = train_test_split(X_scaled, y, test_size=0.2, random_state=42)\n",
    "\n",
    "print(f\"✅ Training Set Size: {X_train.shape[0]}\")\n",
    "print(f\"✅ Testing Set Size: {X_test.shape[0]}\")\n"
   ],
   "id": "2c99616d6341dd0a",
   "outputs": [
    {
     "name": "stdout",
     "output_type": "stream",
     "text": [
      "✅ Training Set Size: 4028\n",
      "✅ Testing Set Size: 1008\n"
     ]
    }
   ],
   "execution_count": 162
  },
  {
   "metadata": {
    "ExecuteTime": {
     "end_time": "2025-03-07T18:24:08.823077Z",
     "start_time": "2025-03-07T18:24:08.662723Z"
    }
   },
   "cell_type": "code",
   "source": [
    "from sklearn.linear_model import LogisticRegression\n",
    "\n",
    "# Initialize the model\n",
    "log_reg = LogisticRegression(random_state=42)\n",
    "\n",
    "# Train the model on the training data\n",
    "log_reg.fit(X_train, y_train)\n",
    "\n",
    "print(\"✅ Logistic Regression Model Trained Successfully!\")\n"
   ],
   "id": "a152bc610197a789",
   "outputs": [
    {
     "name": "stdout",
     "output_type": "stream",
     "text": [
      "✅ Logistic Regression Model Trained Successfully!\n"
     ]
    }
   ],
   "execution_count": 163
  },
  {
   "metadata": {
    "ExecuteTime": {
     "end_time": "2025-03-07T18:24:09.015201Z",
     "start_time": "2025-03-07T18:24:08.982051Z"
    }
   },
   "cell_type": "code",
   "source": [
    "# Predict the probabilities for the test set\n",
    "y_pred_proba = log_reg.predict_proba(X_test)[:, 1]  # Probability of WinLabel = 1\n",
    "\n",
    "# Convert to binary predictions (0 or 1)\n",
    "y_pred = log_reg.predict(X_test)\n"
   ],
   "id": "a86d0927a25ce014",
   "outputs": [],
   "execution_count": 164
  },
  {
   "metadata": {
    "ExecuteTime": {
     "end_time": "2025-03-07T18:24:09.717824Z",
     "start_time": "2025-03-07T18:24:09.686928Z"
    }
   },
   "cell_type": "code",
   "source": [
    "from sklearn.metrics import accuracy_score\n",
    "\n",
    "# Calculate accuracy\n",
    "accuracy = accuracy_score(y_test, y_pred)\n",
    "print(f\"✅ Model Accuracy: {accuracy:.4f}\")\n"
   ],
   "id": "73d4d156a10f7163",
   "outputs": [
    {
     "name": "stdout",
     "output_type": "stream",
     "text": [
      "✅ Model Accuracy: 0.7014\n"
     ]
    }
   ],
   "execution_count": 165
  },
  {
   "metadata": {
    "ExecuteTime": {
     "end_time": "2025-03-07T18:24:11.064332Z",
     "start_time": "2025-03-07T18:24:11.015008Z"
    }
   },
   "cell_type": "code",
   "source": [
    "from sklearn.metrics import log_loss\n",
    "\n",
    "# Calculate log loss (lower is better)\n",
    "logloss = log_loss(y_test, y_pred_proba)\n",
    "print(f\"✅ Log Loss: {logloss:.4f}\")\n"
   ],
   "id": "8c1a59ff12174727",
   "outputs": [
    {
     "name": "stdout",
     "output_type": "stream",
     "text": [
      "✅ Log Loss: 0.5598\n"
     ]
    }
   ],
   "execution_count": 166
  },
  {
   "metadata": {
    "ExecuteTime": {
     "end_time": "2025-03-07T18:24:11.301488Z",
     "start_time": "2025-03-07T18:24:11.273384Z"
    }
   },
   "cell_type": "code",
   "source": [
    "from sklearn.metrics import confusion_matrix\n",
    "\n",
    "# Generate confusion matrix\n",
    "conf_matrix = confusion_matrix(y_test, y_pred)\n",
    "print(\"\\nConfusion Matrix:\\n\", conf_matrix)\n"
   ],
   "id": "7a67006d56f8325b",
   "outputs": [
    {
     "name": "stdout",
     "output_type": "stream",
     "text": [
      "\n",
      "Confusion Matrix:\n",
      " [[349 138]\n",
      " [163 358]]\n"
     ]
    }
   ],
   "execution_count": 167
  },
  {
   "metadata": {
    "ExecuteTime": {
     "end_time": "2025-03-07T18:24:12.343087Z",
     "start_time": "2025-03-07T18:24:12.306522Z"
    }
   },
   "cell_type": "code",
   "source": [
    "import numpy as np\n",
    "\n",
    "# Get feature importance (Logistic Regression Coefficients)\n",
    "feature_importance = np.abs(log_reg.coef_[0])  # Use absolute values\n",
    "\n",
    "# Map feature names to importance\n",
    "feature_importance_dict = dict(zip(features, feature_importance))\n",
    "\n",
    "# Sort by importance\n",
    "sorted_features = sorted(feature_importance_dict.items(), key=lambda x: x[1], reverse=True)\n",
    "\n",
    "# Display feature importance\n",
    "print(\"🔍 Feature Importance (Most Impactful Features First):\")\n",
    "for feature, importance in sorted_features:\n",
    "    print(f\"{feature}: {importance:.4f}\")\n"
   ],
   "id": "cd9bc9fa24a8bbad",
   "outputs": [
    {
     "name": "stdout",
     "output_type": "stream",
     "text": [
      "🔍 Feature Importance (Most Impactful Features First):\n",
      "SeedDiff: 1.1958\n",
      "L_DefensiveRating: 0.0397\n",
      "W_OffensiveRating: 0.0397\n",
      "W_DefensiveRating: 0.0053\n",
      "L_OffensiveRating: 0.0053\n",
      "RankDiff: 0.0000\n",
      "HomeWinBonus: 0.0000\n"
     ]
    }
   ],
   "execution_count": 168
  },
  {
   "metadata": {
    "ExecuteTime": {
     "end_time": "2025-03-07T18:24:26.564796Z",
     "start_time": "2025-03-07T18:24:13.120265Z"
    }
   },
   "cell_type": "code",
   "source": "!pip install xgboost\n",
   "id": "ccd865bc93d9dd52",
   "outputs": [
    {
     "name": "stdout",
     "output_type": "stream",
     "text": [
      "Requirement already satisfied: xgboost in c:\\users\\emmanuel okunfolami\\pycharmprojects\\march mania\\.venv\\lib\\site-packages (2.1.4)\n",
      "Requirement already satisfied: numpy in c:\\users\\emmanuel okunfolami\\pycharmprojects\\march mania\\.venv\\lib\\site-packages (from xgboost) (2.2.3)\n",
      "Requirement already satisfied: scipy in c:\\users\\emmanuel okunfolami\\pycharmprojects\\march mania\\.venv\\lib\\site-packages (from xgboost) (1.15.2)\n"
     ]
    },
    {
     "name": "stderr",
     "output_type": "stream",
     "text": [
      "\n",
      "[notice] A new release of pip is available: 23.2.1 -> 25.0.1\n",
      "[notice] To update, run: python.exe -m pip install --upgrade pip\n"
     ]
    }
   ],
   "execution_count": 169
  },
  {
   "metadata": {
    "ExecuteTime": {
     "end_time": "2025-03-07T18:24:27.231249Z",
     "start_time": "2025-03-07T18:24:27.215574Z"
    }
   },
   "cell_type": "code",
   "source": [
    "from xgboost import XGBClassifier\n",
    "from sklearn.metrics import accuracy_score, log_loss, confusion_matrix\n",
    "\n"
   ],
   "id": "2a1501a57e9c7bdb",
   "outputs": [],
   "execution_count": 170
  },
  {
   "metadata": {
    "ExecuteTime": {
     "end_time": "2025-03-07T18:24:29.269709Z",
     "start_time": "2025-03-07T18:24:28.501090Z"
    }
   },
   "cell_type": "code",
   "source": [
    "# ✅ Step 1: Initialize XGBoost Classifier\n",
    "xgb_model = XGBClassifier(\n",
    "    objective=\"binary:logistic\",  # Binary classification task\n",
    "    eval_metric=\"logloss\",        # Log loss is better for probability-based evaluation\n",
    "    use_label_encoder=False,      # Avoids unnecessary warnings\n",
    "    random_state=42\n",
    ")\n",
    "\n",
    "# ✅ Step 2: Train the Model\n",
    "xgb_model.fit(X_train, y_train)\n",
    "\n",
    "print(\"✅ XGBoost Model Trained Successfully!\")\n"
   ],
   "id": "9c600031ca6ac49d",
   "outputs": [
    {
     "name": "stderr",
     "output_type": "stream",
     "text": [
      "C:\\Users\\Emmanuel Okunfolami\\PycharmProjects\\March Mania\\.venv\\Lib\\site-packages\\xgboost\\core.py:158: UserWarning: [19:24:28] WARNING: C:\\buildkite-agent\\builds\\buildkite-windows-cpu-autoscaling-group-i-08cbc0333d8d4aae1-1\\xgboost\\xgboost-ci-windows\\src\\learner.cc:740: \n",
      "Parameters: { \"use_label_encoder\" } are not used.\n",
      "\n",
      "  warnings.warn(smsg, UserWarning)\n"
     ]
    },
    {
     "name": "stdout",
     "output_type": "stream",
     "text": [
      "✅ XGBoost Model Trained Successfully!\n"
     ]
    }
   ],
   "execution_count": 171
  },
  {
   "metadata": {
    "ExecuteTime": {
     "end_time": "2025-03-07T18:24:29.458116Z",
     "start_time": "2025-03-07T18:24:29.415009Z"
    }
   },
   "cell_type": "code",
   "source": [
    "# ✅ Step 3: Make Predictions\n",
    "y_pred_proba_xgb = xgb_model.predict_proba(X_test)[:, 1]  # Probability of WinLabel = 1\n",
    "y_pred_xgb = xgb_model.predict(X_test)"
   ],
   "id": "1a598184e0430727",
   "outputs": [],
   "execution_count": 172
  },
  {
   "metadata": {
    "ExecuteTime": {
     "end_time": "2025-03-07T18:24:30.067116Z",
     "start_time": "2025-03-07T18:24:30.047323Z"
    }
   },
   "cell_type": "code",
   "source": [
    "# ✅ Step 4: Evaluate Model Performance\n",
    "# Accuracy Score\n",
    "xgb_accuracy = accuracy_score(y_test, y_pred_xgb)\n",
    "print(f\"✅ XGBoost Model Accuracy: {xgb_accuracy:.4f}\")"
   ],
   "id": "4e1f46d7431f36d1",
   "outputs": [
    {
     "name": "stdout",
     "output_type": "stream",
     "text": [
      "✅ XGBoost Model Accuracy: 0.6627\n"
     ]
    }
   ],
   "execution_count": 173
  },
  {
   "metadata": {
    "ExecuteTime": {
     "end_time": "2025-03-07T18:24:30.629263Z",
     "start_time": "2025-03-07T18:24:30.601650Z"
    }
   },
   "cell_type": "code",
   "source": [
    "# Log Loss Score (lower is better)\n",
    "xgb_logloss = log_loss(y_test, y_pred_proba_xgb)\n",
    "print(f\"✅ XGBoost Log Loss: {xgb_logloss:.4f}\")\n"
   ],
   "id": "b4d5b871bcb60f22",
   "outputs": [
    {
     "name": "stdout",
     "output_type": "stream",
     "text": [
      "✅ XGBoost Log Loss: 0.6373\n"
     ]
    }
   ],
   "execution_count": 174
  },
  {
   "metadata": {
    "ExecuteTime": {
     "end_time": "2025-03-07T18:24:31.218886Z",
     "start_time": "2025-03-07T18:24:31.195528Z"
    }
   },
   "cell_type": "code",
   "source": [
    "# Confusion Matrix\n",
    "xgb_conf_matrix = confusion_matrix(y_test, y_pred_xgb)\n",
    "print(\"\\nConfusion Matrix (XGBoost):\\n\", xgb_conf_matrix)"
   ],
   "id": "b8bbaaa00033fca7",
   "outputs": [
    {
     "name": "stdout",
     "output_type": "stream",
     "text": [
      "\n",
      "Confusion Matrix (XGBoost):\n",
      " [[315 172]\n",
      " [168 353]]\n"
     ]
    }
   ],
   "execution_count": 175
  },
  {
   "metadata": {
    "ExecuteTime": {
     "end_time": "2025-03-07T18:24:32.414354Z",
     "start_time": "2025-03-07T18:24:32.375074Z"
    }
   },
   "cell_type": "code",
   "source": [
    "import joblib\n",
    "\n",
    "# Save the trained model\n",
    "joblib.dump(xgb_model, \"Men_xgboost_march_madness.pkl\")\n",
    "\n",
    "print(\"✅ Model saved as xgboost_march_madness.pkl\")\n"
   ],
   "id": "f29d4fa01860f5d6",
   "outputs": [
    {
     "name": "stdout",
     "output_type": "stream",
     "text": [
      "✅ Model saved as xgboost_march_madness.pkl\n"
     ]
    }
   ],
   "execution_count": 176
  },
  {
   "metadata": {
    "ExecuteTime": {
     "end_time": "2025-03-07T18:24:33.152455Z",
     "start_time": "2025-03-07T18:24:33.112499Z"
    }
   },
   "cell_type": "code",
   "source": [
    "import itertools\n",
    "import pandas as pd\n",
    "\n",
    "# Get the latest tournament season\n",
    "latest_season = tourney_seeds[\"Season\"].max()\n",
    "\n",
    "# Get all teams that qualified for the latest season\n",
    "tournament_teams = tourney_seeds[tourney_seeds[\"Season\"] == latest_season][\"TeamID\"].tolist()\n",
    "\n",
    "# Generate all possible matchups (Team A vs. Team B)\n",
    "matchups = list(itertools.combinations(tournament_teams, 2))  # All possible pairs\n",
    "\n",
    "# Create a dataframe for matchups\n",
    "new_matchups = pd.DataFrame(matchups, columns=[\"TeamA\", \"TeamB\"])\n",
    "new_matchups[\"Season\"] = latest_season  # Assign the latest season\n",
    "\n",
    "print(f\"✅ {len(new_matchups)} matchups generated for Season {latest_season}\")\n"
   ],
   "id": "28146f3781480cb4",
   "outputs": [
    {
     "name": "stdout",
     "output_type": "stream",
     "text": [
      "✅ 2278 matchups generated for Season 2024\n"
     ]
    }
   ],
   "execution_count": 177
  },
  {
   "metadata": {
    "ExecuteTime": {
     "end_time": "2025-03-07T18:24:33.272796Z",
     "start_time": "2025-03-07T18:24:33.228139Z"
    }
   },
   "cell_type": "code",
   "source": [
    "import pandas as pd\n",
    "\n",
    "# Get latest season\n",
    "latest_season = tourney_seeds[\"Season\"].max()\n",
    "\n",
    "# Get all teams in the tournament\n",
    "tournament_teams = tourney_seeds[tourney_seeds[\"Season\"] == latest_season]\n",
    "\n",
    "# Sort teams by seed and pair top seeds with bottom seeds\n",
    "sorted_teams = tournament_teams.sort_values(by=\"Seed\")\n",
    "\n",
    "# Create realistic matchups (e.g., 1 vs 16, 2 vs 15)\n",
    "matchups = []\n",
    "num_teams = len(sorted_teams)\n",
    "for i in range(num_teams // 2):\n",
    "    team_a = sorted_teams.iloc[i][\"TeamID\"]\n",
    "    team_b = sorted_teams.iloc[-(i + 1)][\"TeamID\"]\n",
    "    matchups.append((latest_season, team_a, team_b))\n",
    "\n",
    "# Create dataframe\n",
    "new_matchups = pd.DataFrame(matchups, columns=[\"Season\", \"TeamA\", \"TeamB\"])\n",
    "print(f\"✅ {len(new_matchups)} realistic matchups generated for season {latest_season}\")\n"
   ],
   "id": "3177ddcefd6f5529",
   "outputs": [
    {
     "name": "stdout",
     "output_type": "stream",
     "text": [
      "✅ 34 realistic matchups generated for season 2024\n"
     ]
    }
   ],
   "execution_count": 178
  },
  {
   "metadata": {
    "ExecuteTime": {
     "end_time": "2025-03-07T18:24:33.890761Z",
     "start_time": "2025-03-07T18:24:33.869048Z"
    }
   },
   "cell_type": "code",
   "source": [
    "print(tourney_seeds.head())  # Check if the dataset is properly loaded\n",
    "print(\"Columns in tourney_seeds:\", tourney_seeds.columns.tolist())  # Verify column names\n"
   ],
   "id": "39fa179ec0488525",
   "outputs": [
    {
     "name": "stdout",
     "output_type": "stream",
     "text": [
      "   Season Seed  TeamID\n",
      "0    1985  W01    1207\n",
      "1    1985  W02    1210\n",
      "2    1985  W03    1228\n",
      "3    1985  W04    1260\n",
      "4    1985  W05    1374\n",
      "Columns in tourney_seeds: ['Season', 'Seed', 'TeamID']\n"
     ]
    }
   ],
   "execution_count": 179
  },
  {
   "metadata": {
    "ExecuteTime": {
     "end_time": "2025-03-07T18:24:34.491598Z",
     "start_time": "2025-03-07T18:24:34.425523Z"
    }
   },
   "cell_type": "code",
   "source": [
    "# Merge tournament seeds into matchups\n",
    "new_matchups = new_matchups.merge(\n",
    "    tourney_seeds, how=\"left\", left_on=[\"Season\", \"TeamA\"], right_on=[\"Season\", \"TeamID\"]\n",
    ").rename(columns={\"Seed\": \"ASeed\"}).drop(columns=[\"TeamID\"])\n",
    "\n",
    "new_matchups = new_matchups.merge(\n",
    "    tourney_seeds, how=\"left\", left_on=[\"Season\", \"TeamB\"], right_on=[\"Season\", \"TeamID\"]\n",
    ").rename(columns={\"Seed\": \"BSeed\"}).drop(columns=[\"TeamID\"])\n",
    "\n",
    "# Check if ASeed and BSeed exist after merging\n",
    "print(new_matchups.head())\n"
   ],
   "id": "4a91a66674d06029",
   "outputs": [
    {
     "name": "stdout",
     "output_type": "stream",
     "text": [
      "   Season  TeamA  TeamB ASeed BSeed\n",
      "0    2024   1163   1255   W01   Z16\n",
      "1    2024   1235   1443   W02   Z15\n",
      "2    2024   1228   1324   W03   Z14\n",
      "3    2024   1120   1436   W04   Z13\n",
      "4    2024   1361   1241   W05   Z12\n"
     ]
    }
   ],
   "execution_count": 180
  },
  {
   "metadata": {
    "ExecuteTime": {
     "end_time": "2025-03-07T18:24:35.055807Z",
     "start_time": "2025-03-07T18:24:35.037465Z"
    }
   },
   "cell_type": "code",
   "source": [
    "import re\n",
    "\n",
    "# Function to clean seed values\n",
    "def clean_seed(seed):\n",
    "    if isinstance(seed, float) and pd.isna(seed):  # Handle NaN values safely\n",
    "        return None\n",
    "    return int(re.sub(r\"[^0-9]\", \"\", str(seed)))  # Remove non-numeric characters and convert to int\n",
    "\n",
    "# Apply function to clean both columns correctly\n",
    "new_matchups[\"ASeed\"] = new_matchups[\"ASeed\"].astype(str).apply(clean_seed)\n",
    "new_matchups[\"BSeed\"] = new_matchups[\"BSeed\"].astype(str).apply(clean_seed)\n"
   ],
   "id": "a3b5cf3b756a5204",
   "outputs": [],
   "execution_count": 181
  },
  {
   "metadata": {
    "ExecuteTime": {
     "end_time": "2025-03-07T18:24:35.641103Z",
     "start_time": "2025-03-07T18:24:35.622499Z"
    }
   },
   "cell_type": "code",
   "source": "print(new_matchups.columns)\n",
   "id": "143df57f9b2c00d3",
   "outputs": [
    {
     "name": "stdout",
     "output_type": "stream",
     "text": [
      "Index(['Season', 'TeamA', 'TeamB', 'ASeed', 'BSeed'], dtype='object')\n"
     ]
    }
   ],
   "execution_count": 182
  },
  {
   "metadata": {
    "ExecuteTime": {
     "end_time": "2025-03-07T18:24:36.311212Z",
     "start_time": "2025-03-07T18:24:36.290706Z"
    }
   },
   "cell_type": "code",
   "source": [
    "# Remove duplicate columns if they exist\n",
    "new_matchups = new_matchups.loc[:, ~new_matchups.columns.duplicated()]\n"
   ],
   "id": "6eab51242bab8874",
   "outputs": [],
   "execution_count": 183
  },
  {
   "metadata": {
    "ExecuteTime": {
     "end_time": "2025-03-07T18:24:37.013167Z",
     "start_time": "2025-03-07T18:24:36.976549Z"
    }
   },
   "cell_type": "code",
   "source": [
    "# Convert to numeric (after ensuring no duplicate columns)\n",
    "new_matchups[\"ASeed\"] = pd.to_numeric(new_matchups[\"ASeed\"], errors=\"coerce\").fillna(17).astype(int)\n",
    "new_matchups[\"BSeed\"] = pd.to_numeric(new_matchups[\"BSeed\"], errors=\"coerce\").fillna(17).astype(int)\n",
    "\n",
    "# Compute Seed Difference\n",
    "new_matchups[\"SeedDiff\"] = new_matchups[\"ASeed\"] - new_matchups[\"BSeed\"]\n",
    "\n",
    "# Display results\n",
    "print(new_matchups[[\"Season\", \"TeamA\", \"TeamB\", \"ASeed\", \"BSeed\", \"SeedDiff\"]].head())\n"
   ],
   "id": "19d71c1a267a4992",
   "outputs": [
    {
     "name": "stdout",
     "output_type": "stream",
     "text": [
      "   Season  TeamA  TeamB  ASeed  BSeed  SeedDiff\n",
      "0    2024   1163   1255      1     16       -15\n",
      "1    2024   1235   1443      2     15       -13\n",
      "2    2024   1228   1324      3     14       -11\n",
      "3    2024   1120   1436      4     13        -9\n",
      "4    2024   1361   1241      5     12        -7\n"
     ]
    }
   ],
   "execution_count": 184
  },
  {
   "metadata": {
    "ExecuteTime": {
     "end_time": "2025-03-07T18:24:37.566397Z",
     "start_time": "2025-03-07T18:24:37.538204Z"
    }
   },
   "cell_type": "code",
   "source": [
    "print(new_matchups.dtypes)  # Check if ASeed and BSeed are integers\n",
    "print(new_matchups[[\"Season\", \"TeamA\", \"TeamB\", \"SeedDiff\"]].head())  # Verify results\n"
   ],
   "id": "73e5e58592ccb1f5",
   "outputs": [
    {
     "name": "stdout",
     "output_type": "stream",
     "text": [
      "Season      int64\n",
      "TeamA       int64\n",
      "TeamB       int64\n",
      "ASeed       int64\n",
      "BSeed       int64\n",
      "SeedDiff    int64\n",
      "dtype: object\n",
      "   Season  TeamA  TeamB  SeedDiff\n",
      "0    2024   1163   1255       -15\n",
      "1    2024   1235   1443       -13\n",
      "2    2024   1228   1324       -11\n",
      "3    2024   1120   1436        -9\n",
      "4    2024   1361   1241        -7\n"
     ]
    }
   ],
   "execution_count": 185
  },
  {
   "metadata": {
    "ExecuteTime": {
     "end_time": "2025-03-07T18:24:38.189682Z",
     "start_time": "2025-03-07T18:24:38.168658Z"
    }
   },
   "cell_type": "code",
   "source": [
    "required_features = [\n",
    "    \"SeedDiff\", \"RankDiff\", \n",
    "    \"W_OffensiveRating\", \"L_OffensiveRating\",\n",
    "    \"W_DefensiveRating\", \"L_DefensiveRating\", \"HomeWinBonus\"\n",
    "]\n"
   ],
   "id": "20ff7bd9239f430d",
   "outputs": [],
   "execution_count": 186
  },
  {
   "metadata": {
    "ExecuteTime": {
     "end_time": "2025-03-07T18:24:39.326877Z",
     "start_time": "2025-03-07T18:24:39.299908Z"
    }
   },
   "cell_type": "code",
   "source": [
    "print(\"Available features in new data:\", new_matchups.columns.tolist())\n",
    "\n"
   ],
   "id": "9ba2ee164e5ed692",
   "outputs": [
    {
     "name": "stdout",
     "output_type": "stream",
     "text": [
      "Available features in new data: ['Season', 'TeamA', 'TeamB', 'ASeed', 'BSeed', 'SeedDiff']\n"
     ]
    }
   ],
   "execution_count": 187
  },
  {
   "metadata": {
    "ExecuteTime": {
     "end_time": "2025-03-07T18:24:41.547548Z",
     "start_time": "2025-03-07T18:24:41.472759Z"
    }
   },
   "cell_type": "code",
   "source": [
    "# Define the required features used during training\n",
    "required_features = [\n",
    "    \"SeedDiff\", \"RankDiff\", \n",
    "    \"W_OffensiveRating\", \"L_OffensiveRating\",\n",
    "    \"W_DefensiveRating\", \"L_DefensiveRating\", \"HomeWinBonus\"\n",
    "]\n",
    "\n",
    "# Add missing features and set them to neutral (0)\n",
    "for feature in required_features:\n",
    "    if feature not in new_matchups.columns:\n",
    "        new_matchups[feature] = 0  # Neutral value\n",
    "\n",
    "# Select final feature set\n",
    "X_new = new_matchups[required_features]\n",
    "\n",
    "# Standardize features using the same scaler from training\n",
    "X_new_scaled = scaler.transform(X_new)\n",
    "\n",
    "# Make predictions using the trained XGBoost model\n",
    "new_matchups[\"WinProbability\"] = xgb_model.predict_proba(X_new_scaled)[:, 1]\n",
    "\n",
    "# Display predictions\n",
    "print(new_matchups[[\"Season\", \"TeamA\", \"TeamB\", \"WinProbability\"]].head())\n"
   ],
   "id": "3a1938e901c41491",
   "outputs": [
    {
     "name": "stdout",
     "output_type": "stream",
     "text": [
      "   Season  TeamA  TeamB  WinProbability\n",
      "0    2024   1163   1255        0.966221\n",
      "1    2024   1235   1443        0.869868\n",
      "2    2024   1228   1324        0.843376\n",
      "3    2024   1120   1436        0.606100\n",
      "4    2024   1361   1241        0.793692\n"
     ]
    }
   ],
   "execution_count": 188
  },
  {
   "metadata": {
    "ExecuteTime": {
     "end_time": "2025-03-07T18:24:41.700095Z",
     "start_time": "2025-03-07T18:24:41.664536Z"
    }
   },
   "cell_type": "code",
   "source": [
    "new_matchups[[\"Season\", \"TeamA\", \"TeamB\", \"WinProbability\"]].to_csv(\"MarchMadnessPredictions.csv\", index=False)\n",
    "print(\"✅ Predictions saved to MarchMadnessPredictions.csv\")\n"
   ],
   "id": "2fb4cfb78df96c15",
   "outputs": [
    {
     "name": "stdout",
     "output_type": "stream",
     "text": [
      "✅ Predictions saved to MarchMadnessPredictions.csv\n"
     ]
    }
   ],
   "execution_count": 189
  },
  {
   "metadata": {
    "ExecuteTime": {
     "end_time": "2025-03-07T18:25:59.402293Z",
     "start_time": "2025-03-07T18:25:58.116743Z"
    }
   },
   "cell_type": "code",
   "source": [
    "# Determine if predictions are for men's or women's tournament\n",
    "first_team_id = predictions[\"TeamA\"].iloc[0]\n",
    "\n",
    "if first_team_id in teams[\"TeamID\"].values:\n",
    "    print(\"📢 Using Men's Teams for Merging\")\n",
    "    team_data = teams  # Use MTeams\n",
    "elif first_team_id in w_teams[\"TeamID\"].values:\n",
    "    print(\"📢 Using Women's Teams for Merging\")\n",
    "    team_data = w_teams  # Use WTeams\n",
    "else:\n",
    "    raise ValueError(\"🚨 Error: Team IDs do not match MTeams or WTeams!\")\n",
    "\n",
    "# Merge Team Names for TeamA\n",
    "predictions = predictions.merge(team_data, left_on=\"TeamA\", right_on=\"TeamID\").rename(columns={\"TeamName\": \"TeamA_Name\"}).drop(columns=[\"TeamID\"])\n",
    "\n",
    "# Merge Team Names for TeamB\n",
    "predictions = predictions.merge(team_data, left_on=\"TeamB\", right_on=\"TeamID\").rename(columns={\"TeamName\": \"TeamB_Name\"}).drop(columns=[\"TeamID\"])\n",
    "\n",
    "# Reorder and display the results\n",
    "predictions = predictions[[\"Season\", \"TeamA_Name\", \"TeamB_Name\", \"WinProbability\"]]\n",
    "print(predictions.head(10))\n"
   ],
   "id": "b321b9116784d250",
   "outputs": [
    {
     "ename": "KeyError",
     "evalue": "'TeamA'",
     "output_type": "error",
     "traceback": [
      "\u001B[31m---------------------------------------------------------------------------\u001B[39m",
      "\u001B[31mKeyError\u001B[39m                                  Traceback (most recent call last)",
      "\u001B[36mFile \u001B[39m\u001B[32m~\\PycharmProjects\\March Mania\\.venv\\Lib\\site-packages\\pandas\\core\\indexes\\base.py:3805\u001B[39m, in \u001B[36mIndex.get_loc\u001B[39m\u001B[34m(self, key)\u001B[39m\n\u001B[32m   3804\u001B[39m \u001B[38;5;28;01mtry\u001B[39;00m:\n\u001B[32m-> \u001B[39m\u001B[32m3805\u001B[39m     \u001B[38;5;28;01mreturn\u001B[39;00m \u001B[38;5;28;43mself\u001B[39;49m\u001B[43m.\u001B[49m\u001B[43m_engine\u001B[49m\u001B[43m.\u001B[49m\u001B[43mget_loc\u001B[49m\u001B[43m(\u001B[49m\u001B[43mcasted_key\u001B[49m\u001B[43m)\u001B[49m\n\u001B[32m   3806\u001B[39m \u001B[38;5;28;01mexcept\u001B[39;00m \u001B[38;5;167;01mKeyError\u001B[39;00m \u001B[38;5;28;01mas\u001B[39;00m err:\n",
      "\u001B[36mFile \u001B[39m\u001B[32mindex.pyx:167\u001B[39m, in \u001B[36mpandas._libs.index.IndexEngine.get_loc\u001B[39m\u001B[34m()\u001B[39m\n",
      "\u001B[36mFile \u001B[39m\u001B[32mindex.pyx:196\u001B[39m, in \u001B[36mpandas._libs.index.IndexEngine.get_loc\u001B[39m\u001B[34m()\u001B[39m\n",
      "\u001B[36mFile \u001B[39m\u001B[32mpandas\\\\_libs\\\\hashtable_class_helper.pxi:7081\u001B[39m, in \u001B[36mpandas._libs.hashtable.PyObjectHashTable.get_item\u001B[39m\u001B[34m()\u001B[39m\n",
      "\u001B[36mFile \u001B[39m\u001B[32mpandas\\\\_libs\\\\hashtable_class_helper.pxi:7089\u001B[39m, in \u001B[36mpandas._libs.hashtable.PyObjectHashTable.get_item\u001B[39m\u001B[34m()\u001B[39m\n",
      "\u001B[31mKeyError\u001B[39m: 'TeamA'",
      "\nThe above exception was the direct cause of the following exception:\n",
      "\u001B[31mKeyError\u001B[39m                                  Traceback (most recent call last)",
      "\u001B[36mCell\u001B[39m\u001B[36m \u001B[39m\u001B[32mIn[191]\u001B[39m\u001B[32m, line 2\u001B[39m\n\u001B[32m      1\u001B[39m \u001B[38;5;66;03m# Determine if predictions are for men's or women's tournament\u001B[39;00m\n\u001B[32m----> \u001B[39m\u001B[32m2\u001B[39m first_team_id = \u001B[43mpredictions\u001B[49m\u001B[43m[\u001B[49m\u001B[33;43m\"\u001B[39;49m\u001B[33;43mTeamA\u001B[39;49m\u001B[33;43m\"\u001B[39;49m\u001B[43m]\u001B[49m.iloc[\u001B[32m0\u001B[39m]\n\u001B[32m      4\u001B[39m \u001B[38;5;28;01mif\u001B[39;00m first_team_id \u001B[38;5;129;01min\u001B[39;00m teams[\u001B[33m\"\u001B[39m\u001B[33mTeamID\u001B[39m\u001B[33m\"\u001B[39m].values:\n\u001B[32m      5\u001B[39m     \u001B[38;5;28mprint\u001B[39m(\u001B[33m\"\u001B[39m\u001B[33m📢 Using Men\u001B[39m\u001B[33m'\u001B[39m\u001B[33ms Teams for Merging\u001B[39m\u001B[33m\"\u001B[39m)\n",
      "\u001B[36mFile \u001B[39m\u001B[32m~\\PycharmProjects\\March Mania\\.venv\\Lib\\site-packages\\pandas\\core\\frame.py:4102\u001B[39m, in \u001B[36mDataFrame.__getitem__\u001B[39m\u001B[34m(self, key)\u001B[39m\n\u001B[32m   4100\u001B[39m \u001B[38;5;28;01mif\u001B[39;00m \u001B[38;5;28mself\u001B[39m.columns.nlevels > \u001B[32m1\u001B[39m:\n\u001B[32m   4101\u001B[39m     \u001B[38;5;28;01mreturn\u001B[39;00m \u001B[38;5;28mself\u001B[39m._getitem_multilevel(key)\n\u001B[32m-> \u001B[39m\u001B[32m4102\u001B[39m indexer = \u001B[38;5;28;43mself\u001B[39;49m\u001B[43m.\u001B[49m\u001B[43mcolumns\u001B[49m\u001B[43m.\u001B[49m\u001B[43mget_loc\u001B[49m\u001B[43m(\u001B[49m\u001B[43mkey\u001B[49m\u001B[43m)\u001B[49m\n\u001B[32m   4103\u001B[39m \u001B[38;5;28;01mif\u001B[39;00m is_integer(indexer):\n\u001B[32m   4104\u001B[39m     indexer = [indexer]\n",
      "\u001B[36mFile \u001B[39m\u001B[32m~\\PycharmProjects\\March Mania\\.venv\\Lib\\site-packages\\pandas\\core\\indexes\\base.py:3812\u001B[39m, in \u001B[36mIndex.get_loc\u001B[39m\u001B[34m(self, key)\u001B[39m\n\u001B[32m   3807\u001B[39m     \u001B[38;5;28;01mif\u001B[39;00m \u001B[38;5;28misinstance\u001B[39m(casted_key, \u001B[38;5;28mslice\u001B[39m) \u001B[38;5;129;01mor\u001B[39;00m (\n\u001B[32m   3808\u001B[39m         \u001B[38;5;28misinstance\u001B[39m(casted_key, abc.Iterable)\n\u001B[32m   3809\u001B[39m         \u001B[38;5;129;01mand\u001B[39;00m \u001B[38;5;28many\u001B[39m(\u001B[38;5;28misinstance\u001B[39m(x, \u001B[38;5;28mslice\u001B[39m) \u001B[38;5;28;01mfor\u001B[39;00m x \u001B[38;5;129;01min\u001B[39;00m casted_key)\n\u001B[32m   3810\u001B[39m     ):\n\u001B[32m   3811\u001B[39m         \u001B[38;5;28;01mraise\u001B[39;00m InvalidIndexError(key)\n\u001B[32m-> \u001B[39m\u001B[32m3812\u001B[39m     \u001B[38;5;28;01mraise\u001B[39;00m \u001B[38;5;167;01mKeyError\u001B[39;00m(key) \u001B[38;5;28;01mfrom\u001B[39;00m\u001B[38;5;250m \u001B[39m\u001B[34;01merr\u001B[39;00m\n\u001B[32m   3813\u001B[39m \u001B[38;5;28;01mexcept\u001B[39;00m \u001B[38;5;167;01mTypeError\u001B[39;00m:\n\u001B[32m   3814\u001B[39m     \u001B[38;5;66;03m# If we have a listlike key, _check_indexing_error will raise\u001B[39;00m\n\u001B[32m   3815\u001B[39m     \u001B[38;5;66;03m#  InvalidIndexError. Otherwise we fall through and re-raise\u001B[39;00m\n\u001B[32m   3816\u001B[39m     \u001B[38;5;66;03m#  the TypeError.\u001B[39;00m\n\u001B[32m   3817\u001B[39m     \u001B[38;5;28mself\u001B[39m._check_indexing_error(key)\n",
      "\u001B[31mKeyError\u001B[39m: 'TeamA'"
     ]
    }
   ],
   "execution_count": 191
  },
  {
   "metadata": {
    "ExecuteTime": {
     "end_time": "2025-03-07T18:24:44.366141300Z",
     "start_time": "2025-03-07T10:42:23.970274Z"
    }
   },
   "cell_type": "code",
   "source": [
    "# Create a new column for the predicted winner\n",
    "predictions[\"Predicted_Winner\"] = predictions.apply(\n",
    "    lambda row: row[\"TeamA_Name\"] if row[\"WinProbability\"] > 0.5 else row[\"TeamB_Name\"], axis=1\n",
    ")\n",
    "\n",
    "# Create a column for the underdog\n",
    "predictions[\"Underdog\"] = predictions.apply(\n",
    "    lambda row: row[\"TeamB_Name\"] if row[\"WinProbability\"] > 0.5 else row[\"TeamA_Name\"], axis=1\n",
    ")\n",
    "\n",
    "# Reorder columns for readability\n",
    "predictions = predictions[[\"Season\", \"Predicted_Winner\", \"Underdog\", \"WinProbability\"]]\n",
    "\n",
    "# Display the updated predictions\n",
    "print(predictions.head(10))\n"
   ],
   "id": "53121a75aa626a37",
   "outputs": [
    {
     "name": "stdout",
     "output_type": "stream",
     "text": [
      "   Season Predicted_Winner       Underdog  WinProbability\n",
      "0    2024      Connecticut       Longwood        0.993938\n",
      "1    2024          Iowa St            WKU        0.991711\n",
      "2    2024         Illinois        Oakland        0.988784\n",
      "3    2024           Auburn        Vermont        0.984519\n",
      "4    2024     San Diego St  James Madison        0.985040\n",
      "5    2024              BYU       NC State        0.856828\n",
      "6    2024         Colorado  Washington St        0.359003\n",
      "7    2024         Boise St    FL Atlantic        0.443296\n",
      "8    2024        Texas A&M   Northwestern        0.364887\n",
      "9    2024         Nebraska          Drake        0.179098\n"
     ]
    }
   ],
   "execution_count": 124
  },
  {
   "metadata": {
    "ExecuteTime": {
     "end_time": "2025-03-07T18:24:44.460677300Z",
     "start_time": "2025-03-07T17:39:57.851329Z"
    }
   },
   "cell_type": "code",
   "source": "!pip install seaborn\n",
   "id": "3f0c1b0d45f343e0",
   "outputs": [
    {
     "name": "stdout",
     "output_type": "stream",
     "text": [
      "Collecting seaborn\n",
      "  Obtaining dependency information for seaborn from https://files.pythonhosted.org/packages/83/11/00d3c3dfc25ad54e731d91449895a79e4bf2384dc3ac01809010ba88f6d5/seaborn-0.13.2-py3-none-any.whl.metadata\n",
      "  Downloading seaborn-0.13.2-py3-none-any.whl.metadata (5.4 kB)\n",
      "Requirement already satisfied: numpy!=1.24.0,>=1.20 in c:\\users\\emmanuel okunfolami\\pycharmprojects\\march mania\\.venv\\lib\\site-packages (from seaborn) (2.2.3)\n",
      "Requirement already satisfied: pandas>=1.2 in c:\\users\\emmanuel okunfolami\\pycharmprojects\\march mania\\.venv\\lib\\site-packages (from seaborn) (2.2.3)\n",
      "Requirement already satisfied: matplotlib!=3.6.1,>=3.4 in c:\\users\\emmanuel okunfolami\\pycharmprojects\\march mania\\.venv\\lib\\site-packages (from seaborn) (3.10.1)\n",
      "Requirement already satisfied: contourpy>=1.0.1 in c:\\users\\emmanuel okunfolami\\pycharmprojects\\march mania\\.venv\\lib\\site-packages (from matplotlib!=3.6.1,>=3.4->seaborn) (1.3.1)\n",
      "Requirement already satisfied: cycler>=0.10 in c:\\users\\emmanuel okunfolami\\pycharmprojects\\march mania\\.venv\\lib\\site-packages (from matplotlib!=3.6.1,>=3.4->seaborn) (0.12.1)\n",
      "Requirement already satisfied: fonttools>=4.22.0 in c:\\users\\emmanuel okunfolami\\pycharmprojects\\march mania\\.venv\\lib\\site-packages (from matplotlib!=3.6.1,>=3.4->seaborn) (4.56.0)\n",
      "Requirement already satisfied: kiwisolver>=1.3.1 in c:\\users\\emmanuel okunfolami\\pycharmprojects\\march mania\\.venv\\lib\\site-packages (from matplotlib!=3.6.1,>=3.4->seaborn) (1.4.8)\n",
      "Requirement already satisfied: packaging>=20.0 in c:\\users\\emmanuel okunfolami\\pycharmprojects\\march mania\\.venv\\lib\\site-packages (from matplotlib!=3.6.1,>=3.4->seaborn) (24.2)\n",
      "Requirement already satisfied: pillow>=8 in c:\\users\\emmanuel okunfolami\\pycharmprojects\\march mania\\.venv\\lib\\site-packages (from matplotlib!=3.6.1,>=3.4->seaborn) (11.1.0)\n",
      "Requirement already satisfied: pyparsing>=2.3.1 in c:\\users\\emmanuel okunfolami\\pycharmprojects\\march mania\\.venv\\lib\\site-packages (from matplotlib!=3.6.1,>=3.4->seaborn) (3.2.1)\n",
      "Requirement already satisfied: python-dateutil>=2.7 in c:\\users\\emmanuel okunfolami\\pycharmprojects\\march mania\\.venv\\lib\\site-packages (from matplotlib!=3.6.1,>=3.4->seaborn) (2.9.0.post0)\n",
      "Requirement already satisfied: pytz>=2020.1 in c:\\users\\emmanuel okunfolami\\pycharmprojects\\march mania\\.venv\\lib\\site-packages (from pandas>=1.2->seaborn) (2025.1)\n",
      "Requirement already satisfied: tzdata>=2022.7 in c:\\users\\emmanuel okunfolami\\pycharmprojects\\march mania\\.venv\\lib\\site-packages (from pandas>=1.2->seaborn) (2025.1)\n",
      "Requirement already satisfied: six>=1.5 in c:\\users\\emmanuel okunfolami\\pycharmprojects\\march mania\\.venv\\lib\\site-packages (from python-dateutil>=2.7->matplotlib!=3.6.1,>=3.4->seaborn) (1.17.0)\n",
      "Downloading seaborn-0.13.2-py3-none-any.whl (294 kB)\n",
      "   ---------------------------------------- 0.0/294.9 kB ? eta -:--:--\n",
      "   ----- ---------------------------------- 41.0/294.9 kB ? eta -:--:--\n",
      "   ------------ --------------------------- 92.2/294.9 kB 1.7 MB/s eta 0:00:01\n",
      "   ---------------------------------- ----- 256.0/294.9 kB 2.6 MB/s eta 0:00:01\n",
      "   ---------------------------------------- 294.9/294.9 kB 2.3 MB/s eta 0:00:00\n",
      "Installing collected packages: seaborn\n",
      "Successfully installed seaborn-0.13.2\n"
     ]
    },
    {
     "name": "stderr",
     "output_type": "stream",
     "text": [
      "\n",
      "[notice] A new release of pip is available: 23.2.1 -> 25.0.1\n",
      "[notice] To update, run: python.exe -m pip install --upgrade pip\n"
     ]
    }
   ],
   "execution_count": 130
  },
  {
   "metadata": {
    "ExecuteTime": {
     "end_time": "2025-03-07T18:24:44.462211800Z",
     "start_time": "2025-03-07T17:38:15.958350Z"
    }
   },
   "cell_type": "code",
   "source": [
    "from xgboost import plot_importance\n",
    "import matplotlib.pyplot as plt\n",
    "\n",
    "plot_importance(xgb_model)\n",
    "plt.title(\"Feature Importance (XGBoost)\")\n",
    "plt.show()\n"
   ],
   "id": "bf0d94816299a91a",
   "outputs": [
    {
     "data": {
      "text/plain": [
       "<Figure size 640x480 with 1 Axes>"
      ],
      "image/png": "[encoded data removed]"
     },
     "metadata": {},
     "output_type": "display_data"
    }
   ],
   "execution_count": 127
  },
  {
   "metadata": {
    "ExecuteTime": {
     "end_time": "2025-03-07T18:24:44.463256300Z",
     "start_time": "2025-03-07T17:40:44.864782Z"
    }
   },
   "cell_type": "code",
   "source": [
    "import seaborn as sns\n",
    "\n",
    "plt.figure(figsize=(10, 6))\n",
    "sns.scatterplot(x=new_matchups[\"SeedDiff\"], y=new_matchups[\"WinProbability\"])\n",
    "plt.xlabel(\"Seed Difference (Higher seed - Lower seed)\")\n",
    "plt.ylabel(\"Win Probability\")\n",
    "plt.title(\"Seed Difference vs. Win Probability\")\n",
    "plt.show()\n"
   ],
   "id": "3cc52ca37dbb0369",
   "outputs": [
    {
     "data": {
      "text/plain": [
       "<Figure size 1000x600 with 1 Axes>"
      ],
      "image/png": "[encoded data removed]"
     },
     "metadata": {},
     "output_type": "display_data"
    }
   ],
   "execution_count": 131
  },
  {
   "metadata": {
    "ExecuteTime": {
     "end_time": "2025-03-07T18:24:44.463256300Z",
     "start_time": "2025-03-07T17:40:51.885649Z"
    }
   },
   "cell_type": "code",
   "source": [
    "import seaborn as sns\n",
    "from sklearn.metrics import confusion_matrix\n",
    "\n",
    "cm = confusion_matrix(y_test, y_pred_xgb)\n",
    "plt.figure(figsize=(6, 5))\n",
    "sns.heatmap(cm, annot=True, fmt=\"d\", cmap=\"Blues\", xticklabels=[\"Loss\", \"Win\"], yticklabels=[\"Loss\", \"Win\"])\n",
    "plt.xlabel(\"Predicted Label\")\n",
    "plt.ylabel(\"True Label\")\n",
    "plt.title(\"Confusion Matrix (XGBoost)\")\n",
    "plt.show()\n"
   ],
   "id": "fc88ad0dbfd1de84",
   "outputs": [
    {
     "data": {
      "text/plain": [
       "<Figure size 600x500 with 2 Axes>"
      ],
      "image/png": "[encoded data removed]"
     },
     "metadata": {},
     "output_type": "display_data"
    }
   ],
   "execution_count": 132
  },
  {
   "metadata": {
    "ExecuteTime": {
     "end_time": "2025-03-07T18:24:44.464257500Z",
     "start_time": "2025-03-07T17:41:42.210074Z"
    }
   },
   "cell_type": "code",
   "source": [
    "plt.figure(figsize=(10, 5))\n",
    "sns.histplot(new_matchups[\"WinProbability\"], bins=30, kde=True)\n",
    "plt.xlabel(\"Win Probability\")\n",
    "plt.ylabel(\"Frequency\")\n",
    "plt.title(\"Distribution of Predicted Win Probabilities\")\n",
    "plt.show()\n"
   ],
   "id": "caab75a9e87df931",
   "outputs": [
    {
     "data": {
      "text/plain": [
       "<Figure size 1000x500 with 1 Axes>"
      ],
      "image/png": "[encoded data removed]"
     },
     "metadata": {},
     "output_type": "display_data"
    }
   ],
   "execution_count": 133
  },
  {
   "metadata": {
    "ExecuteTime": {
     "end_time": "2025-03-07T18:24:44.464257500Z",
     "start_time": "2025-03-07T17:41:43.281167Z"
    }
   },
   "cell_type": "code",
   "source": [
    "plt.figure(figsize=(12, 6))\n",
    "sns.histplot(tourney_seeds[\"Seed\"].astype(str).apply(lambda x: int(re.sub(r\"[A-Za-z]\", \"\", x))), bins=16)\n",
    "plt.xlabel(\"Seed\")\n",
    "plt.ylabel(\"Number of Teams\")\n",
    "plt.title(\"Distribution of Tournament Team Seeds\")\n",
    "plt.show()\n"
   ],
   "id": "28a2ddda4005ae5b",
   "outputs": [
    {
     "data": {
      "text/plain": [
       "<Figure size 1200x600 with 1 Axes>"
      ],
      "image/png": "[encoded data removed]"
     },
     "metadata": {},
     "output_type": "display_data"
    }
   ],
   "execution_count": 134
  }
 ],
 "metadata": {
  "kernelspec": {
   "display_name": "Python 3",
   "language": "python",
   "name": "python3"
  },
  "language_info": {
   "codemirror_mode": {
    "name": "ipython",
    "version": 2
   },
   "file_extension": ".py",
   "mimetype": "text/x-python",
   "name": "python",
   "nbconvert_exporter": "python",
   "pygments_lexer": "ipython2",
   "version": "2.7.6"
  }
 },
 "nbformat": 4,
 "nbformat_minor": 5
}
