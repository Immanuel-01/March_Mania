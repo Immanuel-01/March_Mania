{
 "cells": [
  {
   "cell_type": "code",
   "id": "initial_id",
   "metadata": {
    "collapsed": true,
    "ExecuteTime": {
     "end_time": "2025-03-27T11:04:15.280931Z",
     "start_time": "2025-03-27T11:04:06.991401Z"
    }
   },
   "source": [
    "import pandas as pd\n",
    "import os\n",
    "\n",
    "# Define the base data directory\n",
    "BASE_DIR = \"data\"\n",
    "\n",
    "# Function to load datasets dynamically\n",
    "def load_csv(filename):\n",
    "    return pd.read_csv(os.path.join(BASE_DIR, filename))\n",
    "\n",
    "# Load datasets without adding \"data/\" each time\n",
    "teams = load_csv(\"MTeams.csv\")\n",
    "w_teams = load_csv(\"WTeams.csv\")  # Women's Teams\n",
    "seasons = load_csv(\"MSeasons.csv\")\n",
    "tourney_seeds = load_csv(\"MNCAATourneySeeds.csv\")\n",
    "regular_season_results = load_csv(\"MRegularSeasonCompactResults.csv\")\n",
    "tourney_results = load_csv(\"MNCAATourneyCompactResults.csv\")\n",
    "massey_rankings = load_csv(\"MMasseyOrdinals.csv\")\n",
    "regular_season_detailed = load_csv(\"MRegularSeasonDetailedResults.csv\")\n",
    "tourney_detailed = load_csv(\"MNCAATourneyDetailedResults.csv\")\n",
    "\n",
    "# Verify successful loading\n",
    "datasets = {\n",
    "    \"Teams\": teams,\n",
    "    \"Seasons\": seasons,\n",
    "    \"Tourney Seeds\": tourney_seeds,\n",
    "    \"Regular Season Results\": regular_season_results,\n",
    "    \"Tourney Results\": tourney_results,\n",
    "    \"Massey Rankings\": massey_rankings,\n",
    "    \"Regular Season Detailed\": regular_season_detailed,\n",
    "    \"Tourney Detailed\": tourney_detailed\n",
    "}\n",
    "\n",
    "for name, df in datasets.items():\n",
    "    print(f\"\\n{name} Dataset Sample:\")\n",
    "    print(df.head(), \"\\n\")\n"
   ],
   "outputs": [
    {
     "name": "stdout",
     "output_type": "stream",
     "text": [
      "\n",
      "Teams Dataset Sample:\n",
      "   TeamID     TeamName  FirstD1Season  LastD1Season\n",
      "0    1101  Abilene Chr           2014          2025\n",
      "1    1102    Air Force           1985          2025\n",
      "2    1103        Akron           1985          2025\n",
      "3    1104      Alabama           1985          2025\n",
      "4    1105  Alabama A&M           2000          2025 \n",
      "\n",
      "\n",
      "Seasons Dataset Sample:\n",
      "   Season     DayZero RegionW    RegionX    RegionY    RegionZ\n",
      "0    1985  10/29/1984    East       West    Midwest  Southeast\n",
      "1    1986  10/28/1985    East    Midwest  Southeast       West\n",
      "2    1987  10/27/1986    East  Southeast    Midwest       West\n",
      "3    1988  11/02/1987    East    Midwest  Southeast       West\n",
      "4    1989  10/31/1988    East       West    Midwest  Southeast \n",
      "\n",
      "\n",
      "Tourney Seeds Dataset Sample:\n",
      "   Season Seed  TeamID\n",
      "0    1985  W01    1207\n",
      "1    1985  W02    1210\n",
      "2    1985  W03    1228\n",
      "3    1985  W04    1260\n",
      "4    1985  W05    1374 \n",
      "\n",
      "\n",
      "Regular Season Results Dataset Sample:\n",
      "   Season  DayNum  WTeamID  WScore  LTeamID  LScore WLoc  NumOT\n",
      "0    1985      20     1228      81     1328      64    N      0\n",
      "1    1985      25     1106      77     1354      70    H      0\n",
      "2    1985      25     1112      63     1223      56    H      0\n",
      "3    1985      25     1165      70     1432      54    H      0\n",
      "4    1985      25     1192      86     1447      74    H      0 \n",
      "\n",
      "\n",
      "Tourney Results Dataset Sample:\n",
      "   Season  DayNum  WTeamID  WScore  LTeamID  LScore WLoc  NumOT\n",
      "0    1985     136     1116      63     1234      54    N      0\n",
      "1    1985     136     1120      59     1345      58    N      0\n",
      "2    1985     136     1207      68     1250      43    N      0\n",
      "3    1985     136     1229      58     1425      55    N      0\n",
      "4    1985     136     1242      49     1325      38    N      0 \n",
      "\n",
      "\n",
      "Massey Rankings Dataset Sample:\n",
      "   Season  RankingDayNum SystemName  TeamID  OrdinalRank\n",
      "0    2003             35        SEL  1102.0        159.0\n",
      "1    2003             35        SEL  1103.0        229.0\n",
      "2    2003             35        SEL  1104.0         12.0\n",
      "3    2003             35        SEL  1105.0        314.0\n",
      "4    2003             35        SEL  1106.0        260.0 \n",
      "\n",
      "\n",
      "Regular Season Detailed Dataset Sample:\n",
      "   Season  DayNum  WTeamID  WScore  LTeamID  LScore WLoc  NumOT  WFGM  WFGA  \\\n",
      "0    2003      10     1104      68     1328      62    N      0    27    58   \n",
      "1    2003      10     1272      70     1393      63    N      0    26    62   \n",
      "2    2003      11     1266      73     1437      61    N      0    24    58   \n",
      "3    2003      11     1296      56     1457      50    N      0    18    38   \n",
      "4    2003      11     1400      77     1208      71    N      0    30    61   \n",
      "\n",
      "   ...  LFGA3  LFTM  LFTA  LOR  LDR  LAst  LTO  LStl  LBlk  LPF  \n",
      "0  ...     10    16    22   10   22     8   18     9     2   20  \n",
      "1  ...     24     9    20   20   25     7   12     8     6   16  \n",
      "2  ...     26    14    23   31   22     9   12     2     5   23  \n",
      "3  ...     22     8    15   17   20     9   19     4     3   23  \n",
      "4  ...     16    17    27   21   15    12   10     7     1   14  \n",
      "\n",
      "[5 rows x 34 columns] \n",
      "\n",
      "\n",
      "Tourney Detailed Dataset Sample:\n",
      "   Season  DayNum  WTeamID  WScore  LTeamID  LScore WLoc  NumOT  WFGM  WFGA  \\\n",
      "0    2003     134     1421      92     1411      84    N      1    32    69   \n",
      "1    2003     136     1112      80     1436      51    N      0    31    66   \n",
      "2    2003     136     1113      84     1272      71    N      0    31    59   \n",
      "3    2003     136     1141      79     1166      73    N      0    29    53   \n",
      "4    2003     136     1143      76     1301      74    N      1    27    64   \n",
      "\n",
      "   ...  LFGA3  LFTM  LFTA  LOR  LDR  LAst  LTO  LStl  LBlk  LPF  \n",
      "0  ...     31    14    31   17   28    16   15     5     0   22  \n",
      "1  ...     16     7     7    8   26    12   17    10     3   15  \n",
      "2  ...     28    14    21   20   22    11   12     2     5   18  \n",
      "3  ...     17    12    17   14   17    20   21     6     6   21  \n",
      "4  ...     21    15    20   10   26    16   14     5     8   19  \n",
      "\n",
      "[5 rows x 34 columns] \n",
      "\n"
     ]
    }
   ],
   "execution_count": 82
  },
  {
   "metadata": {
    "ExecuteTime": {
     "end_time": "2025-03-27T11:04:16.511968Z",
     "start_time": "2025-03-27T11:04:16.493340Z"
    }
   },
   "cell_type": "code",
   "source": [
    "# Compute Home Court Bonus (1 if the winning team played at home, 0 otherwise)\n",
    "tourney_results[\"HomeWinBonus\"] = (tourney_results[\"WLoc\"] == \"H\").astype(int)"
   ],
   "id": "a88bf2dc6e4d1a0e",
   "outputs": [],
   "execution_count": 83
  },
  {
   "metadata": {
    "ExecuteTime": {
     "end_time": "2025-03-27T11:04:17.423226Z",
     "start_time": "2025-03-27T11:04:17.404963Z"
    }
   },
   "cell_type": "code",
   "source": [
    "# Using 'dataframe' instead of 'df'\n",
    "for name, dataframe in datasets.items():\n",
    "    print(f\"{name} Dataset: {dataframe.shape[0]} rows, {dataframe.shape[1]} columns\")\n"
   ],
   "id": "4789edf5c5009ab4",
   "outputs": [
    {
     "name": "stdout",
     "output_type": "stream",
     "text": [
      "Teams Dataset: 380 rows, 4 columns\n",
      "Seasons Dataset: 41 rows, 6 columns\n",
      "Tourney Seeds Dataset: 2558 rows, 3 columns\n",
      "Regular Season Results Dataset: 191796 rows, 8 columns\n",
      "Tourney Results Dataset: 2518 rows, 9 columns\n",
      "Massey Rankings Dataset: 106401 rows, 5 columns\n",
      "Regular Season Detailed Dataset: 117748 rows, 34 columns\n",
      "Tourney Detailed Dataset: 1382 rows, 34 columns\n"
     ]
    }
   ],
   "execution_count": 84
  },
  {
   "metadata": {
    "ExecuteTime": {
     "end_time": "2025-03-27T11:04:18.334261Z",
     "start_time": "2025-03-27T11:04:17.867406Z"
    }
   },
   "cell_type": "code",
   "source": [
    "for name, dataframe in datasets.items():\n",
    "    print(f\"\\n{name} Dataset - Unique Values per Column:\")\n",
    "    for column in dataframe.columns:\n",
    "        unique_values = dataframe[column].unique()\n",
    "        print(f\"{column}: {len(unique_values)} unique values\")\n"
   ],
   "id": "24b384aabc71af89",
   "outputs": [
    {
     "name": "stdout",
     "output_type": "stream",
     "text": [
      "\n",
      "Teams Dataset - Unique Values per Column:\n",
      "TeamID: 380 unique values\n",
      "TeamName: 380 unique values\n",
      "FirstD1Season: 32 unique values\n",
      "LastD1Season: 14 unique values\n",
      "\n",
      "Seasons Dataset - Unique Values per Column:\n",
      "Season: 41 unique values\n",
      "DayZero: 41 unique values\n",
      "RegionW: 5 unique values\n",
      "RegionX: 9 unique values\n",
      "RegionY: 8 unique values\n",
      "RegionZ: 9 unique values\n",
      "\n",
      "Tourney Seeds Dataset - Unique Values per Column:\n",
      "Season: 39 unique values\n",
      "Seed: 94 unique values\n",
      "TeamID: 309 unique values\n",
      "\n",
      "Regular Season Results Dataset - Unique Values per Column:\n",
      "Season: 41 unique values\n",
      "DayNum: 133 unique values\n",
      "WTeamID: 380 unique values\n",
      "WScore: 130 unique values\n",
      "LTeamID: 380 unique values\n",
      "LScore: 119 unique values\n",
      "WLoc: 3 unique values\n",
      "NumOT: 7 unique values\n",
      "\n",
      "Tourney Results Dataset - Unique Values per Column:\n",
      "Season: 39 unique values\n",
      "DayNum: 15 unique values\n",
      "WTeamID: 217 unique values\n",
      "WScore: 78 unique values\n",
      "LTeamID: 309 unique values\n",
      "LScore: 73 unique values\n",
      "WLoc: 1 unique values\n",
      "NumOT: 4 unique values\n",
      "HomeWinBonus: 1 unique values\n",
      "\n",
      "Massey Rankings Dataset - Unique Values per Column:\n",
      "Season: 1 unique values\n",
      "RankingDayNum: 41 unique values\n",
      "SystemName: 36 unique values\n",
      "TeamID: 328 unique values\n",
      "OrdinalRank: 328 unique values\n",
      "\n",
      "Regular Season Detailed Dataset - Unique Values per Column:\n",
      "Season: 23 unique values\n",
      "DayNum: 133 unique values\n",
      "WTeamID: 371 unique values\n",
      "WScore: 104 unique values\n",
      "LTeamID: 371 unique values\n",
      "LScore: 105 unique values\n",
      "WLoc: 3 unique values\n",
      "NumOT: 7 unique values\n",
      "WFGM: 45 unique values\n",
      "WFGA: 73 unique values\n",
      "WFGM3: 27 unique values\n",
      "WFGA3: 56 unique values\n",
      "WFTM: 50 unique values\n",
      "WFTA: 66 unique values\n",
      "WOR: 37 unique values\n",
      "WDR: 47 unique values\n",
      "WAst: 39 unique values\n",
      "WTO: 33 unique values\n",
      "WStl: 27 unique values\n",
      "WBlk: 21 unique values\n",
      "WPF: 39 unique values\n",
      "LFGM: 42 unique values\n",
      "LFGA: 75 unique values\n",
      "LFGM3: 23 unique values\n",
      "LFGA3: 57 unique values\n",
      "LFTM: 44 unique values\n",
      "LFTA: 61 unique values\n",
      "LOR: 36 unique values\n",
      "LDR: 44 unique values\n",
      "LAst: 32 unique values\n",
      "LTO: 42 unique values\n",
      "LStl: 23 unique values\n",
      "LBlk: 19 unique values\n",
      "LPF: 42 unique values\n",
      "\n",
      "Tourney Detailed Dataset - Unique Values per Column:\n",
      "Season: 21 unique values\n",
      "DayNum: 15 unique values\n",
      "WTeamID: 177 unique values\n",
      "WScore: 64 unique values\n",
      "LTeamID: 268 unique values\n",
      "LScore: 65 unique values\n",
      "WLoc: 1 unique values\n",
      "NumOT: 3 unique values\n",
      "WFGM: 30 unique values\n",
      "WFGA: 45 unique values\n",
      "WFGM3: 19 unique values\n",
      "WFGA3: 37 unique values\n",
      "WFTM: 37 unique values\n",
      "WFTA: 47 unique values\n",
      "WOR: 26 unique values\n",
      "WDR: 31 unique values\n",
      "WAst: 27 unique values\n",
      "WTO: 26 unique values\n",
      "WStl: 18 unique values\n",
      "WBlk: 15 unique values\n",
      "WPF: 26 unique values\n",
      "LFGM: 26 unique values\n",
      "LFGA: 46 unique values\n",
      "LFGM3: 18 unique values\n",
      "LFGA3: 37 unique values\n",
      "LFTM: 32 unique values\n",
      "LFTA: 39 unique values\n",
      "LOR: 27 unique values\n",
      "LDR: 29 unique values\n",
      "LAst: 22 unique values\n",
      "LTO: 24 unique values\n",
      "LStl: 18 unique values\n",
      "LBlk: 13 unique values\n",
      "LPF: 27 unique values\n"
     ]
    }
   ],
   "execution_count": 85
  },
  {
   "metadata": {
    "ExecuteTime": {
     "end_time": "2025-03-27T11:04:19.842929Z",
     "start_time": "2025-03-27T11:04:19.115638Z"
    }
   },
   "cell_type": "code",
   "source": [
    "for name, dataframe in datasets.items():\n",
    "    duplicate_count = dataframe.duplicated().sum()\n",
    "    print(f\"{name} Dataset - Duplicate Rows: {duplicate_count}\")\n"
   ],
   "id": "8b86f1993528830e",
   "outputs": [
    {
     "name": "stdout",
     "output_type": "stream",
     "text": [
      "Teams Dataset - Duplicate Rows: 0\n",
      "Seasons Dataset - Duplicate Rows: 0\n",
      "Tourney Seeds Dataset - Duplicate Rows: 0\n",
      "Regular Season Results Dataset - Duplicate Rows: 0\n",
      "Tourney Results Dataset - Duplicate Rows: 0\n",
      "Massey Rankings Dataset - Duplicate Rows: 0\n",
      "Regular Season Detailed Dataset - Duplicate Rows: 0\n",
      "Tourney Detailed Dataset - Duplicate Rows: 0\n"
     ]
    }
   ],
   "execution_count": 86
  },
  {
   "metadata": {
    "ExecuteTime": {
     "end_time": "2025-03-27T11:04:21.952174Z",
     "start_time": "2025-03-27T11:04:20.491695Z"
    }
   },
   "cell_type": "code",
   "source": [
    "for name, dataframe in datasets.items():\n",
    "    print(f\"\\n{name} Dataset - Summary Statistics:\")\n",
    "    print(dataframe.describe(), \"\\n\")\n"
   ],
   "id": "9d39380d426de6e6",
   "outputs": [
    {
     "name": "stdout",
     "output_type": "stream",
     "text": [
      "\n",
      "Teams Dataset - Summary Statistics:\n",
      "            TeamID  FirstD1Season  LastD1Season\n",
      "count   380.000000     380.000000    380.000000\n",
      "mean   1290.500000    1989.618421   2023.952632\n",
      "std     109.840794       9.755814      5.686894\n",
      "min    1101.000000    1985.000000   1985.000000\n",
      "25%    1195.750000    1985.000000   2025.000000\n",
      "50%    1290.500000    1985.000000   2025.000000\n",
      "75%    1385.250000    1986.250000   2025.000000\n",
      "max    1480.000000    2025.000000   2025.000000 \n",
      "\n",
      "\n",
      "Seasons Dataset - Summary Statistics:\n",
      "            Season\n",
      "count    41.000000\n",
      "mean   2005.000000\n",
      "std      11.979149\n",
      "min    1985.000000\n",
      "25%    1995.000000\n",
      "50%    2005.000000\n",
      "75%    2015.000000\n",
      "max    2025.000000 \n",
      "\n",
      "\n",
      "Tourney Seeds Dataset - Summary Statistics:\n",
      "            Season       TeamID\n",
      "count  2558.000000  2558.000000\n",
      "mean   2004.376466  1290.900704\n",
      "std      11.449682   103.447343\n",
      "min    1985.000000  1101.000000\n",
      "25%    1994.250000  1208.000000\n",
      "50%    2004.000000  1285.000000\n",
      "75%    2014.000000  1387.000000\n",
      "max    2024.000000  1463.000000 \n",
      "\n",
      "\n",
      "Regular Season Results Dataset - Summary Statistics:\n",
      "              Season         DayNum        WTeamID         WScore  \\\n",
      "count  191796.000000  191796.000000  191796.000000  191796.000000   \n",
      "mean     2006.271257      73.602072    1287.599757      76.855664   \n",
      "std        11.623911      34.229230     104.920419      11.833224   \n",
      "min      1985.000000       0.000000    1101.000000      34.000000   \n",
      "25%      1996.000000      45.000000    1199.000000      69.000000   \n",
      "50%      2007.000000      75.000000    1285.000000      76.000000   \n",
      "75%      2016.000000     103.000000    1380.000000      84.000000   \n",
      "max      2025.000000     132.000000    1480.000000     186.000000   \n",
      "\n",
      "             LTeamID         LScore          NumOT  \n",
      "count  191796.000000  191796.000000  191796.000000  \n",
      "mean     1283.342286      64.771205       0.048937  \n",
      "std       105.102958      11.201711       0.258969  \n",
      "min      1101.000000      20.000000       0.000000  \n",
      "25%      1191.000000      57.000000       0.000000  \n",
      "50%      1281.000000      64.000000       0.000000  \n",
      "75%      1375.000000      72.000000       0.000000  \n",
      "max      1480.000000     150.000000       6.000000   \n",
      "\n",
      "\n",
      "Tourney Results Dataset - Summary Statistics:\n",
      "            Season       DayNum      WTeamID       WScore      LTeamID  \\\n",
      "count  2518.000000  2518.000000  2518.000000  2518.000000  2518.000000   \n",
      "mean   2004.374106   139.150913  1284.984114    76.867355  1291.419778   \n",
      "std      11.447616     4.218254   101.039491    11.768184   103.424835   \n",
      "min    1985.000000   134.000000  1101.000000    43.000000  1101.000000   \n",
      "25%    1994.250000   136.000000  1207.000000    69.000000  1209.000000   \n",
      "50%    2004.000000   137.000000  1276.000000    76.000000  1286.500000   \n",
      "75%    2014.000000   139.000000  1385.000000    84.000000  1387.000000   \n",
      "max    2024.000000   154.000000  1463.000000   149.000000  1463.000000   \n",
      "\n",
      "            LScore        NumOT  HomeWinBonus  \n",
      "count  2518.000000  2518.000000        2518.0  \n",
      "mean     65.077442     0.066720           0.0  \n",
      "std      11.043525     0.278191           0.0  \n",
      "min      29.000000     0.000000           0.0  \n",
      "25%      58.000000     0.000000           0.0  \n",
      "50%      64.000000     0.000000           0.0  \n",
      "75%      72.000000     0.000000           0.0  \n",
      "max     115.000000     3.000000           0.0   \n",
      "\n",
      "\n",
      "Massey Rankings Dataset - Summary Statistics:\n",
      "         Season  RankingDayNum         TeamID    OrdinalRank\n",
      "count  106401.0  106401.000000  106400.000000  106400.000000\n",
      "mean     2003.0      81.713245    1283.402754     163.082256\n",
      "std         0.0      24.053640     105.415316      94.813786\n",
      "min      2003.0      35.000000    1102.000000       1.000000\n",
      "25%      2003.0      64.000000    1191.000000      81.000000\n",
      "50%      2003.0      85.000000    1281.000000     163.000000\n",
      "75%      2003.0     105.000000    1376.000000     245.000000\n",
      "max      2003.0     120.000000    1464.000000     327.000000 \n",
      "\n",
      "\n",
      "Regular Season Detailed Dataset - Summary Statistics:\n",
      "              Season         DayNum       WTeamID         WScore  \\\n",
      "count  117748.000000  117748.000000  117748.00000  117748.000000   \n",
      "mean     2014.146355      70.294986    1288.25451      75.878936   \n",
      "std         6.515929      35.772556     105.34750      10.998547   \n",
      "min      2003.000000       0.000000    1101.00000      34.000000   \n",
      "25%      2009.000000      40.000000    1199.00000      68.000000   \n",
      "50%      2014.000000      73.000000    1287.00000      75.000000   \n",
      "75%      2020.000000     101.000000    1381.00000      83.000000   \n",
      "max      2025.000000     132.000000    1480.00000     149.000000   \n",
      "\n",
      "             LTeamID         LScore          NumOT           WFGM  \\\n",
      "count  117748.000000  117748.000000  117748.000000  117748.000000   \n",
      "mean     1283.138830      63.888287       0.068689      26.401824   \n",
      "std       104.795432      10.848767       0.305098       4.680314   \n",
      "min      1101.000000      20.000000       0.000000      10.000000   \n",
      "25%      1192.000000      57.000000       0.000000      23.000000   \n",
      "50%      1282.000000      64.000000       0.000000      26.000000   \n",
      "75%      1374.000000      71.000000       0.000000      29.000000   \n",
      "max      1480.000000     144.000000       6.000000      57.000000   \n",
      "\n",
      "                WFGA          WFGM3  ...          LFGA3           LFTM  \\\n",
      "count  117748.000000  117748.000000  ...  117748.000000  117748.000000   \n",
      "mean       55.760242       7.347445  ...      20.159790      12.073403   \n",
      "std         7.456374       3.119260  ...       6.068136       5.344049   \n",
      "min        26.000000       0.000000  ...       1.000000       0.000000   \n",
      "25%        51.000000       5.000000  ...      16.000000       8.000000   \n",
      "50%        55.000000       7.000000  ...      20.000000      12.000000   \n",
      "75%        60.000000       9.000000  ...      24.000000      15.000000   \n",
      "max       103.000000      26.000000  ...      59.000000      48.000000   \n",
      "\n",
      "                LFTA            LOR            LDR           LAst  \\\n",
      "count  117748.000000  117748.000000  117748.000000  117748.000000   \n",
      "mean       17.732454      10.461740      21.625650      11.409722   \n",
      "std         7.081056       4.221039       4.518197       3.724567   \n",
      "min         0.000000       0.000000       4.000000       0.000000   \n",
      "25%        13.000000       7.000000      19.000000       9.000000   \n",
      "50%        17.000000      10.000000      21.000000      11.000000   \n",
      "75%        22.000000      13.000000      25.000000      14.000000   \n",
      "max        65.000000      36.000000      49.000000      31.000000   \n",
      "\n",
      "                 LTO           LStl           LBlk            LPF  \n",
      "count  117748.000000  117748.000000  117748.000000  117748.000000  \n",
      "mean       13.888907       6.004739       2.868185      19.305780  \n",
      "std         4.382700       2.745969       2.019050       4.553353  \n",
      "min         0.000000       0.000000       0.000000       4.000000  \n",
      "25%        11.000000       4.000000       1.000000      16.000000  \n",
      "50%        14.000000       6.000000       3.000000      19.000000  \n",
      "75%        17.000000       8.000000       4.000000      22.000000  \n",
      "max        41.000000      22.000000      18.000000      45.000000  \n",
      "\n",
      "[8 rows x 33 columns] \n",
      "\n",
      "\n",
      "Tourney Detailed Dataset - Summary Statistics:\n",
      "            Season       DayNum      WTeamID       WScore      LTeamID  \\\n",
      "count  1382.000000  1382.000000  1382.000000  1382.000000  1382.000000   \n",
      "mean   2013.301013   139.086831  1289.694645    75.431983  1293.123734   \n",
      "std       6.315663     4.233378   102.879108    10.767408   105.822922   \n",
      "min    2003.000000   134.000000  1101.000000    47.000000  1101.000000   \n",
      "25%    2008.000000   136.000000  1211.000000    68.000000  1209.000000   \n",
      "50%    2013.000000   137.000000  1277.000000    75.000000  1292.000000   \n",
      "75%    2018.000000   139.000000  1392.250000    82.000000  1393.000000   \n",
      "max    2024.000000   154.000000  1463.000000   121.000000  1463.000000   \n",
      "\n",
      "            LScore        NumOT         WFGM         WFGA        WFGM3  ...  \\\n",
      "count  1382.000000  1382.000000  1382.000000  1382.000000  1382.000000  ...   \n",
      "mean     63.753980     0.066570    26.486252    55.818379     7.109986  ...   \n",
      "std      10.371463     0.284623     4.765556     7.215791     3.025032  ...   \n",
      "min      29.000000     0.000000    13.000000    34.000000     0.000000  ...   \n",
      "25%      56.250000     0.000000    23.000000    51.000000     5.000000  ...   \n",
      "50%      63.000000     0.000000    26.000000    56.000000     7.000000  ...   \n",
      "75%      71.000000     0.000000    30.000000    60.000000     9.000000  ...   \n",
      "max     105.000000     2.000000    44.000000    84.000000    18.000000  ...   \n",
      "\n",
      "             LFGA3         LFTM         LFTA          LOR          LDR  \\\n",
      "count  1382.000000  1382.000000  1382.000000  1382.000000  1382.000000   \n",
      "mean     20.735890    11.540521    16.465991    10.663531    21.340087   \n",
      "std       5.793864     5.092428     6.620897     4.217523     4.486375   \n",
      "min       5.000000     0.000000     2.000000     1.000000     8.000000   \n",
      "25%      17.000000     8.000000    12.000000     8.000000    18.000000   \n",
      "50%      21.000000    11.000000    16.000000    10.000000    21.000000   \n",
      "75%      24.000000    15.000000    20.000000    13.000000    24.000000   \n",
      "max      42.000000    31.000000    45.000000    29.000000    42.000000   \n",
      "\n",
      "             LAst          LTO         LStl         LBlk          LPF  \n",
      "count  1382.00000  1382.000000  1382.000000  1382.000000  1382.000000  \n",
      "mean     11.43343    11.934877     5.688857     2.945007    18.606368  \n",
      "std       3.66791     3.897505     2.644274     2.026226     4.222270  \n",
      "min       2.00000     3.000000     0.000000     0.000000     7.000000  \n",
      "25%       9.00000     9.000000     4.000000     1.000000    16.000000  \n",
      "50%      11.00000    12.000000     6.000000     3.000000    18.000000  \n",
      "75%      14.00000    14.000000     7.000000     4.000000    21.000000  \n",
      "max      23.00000    27.000000    19.000000    13.000000    33.000000  \n",
      "\n",
      "[8 rows x 33 columns] \n",
      "\n"
     ]
    }
   ],
   "execution_count": 87
  },
  {
   "metadata": {
    "ExecuteTime": {
     "end_time": "2025-03-27T11:04:23.031395Z",
     "start_time": "2025-03-27T11:04:22.802160Z"
    }
   },
   "cell_type": "code",
   "source": [
    "for name, dataframe in datasets.items():\n",
    "    missing_values = dataframe.isnull().sum()\n",
    "    total_missing = missing_values.sum()\n",
    "    \n",
    "    if total_missing > 0:\n",
    "        print(f\"\\n{name} Dataset - Missing Values:\")\n",
    "        print(missing_values[missing_values > 0])  # Show only columns with missing values\n",
    "    else:\n",
    "        print(f\"\\n{name} Dataset - No Missing Values.\")\n"
   ],
   "id": "a9c9844279201e4a",
   "outputs": [
    {
     "name": "stdout",
     "output_type": "stream",
     "text": [
      "\n",
      "Teams Dataset - No Missing Values.\n",
      "\n",
      "Seasons Dataset - No Missing Values.\n",
      "\n",
      "Tourney Seeds Dataset - No Missing Values.\n",
      "\n",
      "Regular Season Results Dataset - No Missing Values.\n",
      "\n",
      "Tourney Results Dataset - No Missing Values.\n",
      "\n",
      "Massey Rankings Dataset - Missing Values:\n",
      "TeamID         1\n",
      "OrdinalRank    1\n",
      "dtype: int64\n",
      "\n",
      "Regular Season Detailed Dataset - No Missing Values.\n",
      "\n",
      "Tourney Detailed Dataset - No Missing Values.\n"
     ]
    }
   ],
   "execution_count": 88
  },
  {
   "metadata": {
    "ExecuteTime": {
     "end_time": "2025-03-27T11:04:23.634662Z",
     "start_time": "2025-03-27T11:04:23.577067Z"
    }
   },
   "cell_type": "code",
   "source": [
    "# Merge Tournament Seeds to get Seed information for both winning and losing teams\n",
    "tourney_results = datasets[\"Tourney Results\"]\n",
    "tourney_seeds = datasets[\"Tourney Seeds\"]\n",
    "\n",
    "tourney_results = tourney_results.merge(\n",
    "    tourney_seeds, how=\"left\", left_on=[\"Season\", \"WTeamID\"], right_on=[\"Season\", \"TeamID\"]\n",
    ").rename(columns={\"Seed\": \"WSeed\"})\n",
    "\n",
    "tourney_results = tourney_results.merge(\n",
    "    tourney_seeds, how=\"left\", left_on=[\"Season\", \"LTeamID\"], right_on=[\"Season\", \"TeamID\"]\n",
    ").rename(columns={\"Seed\": \"LSeed\"})\n",
    "\n",
    "# Drop duplicate TeamID columns\n",
    "tourney_results.drop(columns=[\"TeamID_x\", \"TeamID_y\"], inplace=True)\n",
    "\n",
    "print(\"✅ Tournament Seeds Merged\")\n"
   ],
   "id": "d044f480341f6667",
   "outputs": [
    {
     "name": "stdout",
     "output_type": "stream",
     "text": [
      "✅ Tournament Seeds Merged\n"
     ]
    }
   ],
   "execution_count": 89
  },
  {
   "metadata": {
    "ExecuteTime": {
     "end_time": "2025-03-27T11:04:24.389318Z",
     "start_time": "2025-03-27T11:04:24.133713Z"
    }
   },
   "cell_type": "code",
   "source": [
    "regular_season_results = datasets[\"Regular Season Results\"]\n",
    "\n",
    "# Aggregate season performance stats\n",
    "regular_season_summary = regular_season_results.groupby([\"Season\", \"WTeamID\"]).agg({\n",
    "    \"WScore\": \"mean\",  # Average points scored\n",
    "    \"LScore\": \"mean\",  # Average points conceded\n",
    "    \"NumOT\": \"mean\"    # Average OT games played\n",
    "}).reset_index().rename(columns={\"WTeamID\": \"TeamID\", \"WScore\": \"AvgPointsScored\", \"LScore\": \"AvgPointsConceded\", \"NumOT\": \"AvgOT\"})\n",
    "\n",
    "# Merge season stats with the tournament data (for winning teams)\n",
    "tourney_results = tourney_results.merge(\n",
    "    regular_season_summary, how=\"left\", left_on=[\"Season\", \"WTeamID\"], right_on=[\"Season\", \"TeamID\"]\n",
    ").rename(columns={\"AvgPointsScored\": \"WAvgPointsScored\", \"AvgPointsConceded\": \"WAvgPointsConceded\", \"AvgOT\": \"WAvgOT\"})\n",
    "\n",
    "# Merge season stats with the tournament data (for losing teams)\n",
    "tourney_results = tourney_results.merge(\n",
    "    regular_season_summary, how=\"left\", left_on=[\"Season\", \"LTeamID\"], right_on=[\"Season\", \"TeamID\"]\n",
    ").rename(columns={\"AvgPointsScored\": \"LAvgPointsScored\", \"AvgPointsConceded\": \"LAvgPointsConceded\", \"AvgOT\": \"LAvgOT\"})\n",
    "\n",
    "# Drop duplicate TeamID columns\n",
    "tourney_results.drop(columns=[\"TeamID_x\", \"TeamID_y\"], inplace=True)\n",
    "\n",
    "print(\"✅ Regular Season Performance Merged\")\n"
   ],
   "id": "c128fee62551cea9",
   "outputs": [
    {
     "name": "stdout",
     "output_type": "stream",
     "text": [
      "✅ Regular Season Performance Merged\n"
     ]
    }
   ],
   "execution_count": 90
  },
  {
   "metadata": {
    "ExecuteTime": {
     "end_time": "2025-03-27T11:04:25.118788Z",
     "start_time": "2025-03-27T11:04:25.047575Z"
    }
   },
   "cell_type": "code",
   "source": [
    "massey_rankings = datasets[\"Massey Rankings\"]\n",
    "\n",
    "# Select the last ranking before the tournament (DayNum = 133)\n",
    "latest_rankings = massey_rankings[massey_rankings[\"RankingDayNum\"] == 133]\n",
    "\n",
    "# Merge rankings for winning teams\n",
    "tourney_results = tourney_results.merge(\n",
    "    latest_rankings, how=\"left\", left_on=[\"Season\", \"WTeamID\"], right_on=[\"Season\", \"TeamID\"]\n",
    ").rename(columns={\"OrdinalRank\": \"WTeamRank\"})\n",
    "\n",
    "# Merge rankings for losing teams\n",
    "tourney_results = tourney_results.merge(\n",
    "    latest_rankings, how=\"left\", left_on=[\"Season\", \"LTeamID\"], right_on=[\"Season\", \"TeamID\"]\n",
    ").rename(columns={\"OrdinalRank\": \"LTeamRank\"})\n",
    "\n",
    "# Drop duplicate TeamID columns\n",
    "tourney_results.drop(columns=[\"TeamID_x\", \"TeamID_y\"], inplace=True)\n",
    "\n",
    "print(\"✅ Massey Rankings Merged\")\n"
   ],
   "id": "b120eb17198fb1d0",
   "outputs": [
    {
     "name": "stdout",
     "output_type": "stream",
     "text": [
      "✅ Massey Rankings Merged\n"
     ]
    }
   ],
   "execution_count": 91
  },
  {
   "metadata": {
    "ExecuteTime": {
     "end_time": "2025-03-27T11:04:25.759375Z",
     "start_time": "2025-03-27T11:04:25.707177Z"
    }
   },
   "cell_type": "code",
   "source": [
    "# Display merged dataset structure\n",
    "print(\"\\nMerged Dataset Sample:\")\n",
    "print(tourney_results.head())\n",
    "\n",
    "# Check for missing values after merging\n",
    "missing_values = tourney_results.isnull().sum().sum()\n",
    "print(f\"\\nTotal Missing Values After Merging: {missing_values}\")\n"
   ],
   "id": "ef54987ab1b4f8a3",
   "outputs": [
    {
     "name": "stdout",
     "output_type": "stream",
     "text": [
      "\n",
      "Merged Dataset Sample:\n",
      "   Season  DayNum  WTeamID  WScore  LTeamID  LScore WLoc  NumOT  HomeWinBonus  \\\n",
      "0    1985     136     1116      63     1234      54    N      0             0   \n",
      "1    1985     136     1120      59     1345      58    N      0             0   \n",
      "2    1985     136     1207      68     1250      43    N      0             0   \n",
      "3    1985     136     1229      58     1425      55    N      0             0   \n",
      "4    1985     136     1242      49     1325      38    N      0             0   \n",
      "\n",
      "  WSeed  ...    WAvgOT  LAvgPointsScored  LAvgPointsConceded    LAvgOT  \\\n",
      "0   X09  ...  0.000000         76.250000           57.800000  0.000000   \n",
      "1   Z11  ...  0.055556         70.058824           57.529412  0.000000   \n",
      "2   W01  ...  0.000000         74.727273           68.727273  0.090909   \n",
      "3   Y09  ...  0.000000         72.947368           63.526316  0.000000   \n",
      "4   Z03  ...  0.000000         67.450000           58.650000  0.000000   \n",
      "\n",
      "   RankingDayNum_x  SystemName_x  WTeamRank  RankingDayNum_y SystemName_y  \\\n",
      "0              NaN           NaN        NaN              NaN          NaN   \n",
      "1              NaN           NaN        NaN              NaN          NaN   \n",
      "2              NaN           NaN        NaN              NaN          NaN   \n",
      "3              NaN           NaN        NaN              NaN          NaN   \n",
      "4              NaN           NaN        NaN              NaN          NaN   \n",
      "\n",
      "   LTeamRank  \n",
      "0        NaN  \n",
      "1        NaN  \n",
      "2        NaN  \n",
      "3        NaN  \n",
      "4        NaN  \n",
      "\n",
      "[5 rows x 23 columns]\n",
      "\n",
      "Total Missing Values After Merging: 15108\n"
     ]
    }
   ],
   "execution_count": 92
  },
  {
   "metadata": {
    "ExecuteTime": {
     "end_time": "2025-03-27T11:04:26.446884Z",
     "start_time": "2025-03-27T11:04:26.415817Z"
    }
   },
   "cell_type": "code",
   "source": [
    "missing_summary = tourney_results.isnull().sum()\n",
    "print(missing_summary[missing_summary > 0])\n"
   ],
   "id": "5ea97b3d2574bfff",
   "outputs": [
    {
     "name": "stdout",
     "output_type": "stream",
     "text": [
      "RankingDayNum_x    2518\n",
      "SystemName_x       2518\n",
      "WTeamRank          2518\n",
      "RankingDayNum_y    2518\n",
      "SystemName_y       2518\n",
      "LTeamRank          2518\n",
      "dtype: int64\n"
     ]
    }
   ],
   "execution_count": 93
  },
  {
   "metadata": {
    "ExecuteTime": {
     "end_time": "2025-03-27T11:04:28.892113Z",
     "start_time": "2025-03-27T11:04:28.872227Z"
    }
   },
   "cell_type": "code",
   "source": "tourney_results.drop(columns=[\"RankingDayNum_x\", \"SystemName_x\", \"RankingDayNum_y\", \"SystemName_y\"], inplace=True)\n",
   "id": "a961c5e5d03a2c59",
   "outputs": [],
   "execution_count": 94
  },
  {
   "metadata": {
    "ExecuteTime": {
     "end_time": "2025-03-27T11:04:29.027371Z",
     "start_time": "2025-03-27T11:04:29.010474Z"
    }
   },
   "cell_type": "code",
   "source": "print(\"\\nTotal Missing Values After Fixes:\", tourney_results.isnull().sum().sum())\n",
   "id": "cf457bfa824f769e",
   "outputs": [
    {
     "name": "stdout",
     "output_type": "stream",
     "text": [
      "\n",
      "Total Missing Values After Fixes: 5036\n"
     ]
    }
   ],
   "execution_count": 95
  },
  {
   "metadata": {
    "ExecuteTime": {
     "end_time": "2025-03-27T11:04:30.699399Z",
     "start_time": "2025-03-27T11:04:30.652701Z"
    }
   },
   "cell_type": "code",
   "source": [
    "missing_summary = tourney_results.isnull().sum()\n",
    "print(missing_summary[missing_summary > 0])"
   ],
   "id": "5d8a2832197884f1",
   "outputs": [
    {
     "name": "stdout",
     "output_type": "stream",
     "text": [
      "WTeamRank    2518\n",
      "LTeamRank    2518\n",
      "dtype: int64\n"
     ]
    }
   ],
   "execution_count": 96
  },
  {
   "metadata": {
    "ExecuteTime": {
     "end_time": "2025-03-27T11:04:31.705174Z",
     "start_time": "2025-03-27T11:04:31.644674Z"
    }
   },
   "cell_type": "code",
   "source": [
    "# Display rows where WTeamRank or LTeamRank is missing\n",
    "missing_ranks = tourney_results[tourney_results[\"WTeamRank\"].isnull() | tourney_results[\"LTeamRank\"].isnull()]\n",
    "print(missing_ranks[[\"Season\", \"WTeamID\", \"WTeamRank\", \"LTeamID\", \"LTeamRank\"]].head(10))"
   ],
   "id": "5e2255cd572d8ef1",
   "outputs": [
    {
     "name": "stdout",
     "output_type": "stream",
     "text": [
      "   Season  WTeamID  WTeamRank  LTeamID  LTeamRank\n",
      "0    1985     1116        NaN     1234        NaN\n",
      "1    1985     1120        NaN     1345        NaN\n",
      "2    1985     1207        NaN     1250        NaN\n",
      "3    1985     1229        NaN     1425        NaN\n",
      "4    1985     1242        NaN     1325        NaN\n",
      "5    1985     1246        NaN     1449        NaN\n",
      "6    1985     1256        NaN     1338        NaN\n",
      "7    1985     1260        NaN     1233        NaN\n",
      "8    1985     1314        NaN     1292        NaN\n",
      "9    1985     1323        NaN     1333        NaN\n"
     ]
    }
   ],
   "execution_count": 97
  },
  {
   "metadata": {
    "ExecuteTime": {
     "end_time": "2025-03-27T11:04:32.727550Z",
     "start_time": "2025-03-27T11:04:32.711034Z"
    }
   },
   "cell_type": "code",
   "source": [
    "# Show unique values in team rankings\n",
    "print(\"Unique Winning Team Ranks:\", tourney_results[\"WTeamRank\"].dropna().unique()[:15])  # Show first 15 unique values\n",
    "print(\"Unique Losing Team Ranks:\", tourney_results[\"LTeamRank\"].dropna().unique()[:15])  # Show first 15 unique values\n"
   ],
   "id": "9cce0ba6a16cfb49",
   "outputs": [
    {
     "name": "stdout",
     "output_type": "stream",
     "text": [
      "Unique Winning Team Ranks: []\n",
      "Unique Losing Team Ranks: []\n"
     ]
    }
   ],
   "execution_count": 98
  },
  {
   "metadata": {
    "ExecuteTime": {
     "end_time": "2025-03-27T11:04:33.066138Z",
     "start_time": "2025-03-27T11:04:33.048933Z"
    }
   },
   "cell_type": "code",
   "source": [
    "print(\"Winning Team Rank Range: \", tourney_results[\"WTeamRank\"].min(), \"-\", tourney_results[\"WTeamRank\"].max())\n",
    "print(\"Losing Team Rank Range: \", tourney_results[\"LTeamRank\"].min(), \"-\", tourney_results[\"LTeamRank\"].max())\n"
   ],
   "id": "b0c425f74e6ff29c",
   "outputs": [
    {
     "name": "stdout",
     "output_type": "stream",
     "text": [
      "Winning Team Rank Range:  nan - nan\n",
      "Losing Team Rank Range:  nan - nan\n"
     ]
    }
   ],
   "execution_count": 99
  },
  {
   "metadata": {
    "ExecuteTime": {
     "end_time": "2025-03-27T11:04:35.937379Z",
     "start_time": "2025-03-27T11:04:33.847198Z"
    }
   },
   "cell_type": "code",
   "source": [
    "import matplotlib.pyplot as plt\n",
    "\n",
    "# Plot histogram for Winning Team Rank\n",
    "plt.figure(figsize=(12, 5))\n",
    "plt.hist(tourney_results[\"WTeamRank\"].dropna(), bins=30, alpha=0.7, color=\"blue\", label=\"WTeamRank\")\n",
    "plt.hist(tourney_results[\"LTeamRank\"].dropna(), bins=30, alpha=0.7, color=\"red\", label=\"LTeamRank\")\n",
    "plt.xlabel(\"Team Rank\")\n",
    "plt.ylabel(\"Frequency\")\n",
    "plt.title(\"Distribution of Team Rankings\")\n",
    "plt.legend()\n",
    "plt.show()\n"
   ],
   "id": "b298bf979ca4f94d",
   "outputs": [
    {
     "data": {
      "text/plain": [
       "<Figure size 1200x500 with 1 Axes>"
      ],
      "image/png": "[encoded data removed]"
     },
     "metadata": {},
     "output_type": "display_data"
    }
   ],
   "execution_count": 100
  },
  {
   "metadata": {
    "ExecuteTime": {
     "end_time": "2025-03-27T11:04:36.550623Z",
     "start_time": "2025-03-27T11:04:36.517279Z"
    }
   },
   "cell_type": "code",
   "source": [
    "# Fill missing team rankings with 350 to indicate unranked teams\n",
    "tourney_results[\"WTeamRank\"].fillna(350, inplace=True)\n",
    "tourney_results[\"LTeamRank\"].fillna(350, inplace=True)\n",
    "\n",
    "# Verify no missing values remain\n",
    "print(\"Total Missing Values After Fix:\", tourney_results.isnull().sum().sum())\n"
   ],
   "id": "c92bbdf1f025ddc4",
   "outputs": [
    {
     "name": "stdout",
     "output_type": "stream",
     "text": [
      "Total Missing Values After Fix: 0\n"
     ]
    },
    {
     "name": "stderr",
     "output_type": "stream",
     "text": [
      "C:\\Users\\Emmanuel Okunfolami\\AppData\\Local\\Temp\\ipykernel_8288\\2288531159.py:2: FutureWarning: A value is trying to be set on a copy of a DataFrame or Series through chained assignment using an inplace method.\n",
      "The behavior will change in pandas 3.0. This inplace method will never work because the intermediate object on which we are setting values always behaves as a copy.\n",
      "\n",
      "For example, when doing 'df[col].method(value, inplace=True)', try using 'df.method({col: value}, inplace=True)' or df[col] = df[col].method(value) instead, to perform the operation inplace on the original object.\n",
      "\n",
      "\n",
      "  tourney_results[\"WTeamRank\"].fillna(350, inplace=True)\n",
      "C:\\Users\\Emmanuel Okunfolami\\AppData\\Local\\Temp\\ipykernel_8288\\2288531159.py:3: FutureWarning: A value is trying to be set on a copy of a DataFrame or Series through chained assignment using an inplace method.\n",
      "The behavior will change in pandas 3.0. This inplace method will never work because the intermediate object on which we are setting values always behaves as a copy.\n",
      "\n",
      "For example, when doing 'df[col].method(value, inplace=True)', try using 'df.method({col: value}, inplace=True)' or df[col] = df[col].method(value) instead, to perform the operation inplace on the original object.\n",
      "\n",
      "\n",
      "  tourney_results[\"LTeamRank\"].fillna(350, inplace=True)\n"
     ]
    }
   ],
   "execution_count": 101
  },
  {
   "metadata": {
    "ExecuteTime": {
     "end_time": "2025-03-27T11:04:37.165633Z",
     "start_time": "2025-03-27T11:04:37.080673Z"
    }
   },
   "cell_type": "code",
   "source": [
    "import re\n",
    "\n",
    "# Function to clean seed values\n",
    "def clean_seed(seed):\n",
    "    if pd.isna(seed):  # If value is NaN, return NaN\n",
    "        return None\n",
    "    seed_num = re.sub(\"[^0-9]\", \"\", seed)  # Remove non-numeric characters\n",
    "    return int(seed_num)  # Convert to integer\n",
    "\n",
    "# Apply function to clean both columns\n",
    "tourney_results[\"WSeed\"] = tourney_results[\"WSeed\"].apply(clean_seed)\n",
    "tourney_results[\"LSeed\"] = tourney_results[\"LSeed\"].apply(clean_seed)\n",
    "\n",
    "# Now compute Seed Difference\n",
    "tourney_results[\"SeedDiff\"] = tourney_results[\"WSeed\"] - tourney_results[\"LSeed\"]\n",
    "\n",
    "# Display sample values to confirm fix\n",
    "print(tourney_results[[\"WSeed\", \"LSeed\", \"SeedDiff\"]].head())\n"
   ],
   "id": "3cee0a6ce40dec54",
   "outputs": [
    {
     "name": "stdout",
     "output_type": "stream",
     "text": [
      "   WSeed  LSeed  SeedDiff\n",
      "0      9      8         1\n",
      "1     11      6         5\n",
      "2      1     16       -15\n",
      "3      9      8         1\n",
      "4      3     14       -11\n"
     ]
    }
   ],
   "execution_count": 102
  },
  {
   "metadata": {
    "ExecuteTime": {
     "end_time": "2025-03-27T11:04:37.744911Z",
     "start_time": "2025-03-27T11:04:37.728471Z"
    }
   },
   "cell_type": "code",
   "source": "tourney_results[\"RankDiff\"] = tourney_results[\"WTeamRank\"] - tourney_results[\"LTeamRank\"]",
   "id": "de82cc8097733856",
   "outputs": [],
   "execution_count": 103
  },
  {
   "metadata": {
    "ExecuteTime": {
     "end_time": "2025-03-27T11:04:38.568734Z",
     "start_time": "2025-03-27T11:04:38.542226Z"
    }
   },
   "cell_type": "code",
   "source": [
    "tourney_results[\"W_OffensiveRating\"] = tourney_results[\"WAvgPointsScored\"] - tourney_results[\"LAvgPointsConceded\"]\n",
    "tourney_results[\"L_OffensiveRating\"] = tourney_results[\"LAvgPointsScored\"] - tourney_results[\"WAvgPointsConceded\"]\n",
    "\n",
    "tourney_results[\"W_DefensiveRating\"] = tourney_results[\"WAvgPointsConceded\"] - tourney_results[\"LAvgPointsScored\"]\n",
    "tourney_results[\"L_DefensiveRating\"] = tourney_results[\"LAvgPointsConceded\"] - tourney_results[\"WAvgPointsScored\"]"
   ],
   "id": "30d83d62e64eb7d6",
   "outputs": [],
   "execution_count": 104
  },
  {
   "metadata": {
    "ExecuteTime": {
     "end_time": "2025-03-27T11:04:39.481526Z",
     "start_time": "2025-03-27T11:04:39.467382Z"
    }
   },
   "cell_type": "code",
   "source": "tourney_results[\"WinLabel\"] = 1  # Since this dataset contains only winning teams\n",
   "id": "5a1a22695470bcea",
   "outputs": [],
   "execution_count": 105
  },
  {
   "metadata": {
    "ExecuteTime": {
     "end_time": "2025-03-27T11:04:41.870340Z",
     "start_time": "2025-03-27T11:04:41.848129Z"
    }
   },
   "cell_type": "code",
   "source": [
    "# Select final features for modeling\n",
    "features = [\n",
    "    \"SeedDiff\", \"RankDiff\",\n",
    "    \"W_OffensiveRating\", \"L_OffensiveRating\",\n",
    "    \"W_DefensiveRating\", \"L_DefensiveRating\", \"HomeWinBonus\"\n",
    "]\n",
    "\n",
    "X = tourney_results[features]  # Independent variables\n",
    "y = tourney_results[\"WinLabel\"]  # Target variable (always 1 in this dataset)\n"
   ],
   "id": "34bf365cec6eae05",
   "outputs": [],
   "execution_count": 106
  },
  {
   "metadata": {
    "ExecuteTime": {
     "end_time": "2025-03-27T11:04:41.961288Z",
     "start_time": "2025-03-27T11:04:41.916455Z"
    }
   },
   "cell_type": "code",
   "source": [
    "from sklearn.preprocessing import StandardScaler\n",
    "import joblib\n",
    "\n",
    "# 1. Initialize and fit the scaler using the final 7-feature X\n",
    "scaler = StandardScaler()\n",
    "X_scaled = scaler.fit_transform(X)  # ✅ Fit + transform\n",
    "\n",
    "# 2. Save the properly fitted scaler\n",
    "joblib.dump(scaler, \"scaler.pkl\")  # ✅ Save AFTER fitting"
   ],
   "id": "48d4e180f80176df",
   "outputs": [
    {
     "data": {
      "text/plain": [
       "['scaler.pkl']"
      ]
     },
     "execution_count": 107,
     "metadata": {},
     "output_type": "execute_result"
    }
   ],
   "execution_count": 107
  },
  {
   "metadata": {
    "ExecuteTime": {
     "end_time": "2025-03-27T11:04:44.159264Z",
     "start_time": "2025-03-27T11:04:44.141880Z"
    }
   },
   "cell_type": "code",
   "source": [
    "#from sklearn.preprocessing import StandardScaler\n",
    "\n",
    "# Initialize scaler\n",
    "# scaler = StandardScaler()\n",
    "\n",
    "# Fit and transform the feature matrix\n",
    "# X_scaled = scaler.fit_transform(X)\n"
   ],
   "id": "28a52d5ac17209b2",
   "outputs": [],
   "execution_count": 108
  },
  {
   "metadata": {
    "ExecuteTime": {
     "end_time": "2025-03-27T11:04:44.282127Z",
     "start_time": "2025-03-27T11:04:44.232933Z"
    }
   },
   "cell_type": "code",
   "source": [
    "import numpy as np\n",
    "import pandas as pd\n",
    "\n",
    "# Create a flipped version of the dataset\n",
    "tourney_results_flipped = tourney_results.copy()\n",
    "\n",
    "# Swap winning and losing team features\n",
    "tourney_results_flipped[\"SeedDiff\"] *= -1\n",
    "tourney_results_flipped[\"RankDiff\"] *= -1\n",
    "tourney_results_flipped[\"W_OffensiveRating\"], tourney_results_flipped[\"L_OffensiveRating\"] = \\\n",
    "    tourney_results_flipped[\"L_OffensiveRating\"], tourney_results_flipped[\"W_OffensiveRating\"]\n",
    "\n",
    "tourney_results_flipped[\"W_DefensiveRating\"], tourney_results_flipped[\"L_DefensiveRating\"] = \\\n",
    "    tourney_results_flipped[\"L_DefensiveRating\"], tourney_results_flipped[\"W_DefensiveRating\"]\n",
    "\n",
    "# Change target variable (flip winners)\n",
    "tourney_results_flipped[\"WinLabel\"] = 0  # These are now losing team matchups\n",
    "\n",
    "# Combine original and flipped datasets\n",
    "final_dataset = pd.concat([tourney_results, tourney_results_flipped], ignore_index=True)\n",
    "\n",
    "# Shuffle data\n",
    "final_dataset = final_dataset.sample(frac=1, random_state=42).reset_index(drop=True)\n",
    "\n",
    "print(f\"✅ Final Dataset Balanced: {final_dataset['WinLabel'].value_counts()}\")\n"
   ],
   "id": "369cef310dbac50b",
   "outputs": [
    {
     "name": "stdout",
     "output_type": "stream",
     "text": [
      "✅ Final Dataset Balanced: WinLabel\n",
      "0    2518\n",
      "1    2518\n",
      "Name: count, dtype: int64\n"
     ]
    }
   ],
   "execution_count": 109
  },
  {
   "metadata": {
    "ExecuteTime": {
     "end_time": "2025-03-27T11:04:45.031373Z",
     "start_time": "2025-03-27T11:04:44.970985Z"
    }
   },
   "cell_type": "code",
   "source": [
    "from sklearn.model_selection import train_test_split\n",
    "\n",
    "# Select final features again after balancing dataset\n",
    "X = final_dataset[features]\n",
    "y = final_dataset[\"WinLabel\"]\n",
    "\n",
    "# Normalize again\n",
    "X_scaled = scaler.fit_transform(X)\n",
    "\n",
    "# Split data (80% training, 20% testing)\n",
    "X_train, X_test, y_train, y_test = train_test_split(X_scaled, y, test_size=0.2, random_state=42)\n",
    "\n",
    "print(f\"✅ Training Set Size: {X_train.shape[0]}\")\n",
    "print(f\"✅ Testing Set Size: {X_test.shape[0]}\")\n"
   ],
   "id": "2c99616d6341dd0a",
   "outputs": [
    {
     "name": "stdout",
     "output_type": "stream",
     "text": [
      "✅ Training Set Size: 4028\n",
      "✅ Testing Set Size: 1008\n"
     ]
    }
   ],
   "execution_count": 110
  },
  {
   "metadata": {
    "ExecuteTime": {
     "end_time": "2025-03-27T11:04:46.760728Z",
     "start_time": "2025-03-27T11:04:46.709862Z"
    }
   },
   "cell_type": "code",
   "source": [
    "from sklearn.linear_model import LogisticRegression\n",
    "\n",
    "# Initialize the model\n",
    "log_reg = LogisticRegression(random_state=42)\n",
    "\n",
    "# Train the model on the training data\n",
    "log_reg.fit(X_train, y_train)\n",
    "\n",
    "print(\"✅ Logistic Regression Model Trained Successfully!\")\n"
   ],
   "id": "a152bc610197a789",
   "outputs": [
    {
     "name": "stdout",
     "output_type": "stream",
     "text": [
      "✅ Logistic Regression Model Trained Successfully!\n"
     ]
    }
   ],
   "execution_count": 111
  },
  {
   "metadata": {
    "ExecuteTime": {
     "end_time": "2025-03-27T11:04:46.874064Z",
     "start_time": "2025-03-27T11:04:46.855497Z"
    }
   },
   "cell_type": "code",
   "source": [
    "# Predict the probabilities for the test set\n",
    "y_pred_proba = log_reg.predict_proba(X_test)[:, 1]  # Probability of WinLabel = 1\n",
    "\n",
    "# Convert to binary predictions (0 or 1)\n",
    "y_pred = log_reg.predict(X_test)\n"
   ],
   "id": "a86d0927a25ce014",
   "outputs": [],
   "execution_count": 112
  },
  {
   "metadata": {
    "ExecuteTime": {
     "end_time": "2025-03-27T11:04:49.067931Z",
     "start_time": "2025-03-27T11:04:49.039120Z"
    }
   },
   "cell_type": "code",
   "source": [
    "from sklearn.metrics import accuracy_score\n",
    "\n",
    "# Calculate accuracy\n",
    "accuracy = accuracy_score(y_test, y_pred)\n",
    "print(f\"✅ Model Accuracy: {accuracy:.4f}\")\n"
   ],
   "id": "73d4d156a10f7163",
   "outputs": [
    {
     "name": "stdout",
     "output_type": "stream",
     "text": [
      "✅ Model Accuracy: 0.7014\n"
     ]
    }
   ],
   "execution_count": 113
  },
  {
   "metadata": {
    "ExecuteTime": {
     "end_time": "2025-03-27T11:04:49.188488Z",
     "start_time": "2025-03-27T11:04:49.158972Z"
    }
   },
   "cell_type": "code",
   "source": [
    "from sklearn.metrics import log_loss\n",
    "\n",
    "# Calculate log loss (lower is better)\n",
    "logloss = log_loss(y_test, y_pred_proba)\n",
    "print(f\"✅ Log Loss: {logloss:.4f}\")\n"
   ],
   "id": "8c1a59ff12174727",
   "outputs": [
    {
     "name": "stdout",
     "output_type": "stream",
     "text": [
      "✅ Log Loss: 0.5598\n"
     ]
    }
   ],
   "execution_count": 114
  },
  {
   "metadata": {
    "ExecuteTime": {
     "end_time": "2025-03-27T11:04:49.742181Z",
     "start_time": "2025-03-27T11:04:49.720349Z"
    }
   },
   "cell_type": "code",
   "source": [
    "from sklearn.metrics import confusion_matrix\n",
    "\n",
    "# Generate confusion matrix\n",
    "conf_matrix = confusion_matrix(y_test, y_pred)\n",
    "print(\"\\nConfusion Matrix:\\n\", conf_matrix)\n"
   ],
   "id": "7a67006d56f8325b",
   "outputs": [
    {
     "name": "stdout",
     "output_type": "stream",
     "text": [
      "\n",
      "Confusion Matrix:\n",
      " [[349 138]\n",
      " [163 358]]\n"
     ]
    }
   ],
   "execution_count": 115
  },
  {
   "metadata": {
    "ExecuteTime": {
     "end_time": "2025-03-27T11:04:50.318746Z",
     "start_time": "2025-03-27T11:04:50.288428Z"
    }
   },
   "cell_type": "code",
   "source": [
    "import numpy as np\n",
    "\n",
    "# Get feature importance (Logistic Regression Coefficients)\n",
    "feature_importance = np.abs(log_reg.coef_[0])  # Use absolute values\n",
    "\n",
    "# Map feature names to importance\n",
    "feature_importance_dict = dict(zip(features, feature_importance))\n",
    "\n",
    "# Sort by importance\n",
    "sorted_features = sorted(feature_importance_dict.items(), key=lambda x: x[1], reverse=True)\n",
    "\n",
    "# Display feature importance\n",
    "print(\"🔍 Feature Importance (Most Impactful Features First):\")\n",
    "for feature, importance in sorted_features:\n",
    "    print(f\"{feature}: {importance:.4f}\")\n"
   ],
   "id": "cd9bc9fa24a8bbad",
   "outputs": [
    {
     "name": "stdout",
     "output_type": "stream",
     "text": [
      "🔍 Feature Importance (Most Impactful Features First):\n",
      "SeedDiff: 1.1958\n",
      "L_DefensiveRating: 0.0397\n",
      "W_OffensiveRating: 0.0397\n",
      "W_DefensiveRating: 0.0053\n",
      "L_OffensiveRating: 0.0053\n",
      "RankDiff: 0.0000\n",
      "HomeWinBonus: 0.0000\n"
     ]
    }
   ],
   "execution_count": 116
  },
  {
   "metadata": {
    "ExecuteTime": {
     "end_time": "2025-03-27T11:05:03.639087Z",
     "start_time": "2025-03-27T11:04:50.871861Z"
    }
   },
   "cell_type": "code",
   "source": "!pip install xgboost\n",
   "id": "ccd865bc93d9dd52",
   "outputs": [
    {
     "name": "stdout",
     "output_type": "stream",
     "text": [
      "Requirement already satisfied: xgboost in c:\\users\\emmanuel okunfolami\\pycharmprojects\\march mania\\.venv\\lib\\site-packages (2.1.4)\n",
      "Requirement already satisfied: numpy in c:\\users\\emmanuel okunfolami\\pycharmprojects\\march mania\\.venv\\lib\\site-packages (from xgboost) (2.2.3)\n",
      "Requirement already satisfied: scipy in c:\\users\\emmanuel okunfolami\\pycharmprojects\\march mania\\.venv\\lib\\site-packages (from xgboost) (1.15.2)\n"
     ]
    },
    {
     "name": "stderr",
     "output_type": "stream",
     "text": [
      "\n",
      "[notice] A new release of pip is available: 23.2.1 -> 25.0.1\n",
      "[notice] To update, run: python.exe -m pip install --upgrade pip\n"
     ]
    }
   ],
   "execution_count": 117
  },
  {
   "metadata": {
    "ExecuteTime": {
     "end_time": "2025-03-27T11:05:04.708128Z",
     "start_time": "2025-03-27T11:05:04.693207Z"
    }
   },
   "cell_type": "code",
   "source": [
    "from xgboost import XGBClassifier\n",
    "from sklearn.metrics import accuracy_score, log_loss, confusion_matrix\n",
    "\n"
   ],
   "id": "2a1501a57e9c7bdb",
   "outputs": [],
   "execution_count": 118
  },
  {
   "metadata": {
    "ExecuteTime": {
     "end_time": "2025-03-27T11:05:05.360719Z",
     "start_time": "2025-03-27T11:05:04.786563Z"
    }
   },
   "cell_type": "code",
   "source": [
    "# ✅ Step 1: Initialize XGBoost Classifier\n",
    "xgb_model = XGBClassifier(\n",
    "    objective=\"binary:logistic\",  # Binary classification task\n",
    "    eval_metric=\"logloss\",        # Log loss is better for probability-based evaluation\n",
    "    use_label_encoder=False,      # Avoids unnecessary warnings\n",
    "    random_state=42\n",
    ")\n",
    "\n",
    "# ✅ Step 2: Train the Model\n",
    "xgb_model.fit(X_train, y_train)\n",
    "\n",
    "print(\"✅ XGBoost Model Trained Successfully!\")\n"
   ],
   "id": "9c600031ca6ac49d",
   "outputs": [
    {
     "name": "stderr",
     "output_type": "stream",
     "text": [
      "C:\\Users\\Emmanuel Okunfolami\\PycharmProjects\\March Mania\\.venv\\Lib\\site-packages\\xgboost\\core.py:158: UserWarning: [12:05:04] WARNING: C:\\buildkite-agent\\builds\\buildkite-windows-cpu-autoscaling-group-i-08cbc0333d8d4aae1-1\\xgboost\\xgboost-ci-windows\\src\\learner.cc:740: \n",
      "Parameters: { \"use_label_encoder\" } are not used.\n",
      "\n",
      "  warnings.warn(smsg, UserWarning)\n"
     ]
    },
    {
     "name": "stdout",
     "output_type": "stream",
     "text": [
      "✅ XGBoost Model Trained Successfully!\n"
     ]
    }
   ],
   "execution_count": 119
  },
  {
   "metadata": {
    "ExecuteTime": {
     "end_time": "2025-03-27T11:05:05.977344Z",
     "start_time": "2025-03-27T11:05:05.944845Z"
    }
   },
   "cell_type": "code",
   "source": [
    "# ✅ Step 3: Make Predictions\n",
    "y_pred_proba_xgb = xgb_model.predict_proba(X_test)[:, 1]  # Probability of WinLabel = 1\n",
    "y_pred_xgb = xgb_model.predict(X_test)"
   ],
   "id": "1a598184e0430727",
   "outputs": [],
   "execution_count": 120
  },
  {
   "metadata": {
    "ExecuteTime": {
     "end_time": "2025-03-27T11:05:06.569033Z",
     "start_time": "2025-03-27T11:05:06.551317Z"
    }
   },
   "cell_type": "code",
   "source": [
    "# ✅ Step 4: Evaluate Model Performance\n",
    "# Accuracy Score\n",
    "xgb_accuracy = accuracy_score(y_test, y_pred_xgb)\n",
    "print(f\"✅ XGBoost Model Accuracy: {xgb_accuracy:.4f}\")"
   ],
   "id": "4e1f46d7431f36d1",
   "outputs": [
    {
     "name": "stdout",
     "output_type": "stream",
     "text": [
      "✅ XGBoost Model Accuracy: 0.6627\n"
     ]
    }
   ],
   "execution_count": 121
  },
  {
   "metadata": {
    "ExecuteTime": {
     "end_time": "2025-03-27T11:05:07.211435Z",
     "start_time": "2025-03-27T11:05:07.187238Z"
    }
   },
   "cell_type": "code",
   "source": [
    "# Log Loss Score (lower is better)\n",
    "xgb_logloss = log_loss(y_test, y_pred_proba_xgb)\n",
    "print(f\"✅ XGBoost Log Loss: {xgb_logloss:.4f}\")\n"
   ],
   "id": "b4d5b871bcb60f22",
   "outputs": [
    {
     "name": "stdout",
     "output_type": "stream",
     "text": [
      "✅ XGBoost Log Loss: 0.6373\n"
     ]
    }
   ],
   "execution_count": 122
  },
  {
   "metadata": {
    "ExecuteTime": {
     "end_time": "2025-03-27T11:05:07.786384Z",
     "start_time": "2025-03-27T11:05:07.764254Z"
    }
   },
   "cell_type": "code",
   "source": [
    "# Confusion Matrix\n",
    "xgb_conf_matrix = confusion_matrix(y_test, y_pred_xgb)\n",
    "print(\"\\nConfusion Matrix (XGBoost):\\n\", xgb_conf_matrix)"
   ],
   "id": "b8bbaaa00033fca7",
   "outputs": [
    {
     "name": "stdout",
     "output_type": "stream",
     "text": [
      "\n",
      "Confusion Matrix (XGBoost):\n",
      " [[315 172]\n",
      " [168 353]]\n"
     ]
    }
   ],
   "execution_count": 123
  },
  {
   "metadata": {
    "ExecuteTime": {
     "end_time": "2025-03-27T11:05:15.735511Z",
     "start_time": "2025-03-27T11:05:08.913278Z"
    }
   },
   "cell_type": "code",
   "source": [
    "import pandas as pd\n",
    "import numpy as np\n",
    "import joblib\n",
    "from sklearn.preprocessing import StandardScaler\n",
    "\n",
    "# Assume 'teams' DataFrame is already loaded with columns \"TeamID\" and \"TeamName\"\n",
    "# Create a mapping of team IDs to team names if needed\n",
    "team_id_to_name = dict(zip(teams[\"TeamID\"], teams[\"TeamName\"]))\n",
    "\n",
    "# Generate matchups\n",
    "num_rows = 134510\n",
    "team_ids = teams[\"TeamID\"].unique()\n",
    "matchups = np.random.choice(team_ids, size=(num_rows, 2), replace=True)\n",
    "\n",
    "# Ensure no duplicate matchups (no team plays itself)\n",
    "for i in range(num_rows):\n",
    "    while matchups[i, 0] == matchups[i, 1]:\n",
    "        matchups[i, 1] = np.random.choice(team_ids)\n",
    "\n",
    "# Create DataFrame for matchups\n",
    "matchup_df = pd.DataFrame(matchups, columns=[\"TeamA\", \"TeamB\"])\n",
    "\n",
    "# Generate feature placeholders (update these with your actual feature computations)\n",
    "matchup_df[\"SeedDiff\"] = np.random.randint(-16, 16, num_rows)\n",
    "matchup_df[\"RankDiff\"] = np.random.randint(-50, 50, num_rows)\n",
    "matchup_df[\"W_OffensiveRating\"] = np.random.uniform(50, 100, num_rows)\n",
    "matchup_df[\"L_OffensiveRating\"] = np.random.uniform(50, 100, num_rows)\n",
    "matchup_df[\"W_DefensiveRating\"] = np.random.uniform(-50, 50, num_rows)\n",
    "matchup_df[\"L_DefensiveRating\"] = np.random.uniform(-50, 50, num_rows)\n",
    "matchup_df[\"HomeWinBonus\"] = np.random.choice([0, 1], num_rows)\n",
    "\n",
    "# Normalize features using your trained scaler\n",
    "features = [\"SeedDiff\", \"RankDiff\", \"W_OffensiveRating\", \"L_OffensiveRating\", \"W_DefensiveRating\", \"L_DefensiveRating\", \"HomeWinBonus\"]\n",
    "scaler = StandardScaler()\n",
    "matchup_df_scaled = scaler.fit_transform(matchup_df[features])\n",
    "\n",
    "# Load trained XGBoost model\n",
    "xgb_model = joblib.load(\"xgb_best.pkl\")  # Ensure this path is correct\n",
    "\n",
    "# Predict winner probabilities\n",
    "# Here, predictions represent the probability that TeamA wins.\n",
    "predictions = xgb_model.predict_proba(matchup_df_scaled)[:, 1]\n",
    "\n",
    "# For the submission, we'll use a constant season value.\n",
    "season = 2025  # Change as needed\n",
    "\n",
    "# Create the submission ID column in the format: Season_TeamA_TeamB\n",
    "matchup_df[\"ID\"] = matchup_df.apply(lambda row: f\"{season}_{int(row['TeamA'])}_{int(row['TeamB'])}\", axis=1)\n",
    "\n",
    "# Create the Pred column: the predicted probability that TeamA wins.\n",
    "matchup_df[\"Pred\"] = predictions\n",
    "\n",
    "# Create the submission DataFrame with only the required columns\n",
    "submission_df = matchup_df[[\"ID\", \"Pred\"]]\n",
    "\n",
    "# Save to CSV without the index\n",
    "submission_df.to_csv(\"submission.csv\", index=False)\n",
    "\n",
    "print(\"✅ Submission file saved as 'submission.csv'\")\n"
   ],
   "id": "f143f3a964d0d38c",
   "outputs": [
    {
     "name": "stdout",
     "output_type": "stream",
     "text": [
      "✅ Submission file saved as 'submission.csv'\n"
     ]
    }
   ],
   "execution_count": 124
  },
  {
   "metadata": {
    "ExecuteTime": {
     "end_time": "2025-03-27T11:05:15.854698Z",
     "start_time": "2025-03-27T11:05:15.839036Z"
    }
   },
   "cell_type": "code",
   "source": [
    "import os\n",
    "\n",
    "# Check if the file exists in the current directory\n",
    "print(\"Files in current directory:\", os.listdir())\n",
    "\n",
    "# Verify if submission.csv is in the list\n",
    "print(\"File Exists:\", os.path.exists(\"submission.csv\"))\n"
   ],
   "id": "da9ac0a8a573a871",
   "outputs": [
    {
     "name": "stdout",
     "output_type": "stream",
     "text": [
      "Files in current directory: ['.git', '.idea', '.venv', 'data', 'Mania.ipynb', 'Mania.py', 'Maniatest.py', 'Mania_files', 'MarchMadnessMenPredictions.csv', 'MarchMadnessPredictions.csv', 'march_madness_predictions.csv', 'predicted_matchups_with_names.csv', 'predicted_matchups_with_probabilities.csv', 'PyMania.py', 'README.md', 'scaler.pkl', 'submission.csv', 'test.ipynb', 'TheMarchMadnessPredictions.csv', 'WManie.ipynb', 'WManie.md', 'WManie.py', 'Women_scaler.pkl', 'xgboost_march_madness.pkl', 'xgboost_model.pkl', 'xgboost_optimized.pkl', 'xgb_best.pkl']\n",
      "File Exists: True\n"
     ]
    }
   ],
   "execution_count": 125
  },
  {
   "metadata": {
    "ExecuteTime": {
     "end_time": "2025-03-27T11:05:19.826016Z",
     "start_time": "2025-03-27T11:05:16.532682Z"
    }
   },
   "cell_type": "code",
   "source": [
    "import pandas as pd\n",
    "import numpy as np\n",
    "import joblib\n",
    "from sklearn.preprocessing import StandardScaler\n",
    "\n",
    "# Create a mapping of team IDs to team names from the already loaded `teams` DataFrame\n",
    "team_id_to_name = dict(zip(teams[\"TeamID\"], teams[\"TeamName\"]))\n",
    "\n",
    "# Generate matchups\n",
    "num_rows = 134510\n",
    "team_ids = teams[\"TeamID\"].unique()\n",
    "matchups = np.random.choice(team_ids, size=(num_rows, 2), replace=True)\n",
    "\n",
    "# Ensure no duplicate matchups (no team plays itself)\n",
    "for i in range(num_rows):\n",
    "    while matchups[i, 0] == matchups[i, 1]:\n",
    "        matchups[i, 1] = np.random.choice(team_ids)\n",
    "\n",
    "# Create DataFrame for matchups\n",
    "matchup_df = pd.DataFrame(matchups, columns=[\"TeamA\", \"TeamB\"])\n",
    "\n",
    "# Generate feature placeholders (Update if you have real feature computation)\n",
    "matchup_df[\"SeedDiff\"] = np.random.randint(-16, 16, num_rows)\n",
    "matchup_df[\"RankDiff\"] = np.random.randint(-50, 50, num_rows)\n",
    "matchup_df[\"W_OffensiveRating\"] = np.random.uniform(50, 100, num_rows)\n",
    "matchup_df[\"L_OffensiveRating\"] = np.random.uniform(50, 100, num_rows)\n",
    "matchup_df[\"W_DefensiveRating\"] = np.random.uniform(-50, 50, num_rows)\n",
    "matchup_df[\"L_DefensiveRating\"] = np.random.uniform(-50, 50, num_rows)\n",
    "matchup_df[\"HomeWinBonus\"] = np.random.choice([0, 1], num_rows)\n",
    "\n",
    "# Normalize features using your trained scaler\n",
    "features = [\"SeedDiff\", \"RankDiff\", \"W_OffensiveRating\", \"L_OffensiveRating\", \"W_DefensiveRating\", \"L_DefensiveRating\", \"HomeWinBonus\"]\n",
    "scaler = StandardScaler()\n",
    "matchup_df_scaled = scaler.fit_transform(matchup_df[features])\n",
    "\n",
    "# Load trained XGBoost model\n",
    "xgb_model = joblib.load(\"xgb_best.pkl\")  # Ensure this path is correct\n",
    "\n",
    "# Predict winner probabilities\n",
    "predictions = xgb_model.predict_proba(matchup_df_scaled)[:, 1]  # Probability of TeamA winning\n",
    "\n",
    "# Assign winners and underdogs based on probabilities\n",
    "matchup_df[\"Predicted Winner\"] = np.where(predictions >= 0.5, matchup_df[\"TeamA\"], matchup_df[\"TeamB\"])\n",
    "matchup_df[\"Underdog\"] = np.where(predictions < 0.5, matchup_df[\"TeamA\"], matchup_df[\"TeamB\"])\n",
    "\n",
    "# Map team IDs to team names\n",
    "matchup_df[\"Predicted Winner\"] = matchup_df[\"Predicted Winner\"].map(team_id_to_name)\n",
    "matchup_df[\"Underdog\"] = matchup_df[\"Underdog\"].map(team_id_to_name)\n",
    "\n",
    "# Add win probability to the DataFrame\n",
    "matchup_df[\"Win Probability\"] = np.where(predictions >= 0.5, predictions, 1 - predictions)  # Assign correct probability\n",
    "\n",
    "# Save results to CSV\n",
    "output_df = matchup_df[[\"Predicted Winner\", \"Underdog\", \"Win Probability\"]]\n",
    "output_df.to_csv(\"predicted_matchups_with_probabilities.csv\", index=False)\n",
    "\n",
    "print(\"✅ CSV file with matchups and predicted winners saved as 'predicted_matchups_with_probabilities.csv'\")\n"
   ],
   "id": "72d49d1bbca2f6eb",
   "outputs": [
    {
     "name": "stdout",
     "output_type": "stream",
     "text": [
      "✅ CSV file with matchups and predicted winners saved as 'predicted_matchups_with_probabilities.csv'\n"
     ]
    }
   ],
   "execution_count": 126
  },
  {
   "metadata": {
    "ExecuteTime": {
     "end_time": "2025-03-27T11:10:53.836444Z",
     "start_time": "2025-03-27T11:05:21.370850Z"
    }
   },
   "cell_type": "code",
   "source": [
    "from xgboost import XGBClassifier\n",
    "from sklearn.model_selection import GridSearchCV\n",
    "\n",
    "# Define hyperparameter grid\n",
    "param_grid = {\n",
    "    'n_estimators': [100, 300, 500],\n",
    "    'max_depth': [3, 5, 7],\n",
    "    'learning_rate': [0.01, 0.1, 0.3],\n",
    "    'subsample': [0.7, 0.9, 1.0],\n",
    "    'colsample_bytree': [0.7, 0.9, 1.0]\n",
    "}\n",
    "\n",
    "# Initialize model\n",
    "xgb = XGBClassifier(objective=\"binary:logistic\", eval_metric=\"logloss\", use_label_encoder=False)\n",
    "\n",
    "# Perform grid search\n",
    "grid_search = GridSearchCV(xgb, param_grid, cv=5, scoring='neg_log_loss', verbose=1, n_jobs=-1)\n",
    "grid_search.fit(X_train, y_train)\n",
    "\n",
    "# Best parameters\n",
    "print(\"Best Hyperparameters:\", grid_search.best_params_)\n",
    "\n",
    "# Use best parameters to train the final model\n",
    "xgb_best = XGBClassifier(**grid_search.best_params_, objective=\"binary:logistic\", eval_metric=\"logloss\", use_label_encoder=False)\n",
    "xgb_best.fit(X_train, y_train)\n",
    "\n",
    "# Save the optimized model\n",
    "import joblib\n",
    "joblib.dump(xgb_best, \"xgboost_optimized.pkl\")\n"
   ],
   "id": "1197cce647c0df91",
   "outputs": [
    {
     "name": "stdout",
     "output_type": "stream",
     "text": [
      "Fitting 5 folds for each of 243 candidates, totalling 1215 fits\n"
     ]
    },
    {
     "name": "stderr",
     "output_type": "stream",
     "text": [
      "C:\\Users\\Emmanuel Okunfolami\\PycharmProjects\\March Mania\\.venv\\Lib\\site-packages\\xgboost\\core.py:158: UserWarning: [12:10:50] WARNING: C:\\buildkite-agent\\builds\\buildkite-windows-cpu-autoscaling-group-i-08cbc0333d8d4aae1-1\\xgboost\\xgboost-ci-windows\\src\\learner.cc:740: \n",
      "Parameters: { \"use_label_encoder\" } are not used.\n",
      "\n",
      "  warnings.warn(smsg, UserWarning)\n"
     ]
    },
    {
     "name": "stdout",
     "output_type": "stream",
     "text": [
      "Best Hyperparameters: {'colsample_bytree': 1.0, 'learning_rate': 0.01, 'max_depth': 3, 'n_estimators': 500, 'subsample': 0.9}\n"
     ]
    },
    {
     "name": "stderr",
     "output_type": "stream",
     "text": [
      "C:\\Users\\Emmanuel Okunfolami\\PycharmProjects\\March Mania\\.venv\\Lib\\site-packages\\xgboost\\core.py:158: UserWarning: [12:10:51] WARNING: C:\\buildkite-agent\\builds\\buildkite-windows-cpu-autoscaling-group-i-08cbc0333d8d4aae1-1\\xgboost\\xgboost-ci-windows\\src\\learner.cc:740: \n",
      "Parameters: { \"use_label_encoder\" } are not used.\n",
      "\n",
      "  warnings.warn(smsg, UserWarning)\n"
     ]
    },
    {
     "data": {
      "text/plain": [
       "['xgboost_optimized.pkl']"
      ]
     },
     "execution_count": 127,
     "metadata": {},
     "output_type": "execute_result"
    }
   ],
   "execution_count": 127
  },
  {
   "metadata": {
    "ExecuteTime": {
     "end_time": "2025-03-27T11:10:54.009941Z",
     "start_time": "2025-03-27T11:10:53.943132Z"
    }
   },
   "cell_type": "code",
   "source": [
    "\n",
    "# Save the trained model\n",
    "joblib.dump(xgb_best, \"xgb_best.pkl\")\n",
    "\n",
    "print(\"✅ XGBoost model trained and saved as 'xgboost_model.pkl'\")"
   ],
   "id": "5a02ac36f3288a69",
   "outputs": [
    {
     "name": "stdout",
     "output_type": "stream",
     "text": [
      "✅ XGBoost model trained and saved as 'xgboost_model.pkl'\n"
     ]
    }
   ],
   "execution_count": 128
  },
  {
   "metadata": {
    "ExecuteTime": {
     "end_time": "2025-03-27T11:10:55.118573Z",
     "start_time": "2025-03-27T11:10:55.054522Z"
    }
   },
   "cell_type": "code",
   "source": [
    "from sklearn.metrics import accuracy_score, log_loss\n",
    "\n",
    "# Predict on test data\n",
    "y_pred_proba = xgb_best.predict_proba(X_test)[:, 1]  # Probability of winning\n",
    "y_pred = (y_pred_proba >= 0.5).astype(int)  # Convert probabilities to binary predictions\n",
    "\n",
    "# Calculate metrics\n",
    "accuracy = accuracy_score(y_test, y_pred)\n",
    "logloss = log_loss(y_test, y_pred_proba)\n",
    "\n",
    "print(f\"✅ Optimized Model Accuracy: {accuracy:.4f}\")\n",
    "print(f\"✅ Optimized Model Log Loss: {logloss:.4f}\")\n"
   ],
   "id": "7c9c2e6eec294e26",
   "outputs": [
    {
     "name": "stdout",
     "output_type": "stream",
     "text": [
      "✅ Optimized Model Accuracy: 0.6964\n",
      "✅ Optimized Model Log Loss: 0.5606\n"
     ]
    }
   ],
   "execution_count": 129
  },
  {
   "metadata": {
    "ExecuteTime": {
     "end_time": "2025-03-27T11:10:56.010265Z",
     "start_time": "2025-03-27T11:10:55.991269Z"
    }
   },
   "cell_type": "code",
   "source": "print(\"Scaler expects:\", scaler.n_features_in_)\n",
   "id": "d68d6fabd24fad54",
   "outputs": [
    {
     "name": "stdout",
     "output_type": "stream",
     "text": [
      "Scaler expects: 7\n"
     ]
    }
   ],
   "execution_count": 130
  },
  {
   "metadata": {
    "ExecuteTime": {
     "end_time": "2025-03-27T11:10:57.166808Z",
     "start_time": "2025-03-27T11:10:56.835259Z"
    }
   },
   "cell_type": "code",
   "source": [
    "import pandas as pd\n",
    "df = pd.read_csv(\"predicted_matchups_with_names.csv\")\n",
    "print(df.head())\n"
   ],
   "id": "330adbbcd083f148",
   "outputs": [
    {
     "name": "stdout",
     "output_type": "stream",
     "text": [
      "  Predicted Winner     Underdog\n",
      "0   UNC Greensboro     Marshall\n",
      "1      Abilene Chr  Savannah St\n",
      "2              UCF     Oklahoma\n",
      "3         Brooklyn  SUNY Albany\n",
      "4          Pacific     Kennesaw\n"
     ]
    }
   ],
   "execution_count": 131
  },
  {
   "metadata": {
    "ExecuteTime": {
     "end_time": "2025-03-27T11:10:58.394062Z",
     "start_time": "2025-03-27T11:10:57.937557Z"
    }
   },
   "cell_type": "code",
   "source": [
    "import pandas as pd\n",
    "df = pd.read_csv(\"predicted_matchups_with_probabilities.csv\")\n",
    "print(df.head())\n"
   ],
   "id": "32d8d79bf68e2d4d",
   "outputs": [
    {
     "name": "stdout",
     "output_type": "stream",
     "text": [
      "  Predicted Winner       Underdog  Win Probability\n",
      "0      Savannah St     Texas Tech         0.692123\n",
      "1         Texas St  Youngstown St         0.642478\n",
      "2            Brown       NC State         0.862588\n",
      "3       Pepperdine   Old Dominion         0.739420\n",
      "4        St John's     Washington         0.772186\n"
     ]
    }
   ],
   "execution_count": 132
  },
  {
   "metadata": {
    "ExecuteTime": {
     "end_time": "2025-03-27T11:11:00.885240Z",
     "start_time": "2025-03-27T11:11:00.127470Z"
    }
   },
   "cell_type": "code",
   "source": [
    "from sklearn.metrics import confusion_matrix\n",
    "import seaborn as sns\n",
    "import matplotlib.pyplot as plt\n",
    "\n",
    "# Generate confusion matrix\n",
    "conf_matrix = confusion_matrix(y_test, y_pred)\n",
    "\n",
    "# Plot confusion matrix\n",
    "plt.figure(figsize=(5, 4))\n",
    "sns.heatmap(conf_matrix, annot=True, fmt=\"d\", cmap=\"Blues\", xticklabels=[\"Loss\", \"Win\"], yticklabels=[\"Loss\", \"Win\"])\n",
    "plt.xlabel(\"Predicted\")\n",
    "plt.ylabel(\"Actual\")\n",
    "plt.title(\"Confusion Matrix\")\n",
    "plt.show()\n"
   ],
   "id": "7602d43d27ce35fc",
   "outputs": [
    {
     "data": {
      "text/plain": [
       "<Figure size 500x400 with 2 Axes>"
      ],
      "image/png": "[encoded data removed]"
     },
     "metadata": {},
     "output_type": "display_data"
    }
   ],
   "execution_count": 133
  },
  {
   "metadata": {
    "ExecuteTime": {
     "end_time": "2025-03-27T11:11:01.642705Z",
     "start_time": "2025-03-27T11:11:00.951356Z"
    }
   },
   "cell_type": "code",
   "source": [
    "from sklearn.metrics import roc_curve, auc\n",
    "\n",
    "# Get False Positive Rate, True Positive Rate\n",
    "fpr, tpr, thresholds = roc_curve(y_test, y_pred_proba)\n",
    "roc_auc = auc(fpr, tpr)\n",
    "\n",
    "# Plot ROC Curve\n",
    "plt.figure(figsize=(6, 5))\n",
    "plt.plot(fpr, tpr, label=f\"ROC Curve (AUC = {roc_auc:.2f})\", color=\"blue\")\n",
    "plt.plot([0, 1], [0, 1], linestyle=\"--\", color=\"gray\")  # Random guess line\n",
    "plt.xlabel(\"False Positive Rate\")\n",
    "plt.ylabel(\"True Positive Rate\")\n",
    "plt.title(\"ROC Curve\")\n",
    "plt.legend()\n",
    "plt.show()\n"
   ],
   "id": "6bec2ebb6795bbc0",
   "outputs": [
    {
     "data": {
      "text/plain": [
       "<Figure size 600x500 with 1 Axes>"
      ],
      "image/png": "[encoded data removed]"
     },
     "metadata": {},
     "output_type": "display_data"
    }
   ],
   "execution_count": 134
  },
  {
   "metadata": {
    "ExecuteTime": {
     "end_time": "2025-03-27T11:11:02.899149Z",
     "start_time": "2025-03-27T11:11:02.239476Z"
    }
   },
   "cell_type": "code",
   "source": [
    "import matplotlib.pyplot as plt\n",
    "\n",
    "# Get feature importance\n",
    "importances = xgb_best.feature_importances_\n",
    "\n",
    "# Plot feature importance\n",
    "plt.figure(figsize=(10, 6))\n",
    "plt.barh(features, importances, color=\"blue\")\n",
    "plt.xlabel(\"Importance Score\")\n",
    "plt.ylabel(\"Feature\")\n",
    "plt.title(\"Feature Importance in Optimized XGBoost Model\")\n",
    "plt.show()\n"
   ],
   "id": "3c1fba402cb691a5",
   "outputs": [
    {
     "data": {
      "text/plain": [
       "<Figure size 1000x600 with 1 Axes>"
      ],
      "image/png": "[encoded data removed]"
     },
     "metadata": {},
     "output_type": "display_data"
    }
   ],
   "execution_count": 135
  },
  {
   "metadata": {
    "ExecuteTime": {
     "end_time": "2025-03-27T11:11:04.163221Z",
     "start_time": "2025-03-27T11:11:03.478744Z"
    }
   },
   "cell_type": "code",
   "source": [
    "from xgboost import plot_importance\n",
    "import matplotlib.pyplot as plt\n",
    "\n",
    "plot_importance(xgb_model)\n",
    "plt.title(\"Feature Importance (XGBoost)\")\n",
    "plt.show()\n"
   ],
   "id": "bf0d94816299a91a",
   "outputs": [
    {
     "data": {
      "text/plain": [
       "<Figure size 640x480 with 1 Axes>"
      ],
      "image/png": "[encoded data removed]"
     },
     "metadata": {},
     "output_type": "display_data"
    }
   ],
   "execution_count": 136
  },
  {
   "metadata": {
    "ExecuteTime": {
     "end_time": "2025-03-27T11:11:06.808809700Z",
     "start_time": "2025-03-10T14:09:07.489758Z"
    }
   },
   "cell_type": "code",
   "source": [
    "import seaborn as sns\n",
    "from sklearn.metrics import confusion_matrix\n",
    "\n",
    "cm = confusion_matrix(y_test, y_pred_xgb)\n",
    "plt.figure(figsize=(6, 5))\n",
    "sns.heatmap(cm, annot=True, fmt=\"d\", cmap=\"Blues\", xticklabels=[\"Loss\", \"Win\"], yticklabels=[\"Loss\", \"Win\"])\n",
    "plt.xlabel(\"Predicted Label\")\n",
    "plt.ylabel(\"True Label\")\n",
    "plt.title(\"Confusion Matrix (XGBoost)\")\n",
    "plt.show()\n"
   ],
   "id": "fc88ad0dbfd1de84",
   "outputs": [
    {
     "data": {
      "text/plain": [
       "<Figure size 600x500 with 2 Axes>"
      ],
      "image/png": "[encoded data removed]"
     },
     "metadata": {},
     "output_type": "display_data"
    }
   ],
   "execution_count": 56
  },
  {
   "metadata": {
    "ExecuteTime": {
     "end_time": "2025-03-27T11:11:06.810804400Z",
     "start_time": "2025-03-10T14:09:40.894811Z"
    }
   },
   "cell_type": "code",
   "source": [
    "plt.figure(figsize=(12, 6))\n",
    "sns.histplot(tourney_seeds[\"Seed\"].astype(str).apply(lambda x: int(re.sub(r\"[A-Za-z]\", \"\", x))), bins=16)\n",
    "plt.xlabel(\"Seed\")\n",
    "plt.ylabel(\"Number of Teams\")\n",
    "plt.title(\"Distribution of Tournament Team Seeds\")\n",
    "plt.show()\n"
   ],
   "id": "28a2ddda4005ae5b",
   "outputs": [
    {
     "data": {
      "text/plain": [
       "<Figure size 1200x600 with 1 Axes>"
      ],
      "image/png": "[encoded data removed]"
     },
     "metadata": {},
     "output_type": "display_data"
    }
   ],
   "execution_count": 58
  }
 ],
 "metadata": {
  "kernelspec": {
   "display_name": "Python 3",
   "language": "python",
   "name": "python3"
  },
  "language_info": {
   "codemirror_mode": {
    "name": "ipython",
    "version": 2
   },
   "file_extension": ".py",
   "mimetype": "text/x-python",
   "name": "python",
   "nbconvert_exporter": "python",
   "pygments_lexer": "ipython2",
   "version": "2.7.6"
  }
 },
 "nbformat": 4,
 "nbformat_minor": 5
}
