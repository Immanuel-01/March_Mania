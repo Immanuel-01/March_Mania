{
 "cells": [
  {
   "cell_type": "code",
   "id": "initial_id",
   "metadata": {
    "collapsed": true,
    "ExecuteTime": {
     "end_time": "2025-03-07T16:23:55.311720Z",
     "start_time": "2025-03-07T16:23:55.291836Z"
    }
   },
   "source": [
    "import pandas as pd\n",
    "import os\n",
    "import numpy as np\n",
    "import re\n",
    "import itertools\n",
    "import joblib\n",
    "import matplotlib.pyplot as plt\n",
    "from sklearn.preprocessing import StandardScaler\n",
    "from sklearn.model_selection import train_test_split\n",
    "from sklearn.linear_model import LogisticRegression\n",
    "from sklearn.metrics import accuracy_score, log_loss, confusion_matrix\n",
    "from xgboost import XGBClassifier\n"
   ],
   "outputs": [],
   "execution_count": 293
  },
  {
   "metadata": {
    "ExecuteTime": {
     "end_time": "2025-03-07T16:23:58.323144Z",
     "start_time": "2025-03-07T16:23:55.403381Z"
    }
   },
   "cell_type": "code",
   "source": [
    "BASE_DIR = \"data\"\n",
    "\n",
    "\n",
    "def load_csv(filename):\n",
    "    return pd.read_csv(os.path.join(BASE_DIR, filename))\n",
    "\n",
    "\n",
    "teams = load_csv(\"WTeams.csv\")\n",
    "seasons = load_csv(\"WSeasons.csv\")\n",
    "tourney_seeds = load_csv(\"WNCAATourneySeeds.csv\")\n",
    "regular_season_results = load_csv(\"WRegularSeasonCompactResults.csv\")\n",
    "tourney_results = load_csv(\"WNCAATourneyCompactResults.csv\")\n",
    "regular_season_detailed = load_csv(\"WRegularSeasonDetailedResults.csv\")\n",
    "tourney_detailed = load_csv(\"WNCAATourneyDetailedResults.csv\")\n"
   ],
   "id": "c533a77ee49b7c04",
   "outputs": [],
   "execution_count": 294
  },
  {
   "metadata": {
    "ExecuteTime": {
     "end_time": "2025-03-07T16:24:00.126397Z",
     "start_time": "2025-03-07T16:24:00.019047Z"
    }
   },
   "cell_type": "code",
   "source": [
    "datasets = {\n",
    "    \"Teams\": teams,\n",
    "    \"Seasons\": seasons,\n",
    "    \"Tourney Seeds\": tourney_seeds,\n",
    "    \"Regular Season Results\": regular_season_results,\n",
    "    \"Tourney Results\": tourney_results,\n",
    "    \"Regular Season Detailed\": regular_season_detailed,\n",
    "    \"Tourney Detailed\": tourney_detailed\n",
    "}\n",
    "\n",
    "for name, df in datasets.items():\n",
    "    print(f\"\\n{name} Dataset Sample:\")\n",
    "    print(df.head(), \"\\n\")\n"
   ],
   "id": "e7cbcc640feed982",
   "outputs": [
    {
     "name": "stdout",
     "output_type": "stream",
     "text": [
      "\n",
      "Teams Dataset Sample:\n",
      "   TeamID     TeamName\n",
      "0    3101  Abilene Chr\n",
      "1    3102    Air Force\n",
      "2    3103        Akron\n",
      "3    3104      Alabama\n",
      "4    3105  Alabama A&M \n",
      "\n",
      "\n",
      "Seasons Dataset Sample:\n",
      "   Season     DayZero RegionW  RegionX  RegionY  RegionZ\n",
      "0    1998  10/27/1997    East  Midwest  Mideast     West\n",
      "1    1999  10/26/1998    East  Mideast  Midwest     West\n",
      "2    2000  11/01/1999    East  Midwest  Mideast     West\n",
      "3    2001  10/30/2000    East  Midwest  Mideast     West\n",
      "4    2002  10/29/2001    East     West  Mideast  Midwest \n",
      "\n",
      "\n",
      "Tourney Seeds Dataset Sample:\n",
      "   Season Seed  TeamID\n",
      "0    1998  W01    3330\n",
      "1    1998  W02    3163\n",
      "2    1998  W03    3112\n",
      "3    1998  W04    3301\n",
      "4    1998  W05    3272 \n",
      "\n",
      "\n",
      "Regular Season Results Dataset Sample:\n",
      "   Season  DayNum  WTeamID  WScore  LTeamID  LScore WLoc  NumOT\n",
      "0    1998      18     3104      91     3202      41    H      0\n",
      "1    1998      18     3163      87     3221      76    H      0\n",
      "2    1998      18     3222      66     3261      59    H      0\n",
      "3    1998      18     3307      69     3365      62    H      0\n",
      "4    1998      18     3349     115     3411      35    H      0 \n",
      "\n",
      "\n",
      "Tourney Results Dataset Sample:\n",
      "   Season  DayNum  WTeamID  WScore  LTeamID  LScore WLoc  NumOT\n",
      "0    1998     137     3104      94     3422      46    H      0\n",
      "1    1998     137     3112      75     3365      63    H      0\n",
      "2    1998     137     3163      93     3193      52    H      0\n",
      "3    1998     137     3198      59     3266      45    H      0\n",
      "4    1998     137     3203      74     3208      72    A      0 \n",
      "\n",
      "\n",
      "Regular Season Detailed Dataset Sample:\n",
      "   Season  DayNum  WTeamID  WScore  LTeamID  LScore WLoc  NumOT  WFGM  WFGA  \\\n",
      "0    2010      11     3103      63     3237      49    H      0    23    54   \n",
      "1    2010      11     3104      73     3399      68    N      0    26    62   \n",
      "2    2010      11     3110      71     3224      59    A      0    29    62   \n",
      "3    2010      11     3111      63     3267      58    A      0    27    52   \n",
      "4    2010      11     3119      74     3447      70    H      1    30    74   \n",
      "\n",
      "   ...  LFGA3  LFTM  LFTA  LOR  LDR  LAst  LTO  LStl  LBlk  LPF  \n",
      "0  ...     13     6    10   11   27    11   23     7     6   19  \n",
      "1  ...     21    14    27   14   26     7   20     4     2   27  \n",
      "2  ...     14    19    23   17   23     8   15     6     0   15  \n",
      "3  ...     26    16    25   22   22    15   11    14     5   14  \n",
      "4  ...     17    11    21   21   32    12   14     4     2   14  \n",
      "\n",
      "[5 rows x 34 columns] \n",
      "\n",
      "\n",
      "Tourney Detailed Dataset Sample:\n",
      "   Season  DayNum  WTeamID  WScore  LTeamID  LScore WLoc  NumOT  WFGM  WFGA  \\\n",
      "0    2010     138     3124      69     3201      55    N      0    28    57   \n",
      "1    2010     138     3173      67     3395      66    N      0    23    59   \n",
      "2    2010     138     3181      72     3214      37    H      0    26    57   \n",
      "3    2010     138     3199      75     3256      61    H      0    25    63   \n",
      "4    2010     138     3207      62     3265      42    N      0    24    68   \n",
      "\n",
      "   ...  LFGA3  LFTM  LFTA  LOR  LDR  LAst  LTO  LStl  LBlk  LPF  \n",
      "0  ...     34     3     5   17   19    12   18     4     1   18  \n",
      "1  ...     27    14    15   18   26     8    8     8     6   22  \n",
      "2  ...     15     3     8   10   21     4   16     6     4   20  \n",
      "3  ...     20    17    22   16   21    13   16     5     4   24  \n",
      "4  ...     26    11    17   16   22     9   10     3     4   12  \n",
      "\n",
      "[5 rows x 34 columns] \n",
      "\n"
     ]
    }
   ],
   "execution_count": 295
  },
  {
   "metadata": {
    "ExecuteTime": {
     "end_time": "2025-03-07T16:24:01.747749Z",
     "start_time": "2025-03-07T16:24:01.725956Z"
    }
   },
   "cell_type": "code",
   "source": "tourney_results[\"HomeWinBonus\"] = (tourney_results[\"WLoc\"] == \"H\").astype(int)\n",
   "id": "5ff4d34dd593bfce",
   "outputs": [],
   "execution_count": 296
  },
  {
   "metadata": {
    "ExecuteTime": {
     "end_time": "2025-03-07T16:24:03.395489Z",
     "start_time": "2025-03-07T16:24:03.346138Z"
    }
   },
   "cell_type": "code",
   "source": [
    "tourney_results = tourney_results.merge(\n",
    "    tourney_seeds, how=\"left\", left_on=[\"Season\", \"WTeamID\"], right_on=[\"Season\", \"TeamID\"]\n",
    ").rename(columns={\"Seed\": \"WSeed\"})\n",
    "\n",
    "tourney_results = tourney_results.merge(\n",
    "    tourney_seeds, how=\"left\", left_on=[\"Season\", \"LTeamID\"], right_on=[\"Season\", \"TeamID\"]\n",
    ").rename(columns={\"Seed\": \"LSeed\"})\n",
    "\n",
    "# Drop duplicate TeamID columns\n",
    "tourney_results.drop(columns=[\"TeamID_x\", \"TeamID_y\"], inplace=True)\n",
    "\n",
    "print(\"✅ Tournament Seeds Merged\")\n"
   ],
   "id": "42653a70385f8202",
   "outputs": [
    {
     "name": "stdout",
     "output_type": "stream",
     "text": [
      "✅ Tournament Seeds Merged\n"
     ]
    }
   ],
   "execution_count": 297
  },
  {
   "metadata": {
    "ExecuteTime": {
     "end_time": "2025-03-07T16:24:05.071718Z",
     "start_time": "2025-03-07T16:24:04.942466Z"
    }
   },
   "cell_type": "code",
   "source": [
    "regular_season_summary = regular_season_results.groupby([\"Season\", \"WTeamID\"]).agg({\n",
    "    \"WScore\": \"mean\",\n",
    "    \"LScore\": \"mean\",\n",
    "    \"NumOT\": \"mean\"\n",
    "}).reset_index().rename(\n",
    "    columns={\"WTeamID\": \"TeamID\", \"WScore\": \"AvgPointsScored\", \"LScore\": \"AvgPointsConceded\", \"NumOT\": \"AvgOT\"})\n",
    "\n",
    "tourney_results = tourney_results.merge(\n",
    "    regular_season_summary, how=\"left\", left_on=[\"Season\", \"WTeamID\"], right_on=[\"Season\", \"TeamID\"]\n",
    ").rename(columns={\"AvgPointsScored\": \"WAvgPointsScored\", \"AvgPointsConceded\": \"WAvgPointsConceded\", \"AvgOT\": \"WAvgOT\"})\n",
    "\n",
    "tourney_results = tourney_results.merge(\n",
    "    regular_season_summary, how=\"left\", left_on=[\"Season\", \"LTeamID\"], right_on=[\"Season\", \"TeamID\"]\n",
    ").rename(columns={\"AvgPointsScored\": \"LAvgPointsScored\", \"AvgPointsConceded\": \"LAvgPointsConceded\", \"AvgOT\": \"LAvgOT\"})\n",
    "\n",
    "# Drop duplicate TeamID columns\n",
    "tourney_results.drop(columns=[\"TeamID_x\", \"TeamID_y\"], inplace=True)\n",
    "\n",
    "print(\"✅ Regular Season Performance Merged\")\n"
   ],
   "id": "29721ad379907699",
   "outputs": [
    {
     "name": "stdout",
     "output_type": "stream",
     "text": [
      "✅ Regular Season Performance Merged\n"
     ]
    }
   ],
   "execution_count": 298
  },
  {
   "metadata": {
    "ExecuteTime": {
     "end_time": "2025-03-07T16:24:06.726493Z",
     "start_time": "2025-03-07T16:24:06.673298Z"
    }
   },
   "cell_type": "code",
   "source": [
    "# Convert seed values from string to numeric\n",
    "tourney_results[\"WSeed\"] = tourney_results[\"WSeed\"].astype(str).str.extract(\"(\\d+)\").astype(float)\n",
    "tourney_results[\"LSeed\"] = tourney_results[\"LSeed\"].astype(str).str.extract(\"(\\d+)\").astype(float)\n",
    "\n",
    "# Compute Seed Difference\n",
    "tourney_results[\"SeedDiff\"] = tourney_results[\"WSeed\"] - tourney_results[\"LSeed\"]\n"
   ],
   "id": "7257aacff3b90a4b",
   "outputs": [
    {
     "name": "stderr",
     "output_type": "stream",
     "text": [
      "<>:2: SyntaxWarning: invalid escape sequence '\\d'\n",
      "<>:3: SyntaxWarning: invalid escape sequence '\\d'\n",
      "<>:2: SyntaxWarning: invalid escape sequence '\\d'\n",
      "<>:3: SyntaxWarning: invalid escape sequence '\\d'\n",
      "C:\\Users\\Emmanuel Okunfolami\\AppData\\Local\\Temp\\ipykernel_9508\\803557826.py:2: SyntaxWarning: invalid escape sequence '\\d'\n",
      "  tourney_results[\"WSeed\"] = tourney_results[\"WSeed\"].astype(str).str.extract(\"(\\d+)\").astype(float)\n",
      "C:\\Users\\Emmanuel Okunfolami\\AppData\\Local\\Temp\\ipykernel_9508\\803557826.py:3: SyntaxWarning: invalid escape sequence '\\d'\n",
      "  tourney_results[\"LSeed\"] = tourney_results[\"LSeed\"].astype(str).str.extract(\"(\\d+)\").astype(float)\n"
     ]
    }
   ],
   "execution_count": 299
  },
  {
   "metadata": {
    "ExecuteTime": {
     "end_time": "2025-03-07T16:24:08.333683Z",
     "start_time": "2025-03-07T16:24:08.310618Z"
    }
   },
   "cell_type": "code",
   "source": [
    "tourney_results[\"W_OffensiveRating\"] = tourney_results[\"WAvgPointsScored\"] - tourney_results[\"LAvgPointsConceded\"]\n",
    "tourney_results[\"L_OffensiveRating\"] = tourney_results[\"LAvgPointsScored\"] - tourney_results[\"WAvgPointsConceded\"]\n",
    "\n",
    "tourney_results[\"W_DefensiveRating\"] = tourney_results[\"WAvgPointsConceded\"] - tourney_results[\"LAvgPointsScored\"]\n",
    "tourney_results[\"L_DefensiveRating\"] = tourney_results[\"LAvgPointsConceded\"] - tourney_results[\"WAvgPointsScored\"]\n"
   ],
   "id": "3b43ac7c6ec91e9c",
   "outputs": [],
   "execution_count": 300
  },
  {
   "metadata": {
    "ExecuteTime": {
     "end_time": "2025-03-07T16:24:10.290622Z",
     "start_time": "2025-03-07T16:24:10.106370Z"
    }
   },
   "cell_type": "code",
   "source": [
    "tourney_results_flipped = tourney_results.copy()\n",
    "\n",
    "# Swap winning and losing team stats\n",
    "tourney_results_flipped[\"SeedDiff\"] *= -1\n",
    "tourney_results_flipped[\"W_OffensiveRating\"], tourney_results_flipped[\"L_OffensiveRating\"] = (\n",
    "    tourney_results_flipped[\"L_OffensiveRating\"],\n",
    "    tourney_results_flipped[\"W_OffensiveRating\"],\n",
    ")\n",
    "tourney_results_flipped[\"W_DefensiveRating\"], tourney_results_flipped[\"L_DefensiveRating\"] = (\n",
    "    tourney_results_flipped[\"L_DefensiveRating\"],\n",
    "    tourney_results_flipped[\"W_DefensiveRating\"],\n",
    ")\n",
    "\n",
    "# Change the target label (flipping the match outcome)\n",
    "tourney_results_flipped[\"WinLabel\"] = 0\n",
    "\n",
    "# Combine the original and flipped datasets\n",
    "final_dataset = pd.concat([tourney_results, tourney_results_flipped], ignore_index=True)\n",
    "\n",
    "# Shuffle the dataset\n",
    "final_dataset = final_dataset.sample(frac=1, random_state=42).reset_index(drop=True)\n",
    "\n",
    "# Check if we now have both classes\n",
    "print(f\"✅ Class Distribution: \\n{final_dataset['WinLabel'].value_counts()}\")\n"
   ],
   "id": "322d52aa1b9c7fd8",
   "outputs": [
    {
     "name": "stdout",
     "output_type": "stream",
     "text": [
      "✅ Class Distribution: \n",
      "WinLabel\n",
      "0.0    1650\n",
      "Name: count, dtype: int64\n"
     ]
    }
   ],
   "execution_count": 301
  },
  {
   "metadata": {
    "ExecuteTime": {
     "end_time": "2025-03-07T16:24:10.999917Z",
     "start_time": "2025-03-07T16:24:10.976199Z"
    }
   },
   "cell_type": "code",
   "source": "print(\"Missing values in y:\", y.isnull().sum())\n",
   "id": "bbfce7e37255ddea",
   "outputs": [
    {
     "name": "stdout",
     "output_type": "stream",
     "text": [
      "Missing values in y: 0\n"
     ]
    }
   ],
   "execution_count": 302
  },
  {
   "metadata": {
    "ExecuteTime": {
     "end_time": "2025-03-07T16:24:11.774144Z",
     "start_time": "2025-03-07T16:24:11.743260Z"
    }
   },
   "cell_type": "code",
   "source": "print(\"Missing values in y after cleaning:\", y.isnull().sum())\n",
   "id": "e7fa12c5df1bf423",
   "outputs": [
    {
     "name": "stdout",
     "output_type": "stream",
     "text": [
      "Missing values in y after cleaning: 0\n"
     ]
    }
   ],
   "execution_count": 303
  },
  {
   "metadata": {
    "ExecuteTime": {
     "end_time": "2025-03-07T16:24:13.284145Z",
     "start_time": "2025-03-07T16:24:13.217250Z"
    }
   },
   "cell_type": "code",
   "source": "print(\"Class distribution in y_train:\\n\", y_train.value_counts())\n",
   "id": "b7c7051b5ba8cdc5",
   "outputs": [
    {
     "name": "stdout",
     "output_type": "stream",
     "text": [
      "Class distribution in y_train:\n",
      " WinLabel\n",
      "1    508655\n",
      "0    508359\n",
      "Name: count, dtype: int64\n"
     ]
    }
   ],
   "execution_count": 304
  },
  {
   "metadata": {
    "ExecuteTime": {
     "end_time": "2025-03-07T16:24:13.455093Z",
     "start_time": "2025-03-07T16:24:13.435779Z"
    }
   },
   "cell_type": "code",
   "source": "print(\"Class distribution in full dataset:\\n\", final_dataset[\"WinLabel\"].value_counts())\n",
   "id": "c3962ca3b9330889",
   "outputs": [
    {
     "name": "stdout",
     "output_type": "stream",
     "text": [
      "Class distribution in full dataset:\n",
      " WinLabel\n",
      "0.0    1650\n",
      "Name: count, dtype: int64\n"
     ]
    }
   ],
   "execution_count": 305
  },
  {
   "metadata": {
    "ExecuteTime": {
     "end_time": "2025-03-07T16:24:15.547806Z",
     "start_time": "2025-03-07T16:24:14.143658Z"
    }
   },
   "cell_type": "code",
   "source": [
    "# Compute Win/Loss Streaks\n",
    "regular_season_results[\"WinStreak\"] = regular_season_results.groupby([\"Season\", \"WTeamID\"]).cumcount() + 1\n",
    "regular_season_results[\"LoseStreak\"] = regular_season_results.groupby([\"Season\", \"LTeamID\"]).cumcount() + 1\n",
    "\n",
    "# Merge Win/Loss streaks with tournament results\n",
    "final_dataset = final_dataset.merge(\n",
    "    regular_season_results[[\"Season\", \"WTeamID\", \"WinStreak\"]],\n",
    "    how=\"left\", left_on=[\"Season\", \"WTeamID\"], right_on=[\"Season\", \"WTeamID\"]\n",
    ").rename(columns={\"WinStreak\": \"WWinStreak\"})\n",
    "\n",
    "final_dataset = final_dataset.merge(\n",
    "    regular_season_results[[\"Season\", \"LTeamID\", \"LoseStreak\"]],\n",
    "    how=\"left\", left_on=[\"Season\", \"LTeamID\"], right_on=[\"Season\", \"LTeamID\"]\n",
    ").rename(columns={\"LoseStreak\": \"LLoseStreak\"})\n",
    "\n",
    "# Compute Point Differential\n",
    "final_dataset[\"PointDiff\"] = final_dataset[\"WAvgPointsScored\"] - final_dataset[\"LAvgPointsScored\"]\n",
    "\n",
    "# Fill missing values with 0\n",
    "final_dataset[\"WWinStreak\"].fillna(0, inplace=True)\n",
    "final_dataset[\"LLoseStreak\"].fillna(0, inplace=True)\n",
    "final_dataset[\"PointDiff\"].fillna(0, inplace=True)\n",
    "\n",
    "print(\"✅ Features computed before balancing!\")\n"
   ],
   "id": "5ed6ac49c9cdc7ef",
   "outputs": [
    {
     "name": "stdout",
     "output_type": "stream",
     "text": [
      "✅ Features computed before balancing!\n"
     ]
    },
    {
     "name": "stderr",
     "output_type": "stream",
     "text": [
      "C:\\Users\\Emmanuel Okunfolami\\AppData\\Local\\Temp\\ipykernel_9508\\1574382924.py:20: FutureWarning: A value is trying to be set on a copy of a DataFrame or Series through chained assignment using an inplace method.\n",
      "The behavior will change in pandas 3.0. This inplace method will never work because the intermediate object on which we are setting values always behaves as a copy.\n",
      "\n",
      "For example, when doing 'df[col].method(value, inplace=True)', try using 'df.method({col: value}, inplace=True)' or df[col] = df[col].method(value) instead, to perform the operation inplace on the original object.\n",
      "\n",
      "\n",
      "  final_dataset[\"WWinStreak\"].fillna(0, inplace=True)\n",
      "C:\\Users\\Emmanuel Okunfolami\\AppData\\Local\\Temp\\ipykernel_9508\\1574382924.py:21: FutureWarning: A value is trying to be set on a copy of a DataFrame or Series through chained assignment using an inplace method.\n",
      "The behavior will change in pandas 3.0. This inplace method will never work because the intermediate object on which we are setting values always behaves as a copy.\n",
      "\n",
      "For example, when doing 'df[col].method(value, inplace=True)', try using 'df.method({col: value}, inplace=True)' or df[col] = df[col].method(value) instead, to perform the operation inplace on the original object.\n",
      "\n",
      "\n",
      "  final_dataset[\"LLoseStreak\"].fillna(0, inplace=True)\n",
      "C:\\Users\\Emmanuel Okunfolami\\AppData\\Local\\Temp\\ipykernel_9508\\1574382924.py:22: FutureWarning: A value is trying to be set on a copy of a DataFrame or Series through chained assignment using an inplace method.\n",
      "The behavior will change in pandas 3.0. This inplace method will never work because the intermediate object on which we are setting values always behaves as a copy.\n",
      "\n",
      "For example, when doing 'df[col].method(value, inplace=True)', try using 'df.method({col: value}, inplace=True)' or df[col] = df[col].method(value) instead, to perform the operation inplace on the original object.\n",
      "\n",
      "\n",
      "  final_dataset[\"PointDiff\"].fillna(0, inplace=True)\n"
     ]
    }
   ],
   "execution_count": 306
  },
  {
   "metadata": {
    "ExecuteTime": {
     "end_time": "2025-03-07T16:24:16.603847Z",
     "start_time": "2025-03-07T16:24:16.577708Z"
    }
   },
   "cell_type": "code",
   "source": "print(\"Missing values in y:\", y.isnull().sum())\n",
   "id": "88792ea7d84e0203",
   "outputs": [
    {
     "name": "stdout",
     "output_type": "stream",
     "text": [
      "Missing values in y: 0\n"
     ]
    }
   ],
   "execution_count": 307
  },
  {
   "metadata": {
    "ExecuteTime": {
     "end_time": "2025-03-07T16:24:18.061610Z",
     "start_time": "2025-03-07T16:24:17.661885Z"
    }
   },
   "cell_type": "code",
   "source": [
    "# Display a few rows where `WinLabel` is missing\n",
    "missing_rows = final_dataset[final_dataset[\"WinLabel\"].isnull()]\n",
    "print(\"Rows with missing WinLabel:\\n\", missing_rows.head())\n",
    "\n",
    "# Count missing values in the entire dataset\n",
    "print(\"Missing values per column:\\n\", final_dataset.isnull().sum())\n"
   ],
   "id": "4e603565fc5393d9",
   "outputs": [
    {
     "name": "stdout",
     "output_type": "stream",
     "text": [
      "Rows with missing WinLabel:\n",
      "    Season  DayNum  WTeamID  WScore  LTeamID  LScore WLoc  NumOT  HomeWinBonus  \\\n",
      "0    1998     145     3301      55     3330      54    A      0             0   \n",
      "1    1998     145     3301      55     3330      54    A      0             0   \n",
      "2    1998     145     3301      55     3330      54    A      0             0   \n",
      "3    1998     145     3301      55     3330      54    A      0             0   \n",
      "4    1998     145     3301      55     3330      54    A      0             0   \n",
      "\n",
      "   WSeed  ...  LAvgOT  SeedDiff  W_OffensiveRating  L_OffensiveRating  \\\n",
      "0    4.0  ...     0.0       3.0          19.704762          23.110476   \n",
      "1    4.0  ...     0.0       3.0          19.704762          23.110476   \n",
      "2    4.0  ...     0.0       3.0          19.704762          23.110476   \n",
      "3    4.0  ...     0.0       3.0          19.704762          23.110476   \n",
      "4    4.0  ...     0.0       3.0          19.704762          23.110476   \n",
      "\n",
      "   W_DefensiveRating  L_DefensiveRating  WinLabel  WWinStreak  LLoseStreak  \\\n",
      "0         -23.110476         -19.704762       NaN           1          1.0   \n",
      "1         -23.110476         -19.704762       NaN           1          2.0   \n",
      "2         -23.110476         -19.704762       NaN           2          1.0   \n",
      "3         -23.110476         -19.704762       NaN           2          2.0   \n",
      "4         -23.110476         -19.704762       NaN           3          1.0   \n",
      "\n",
      "   PointDiff  \n",
      "0  -6.015238  \n",
      "1  -6.015238  \n",
      "2  -6.015238  \n",
      "3  -6.015238  \n",
      "4  -6.015238  \n",
      "\n",
      "[5 rows x 26 columns]\n",
      "Missing values per column:\n",
      " Season                     0\n",
      "DayNum                     0\n",
      "WTeamID                    0\n",
      "WScore                     0\n",
      "LTeamID                    0\n",
      "LScore                     0\n",
      "WLoc                       0\n",
      "NumOT                      0\n",
      "HomeWinBonus               0\n",
      "WSeed                      0\n",
      "LSeed                      0\n",
      "WAvgPointsScored           0\n",
      "WAvgPointsConceded         0\n",
      "WAvgOT                     0\n",
      "LAvgPointsScored           0\n",
      "LAvgPointsConceded         0\n",
      "LAvgOT                     0\n",
      "SeedDiff                   0\n",
      "W_OffensiveRating          0\n",
      "L_OffensiveRating          0\n",
      "W_DefensiveRating          0\n",
      "L_DefensiveRating          0\n",
      "WinLabel              317817\n",
      "WWinStreak                 0\n",
      "LLoseStreak                0\n",
      "PointDiff                  0\n",
      "dtype: int64\n"
     ]
    }
   ],
   "execution_count": 308
  },
  {
   "metadata": {
    "ExecuteTime": {
     "end_time": "2025-03-07T16:24:19.123099Z",
     "start_time": "2025-03-07T16:24:19.094214Z"
    }
   },
   "cell_type": "code",
   "source": [
    "# If WTeamID exists, set WinLabel = 1 (Winning Team), otherwise 0\n",
    "final_dataset[\"WinLabel\"] = final_dataset[\"WTeamID\"].notnull().astype(int)\n",
    "\n",
    "print(\"✅ Recomputed `WinLabel` successfully!\")\n"
   ],
   "id": "2feddec09c89aea2",
   "outputs": [
    {
     "name": "stdout",
     "output_type": "stream",
     "text": [
      "✅ Recomputed `WinLabel` successfully!\n"
     ]
    }
   ],
   "execution_count": 309
  },
  {
   "metadata": {
    "ExecuteTime": {
     "end_time": "2025-03-07T16:24:20.229694Z",
     "start_time": "2025-03-07T16:24:20.204094Z"
    }
   },
   "cell_type": "code",
   "source": "print(\"Missing values in WinLabel after fixing:\", final_dataset[\"WinLabel\"].isnull().sum())\n",
   "id": "6dac937d1ea235e1",
   "outputs": [
    {
     "name": "stdout",
     "output_type": "stream",
     "text": [
      "Missing values in WinLabel after fixing: 0\n"
     ]
    }
   ],
   "execution_count": 310
  },
  {
   "metadata": {
    "ExecuteTime": {
     "end_time": "2025-03-07T16:24:21.328627Z",
     "start_time": "2025-03-07T16:24:21.312101Z"
    }
   },
   "cell_type": "code",
   "source": "print(\"Available columns in final_dataset:\", final_dataset.columns.tolist())\n",
   "id": "3dd693f701291dc0",
   "outputs": [
    {
     "name": "stdout",
     "output_type": "stream",
     "text": [
      "Available columns in final_dataset: ['Season', 'DayNum', 'WTeamID', 'WScore', 'LTeamID', 'LScore', 'WLoc', 'NumOT', 'HomeWinBonus', 'WSeed', 'LSeed', 'WAvgPointsScored', 'WAvgPointsConceded', 'WAvgOT', 'LAvgPointsScored', 'LAvgPointsConceded', 'LAvgOT', 'SeedDiff', 'W_OffensiveRating', 'L_OffensiveRating', 'W_DefensiveRating', 'L_DefensiveRating', 'WinLabel', 'WWinStreak', 'LLoseStreak', 'PointDiff']\n"
     ]
    }
   ],
   "execution_count": 311
  },
  {
   "metadata": {
    "ExecuteTime": {
     "end_time": "2025-03-07T16:24:22.579023Z",
     "start_time": "2025-03-07T16:24:22.541830Z"
    }
   },
   "cell_type": "code",
   "source": [
    "# Print class distribution\n",
    "print(\"Class distribution in WinLabel:\\n\", final_dataset[\"WinLabel\"].value_counts())\n"
   ],
   "id": "e61f717d3318c6e0",
   "outputs": [
    {
     "name": "stdout",
     "output_type": "stream",
     "text": [
      "Class distribution in WinLabel:\n",
      " WinLabel\n",
      "1    635634\n",
      "Name: count, dtype: int64\n"
     ]
    }
   ],
   "execution_count": 312
  },
  {
   "metadata": {
    "ExecuteTime": {
     "end_time": "2025-03-07T16:24:27.685688Z",
     "start_time": "2025-03-07T16:24:24.658131Z"
    }
   },
   "cell_type": "code",
   "source": [
    "# Duplicate and flip matches to create losses\n",
    "tourney_results_flipped = final_dataset.copy()\n",
    "\n",
    "# Swap team-related stats for losing team as winning team\n",
    "tourney_results_flipped[\"SeedDiff\"] *= -1\n",
    "tourney_results_flipped[\"W_OffensiveRating\"], tourney_results_flipped[\"L_OffensiveRating\"] = (\n",
    "    tourney_results_flipped[\"L_OffensiveRating\"],\n",
    "    tourney_results_flipped[\"W_OffensiveRating\"],\n",
    ")\n",
    "tourney_results_flipped[\"W_DefensiveRating\"], tourney_results_flipped[\"L_DefensiveRating\"] = (\n",
    "    tourney_results_flipped[\"L_DefensiveRating\"],\n",
    "    tourney_results_flipped[\"W_DefensiveRating\"],\n",
    ")\n",
    "\n",
    "# Swap Win/Loss Streaks\n",
    "tourney_results_flipped[\"WWinStreak\"], tourney_results_flipped[\"LLoseStreak\"] = (\n",
    "    tourney_results_flipped[\"LLoseStreak\"],\n",
    "    tourney_results_flipped[\"WWinStreak\"],\n",
    ")\n",
    "\n",
    "# Flip Point Differential\n",
    "tourney_results_flipped[\"PointDiff\"] *= -1\n",
    "\n",
    "# Flip WinLabel (change 1 → 0 and 0 → 1)\n",
    "tourney_results_flipped[\"WinLabel\"] = 1 - tourney_results_flipped[\"WinLabel\"]\n",
    "\n",
    "# Combine original and flipped datasets\n",
    "final_dataset = pd.concat([final_dataset, tourney_results_flipped], ignore_index=True)\n",
    "\n",
    "# Shuffle the dataset\n",
    "final_dataset = final_dataset.sample(frac=1, random_state=42).reset_index(drop=True)\n",
    "\n",
    "# Check new class distribution\n",
    "print(\"✅ Class distribution after balancing:\\n\", final_dataset[\"WinLabel\"].value_counts())\n"
   ],
   "id": "2cf5d21bccade742",
   "outputs": [
    {
     "name": "stdout",
     "output_type": "stream",
     "text": [
      "✅ Class distribution after balancing:\n",
      " WinLabel\n",
      "0    635634\n",
      "1    635634\n",
      "Name: count, dtype: int64\n"
     ]
    }
   ],
   "execution_count": 313
  },
  {
   "metadata": {
    "ExecuteTime": {
     "end_time": "2025-03-07T16:24:27.953001Z",
     "start_time": "2025-03-07T16:24:27.934361Z"
    }
   },
   "cell_type": "code",
   "source": [
    "# Print column names from the original DataFrame before scaling\n",
    "print(\"Training features:\", list(X.columns))  # Use X, not X_train\n",
    "print(\"New matchups features:\", list(X_new.columns))  # X_new should be a DataFrame\n"
   ],
   "id": "b54e9b0b407563a0",
   "outputs": [
    {
     "name": "stdout",
     "output_type": "stream",
     "text": [
      "Training features: ['SeedDiff', 'W_OffensiveRating', 'L_OffensiveRating', 'W_DefensiveRating', 'L_DefensiveRating', 'HomeWinBonus', 'WWinStreak', 'LLoseStreak', 'PointDiff']\n",
      "New matchups features: ['SeedDiff', 'W_OffensiveRating', 'L_OffensiveRating', 'W_DefensiveRating', 'L_DefensiveRating', 'HomeWinBonus', 'WWinStreak', 'LLoseStreak', 'PointDiff']\n"
     ]
    }
   ],
   "execution_count": 314
  },
  {
   "metadata": {
    "ExecuteTime": {
     "end_time": "2025-03-07T16:24:54.250916Z",
     "start_time": "2025-03-07T16:24:29.611955Z"
    }
   },
   "cell_type": "code",
   "source": [
    "features = [\"SeedDiff\", \"W_OffensiveRating\", \"L_OffensiveRating\",\n",
    "            \"W_DefensiveRating\", \"L_DefensiveRating\", \"HomeWinBonus\",\"WWinStreak\", \"LLoseStreak\", \"PointDiff\"]\n",
    "\n",
    "X = final_dataset[features]  # Use balanced dataset\n",
    "y = final_dataset[\"WinLabel\"]\n",
    "\n",
    "scaler = StandardScaler()\n",
    "X_scaled = scaler.fit_transform(X)\n",
    "\n",
    "X_train, X_test, y_train, y_test = train_test_split(X_scaled, y, test_size=0.2, random_state=42)\n",
    "\n",
    "log_reg = LogisticRegression(random_state=42)\n",
    "log_reg.fit(X_train, y_train)\n",
    "\n",
    "xgb_model = XGBClassifier(objective=\"binary:logistic\", eval_metric=\"logloss\", random_state=42)\n",
    "xgb_model.fit(X_train, y_train)\n"
   ],
   "id": "85e72c3adc0b5299",
   "outputs": [
    {
     "data": {
      "text/plain": [
       "XGBClassifier(base_score=None, booster=None, callbacks=None,\n",
       "              colsample_bylevel=None, colsample_bynode=None,\n",
       "              colsample_bytree=None, device=None, early_stopping_rounds=None,\n",
       "              enable_categorical=False, eval_metric='logloss',\n",
       "              feature_types=None, gamma=None, grow_policy=None,\n",
       "              importance_type=None, interaction_constraints=None,\n",
       "              learning_rate=None, max_bin=None, max_cat_threshold=None,\n",
       "              max_cat_to_onehot=None, max_delta_step=None, max_depth=None,\n",
       "              max_leaves=None, min_child_weight=None, missing=nan,\n",
       "              monotone_constraints=None, multi_strategy=None, n_estimators=None,\n",
       "              n_jobs=None, num_parallel_tree=None, random_state=42, ...)"
      ],
      "text/html": [
       "<style>#sk-container-id-9 {\n",
       "  /* Definition of color scheme common for light and dark mode */\n",
       "  --sklearn-color-text: #000;\n",
       "  --sklearn-color-text-muted: #666;\n",
       "  --sklearn-color-line: gray;\n",
       "  /* Definition of color scheme for unfitted estimators */\n",
       "  --sklearn-color-unfitted-level-0: #fff5e6;\n",
       "  --sklearn-color-unfitted-level-1: #f6e4d2;\n",
       "  --sklearn-color-unfitted-level-2: #ffe0b3;\n",
       "  --sklearn-color-unfitted-level-3: chocolate;\n",
       "  /* Definition of color scheme for fitted estimators */\n",
       "  --sklearn-color-fitted-level-0: #f0f8ff;\n",
       "  --sklearn-color-fitted-level-1: #d4ebff;\n",
       "  --sklearn-color-fitted-level-2: #b3dbfd;\n",
       "  --sklearn-color-fitted-level-3: cornflowerblue;\n",
       "\n",
       "  /* Specific color for light theme */\n",
       "  --sklearn-color-text-on-default-background: var(--sg-text-color, var(--theme-code-foreground, var(--jp-content-font-color1, black)));\n",
       "  --sklearn-color-background: var(--sg-background-color, var(--theme-background, var(--jp-layout-color0, white)));\n",
       "  --sklearn-color-border-box: var(--sg-text-color, var(--theme-code-foreground, var(--jp-content-font-color1, black)));\n",
       "  --sklearn-color-icon: #696969;\n",
       "\n",
       "  @media (prefers-color-scheme: dark) {\n",
       "    /* Redefinition of color scheme for dark theme */\n",
       "    --sklearn-color-text-on-default-background: var(--sg-text-color, var(--theme-code-foreground, var(--jp-content-font-color1, white)));\n",
       "    --sklearn-color-background: var(--sg-background-color, var(--theme-background, var(--jp-layout-color0, #111)));\n",
       "    --sklearn-color-border-box: var(--sg-text-color, var(--theme-code-foreground, var(--jp-content-font-color1, white)));\n",
       "    --sklearn-color-icon: #878787;\n",
       "  }\n",
       "}\n",
       "\n",
       "#sk-container-id-9 {\n",
       "  color: var(--sklearn-color-text);\n",
       "}\n",
       "\n",
       "#sk-container-id-9 pre {\n",
       "  padding: 0;\n",
       "}\n",
       "\n",
       "#sk-container-id-9 input.sk-hidden--visually {\n",
       "  border: 0;\n",
       "  clip: rect(1px 1px 1px 1px);\n",
       "  clip: rect(1px, 1px, 1px, 1px);\n",
       "  height: 1px;\n",
       "  margin: -1px;\n",
       "  overflow: hidden;\n",
       "  padding: 0;\n",
       "  position: absolute;\n",
       "  width: 1px;\n",
       "}\n",
       "\n",
       "#sk-container-id-9 div.sk-dashed-wrapped {\n",
       "  border: 1px dashed var(--sklearn-color-line);\n",
       "  margin: 0 0.4em 0.5em 0.4em;\n",
       "  box-sizing: border-box;\n",
       "  padding-bottom: 0.4em;\n",
       "  background-color: var(--sklearn-color-background);\n",
       "}\n",
       "\n",
       "#sk-container-id-9 div.sk-container {\n",
       "  /* jupyter's `normalize.less` sets `[hidden] { display: none; }`\n",
       "     but bootstrap.min.css set `[hidden] { display: none !important; }`\n",
       "     so we also need the `!important` here to be able to override the\n",
       "     default hidden behavior on the sphinx rendered scikit-learn.org.\n",
       "     See: https://github.com/scikit-learn/scikit-learn/issues/21755 */\n",
       "  display: inline-block !important;\n",
       "  position: relative;\n",
       "}\n",
       "\n",
       "#sk-container-id-9 div.sk-text-repr-fallback {\n",
       "  display: none;\n",
       "}\n",
       "\n",
       "div.sk-parallel-item,\n",
       "div.sk-serial,\n",
       "div.sk-item {\n",
       "  /* draw centered vertical line to link estimators */\n",
       "  background-image: linear-gradient(var(--sklearn-color-text-on-default-background), var(--sklearn-color-text-on-default-background));\n",
       "  background-size: 2px 100%;\n",
       "  background-repeat: no-repeat;\n",
       "  background-position: center center;\n",
       "}\n",
       "\n",
       "/* Parallel-specific style estimator block */\n",
       "\n",
       "#sk-container-id-9 div.sk-parallel-item::after {\n",
       "  content: \"\";\n",
       "  width: 100%;\n",
       "  border-bottom: 2px solid var(--sklearn-color-text-on-default-background);\n",
       "  flex-grow: 1;\n",
       "}\n",
       "\n",
       "#sk-container-id-9 div.sk-parallel {\n",
       "  display: flex;\n",
       "  align-items: stretch;\n",
       "  justify-content: center;\n",
       "  background-color: var(--sklearn-color-background);\n",
       "  position: relative;\n",
       "}\n",
       "\n",
       "#sk-container-id-9 div.sk-parallel-item {\n",
       "  display: flex;\n",
       "  flex-direction: column;\n",
       "}\n",
       "\n",
       "#sk-container-id-9 div.sk-parallel-item:first-child::after {\n",
       "  align-self: flex-end;\n",
       "  width: 50%;\n",
       "}\n",
       "\n",
       "#sk-container-id-9 div.sk-parallel-item:last-child::after {\n",
       "  align-self: flex-start;\n",
       "  width: 50%;\n",
       "}\n",
       "\n",
       "#sk-container-id-9 div.sk-parallel-item:only-child::after {\n",
       "  width: 0;\n",
       "}\n",
       "\n",
       "/* Serial-specific style estimator block */\n",
       "\n",
       "#sk-container-id-9 div.sk-serial {\n",
       "  display: flex;\n",
       "  flex-direction: column;\n",
       "  align-items: center;\n",
       "  background-color: var(--sklearn-color-background);\n",
       "  padding-right: 1em;\n",
       "  padding-left: 1em;\n",
       "}\n",
       "\n",
       "\n",
       "/* Toggleable style: style used for estimator/Pipeline/ColumnTransformer box that is\n",
       "clickable and can be expanded/collapsed.\n",
       "- Pipeline and ColumnTransformer use this feature and define the default style\n",
       "- Estimators will overwrite some part of the style using the `sk-estimator` class\n",
       "*/\n",
       "\n",
       "/* Pipeline and ColumnTransformer style (default) */\n",
       "\n",
       "#sk-container-id-9 div.sk-toggleable {\n",
       "  /* Default theme specific background. It is overwritten whether we have a\n",
       "  specific estimator or a Pipeline/ColumnTransformer */\n",
       "  background-color: var(--sklearn-color-background);\n",
       "}\n",
       "\n",
       "/* Toggleable label */\n",
       "#sk-container-id-9 label.sk-toggleable__label {\n",
       "  cursor: pointer;\n",
       "  display: flex;\n",
       "  width: 100%;\n",
       "  margin-bottom: 0;\n",
       "  padding: 0.5em;\n",
       "  box-sizing: border-box;\n",
       "  text-align: center;\n",
       "  align-items: start;\n",
       "  justify-content: space-between;\n",
       "  gap: 0.5em;\n",
       "}\n",
       "\n",
       "#sk-container-id-9 label.sk-toggleable__label .caption {\n",
       "  font-size: 0.6rem;\n",
       "  font-weight: lighter;\n",
       "  color: var(--sklearn-color-text-muted);\n",
       "}\n",
       "\n",
       "#sk-container-id-9 label.sk-toggleable__label-arrow:before {\n",
       "  /* Arrow on the left of the label */\n",
       "  content: \"▸\";\n",
       "  float: left;\n",
       "  margin-right: 0.25em;\n",
       "  color: var(--sklearn-color-icon);\n",
       "}\n",
       "\n",
       "#sk-container-id-9 label.sk-toggleable__label-arrow:hover:before {\n",
       "  color: var(--sklearn-color-text);\n",
       "}\n",
       "\n",
       "/* Toggleable content - dropdown */\n",
       "\n",
       "#sk-container-id-9 div.sk-toggleable__content {\n",
       "  max-height: 0;\n",
       "  max-width: 0;\n",
       "  overflow: hidden;\n",
       "  text-align: left;\n",
       "  /* unfitted */\n",
       "  background-color: var(--sklearn-color-unfitted-level-0);\n",
       "}\n",
       "\n",
       "#sk-container-id-9 div.sk-toggleable__content.fitted {\n",
       "  /* fitted */\n",
       "  background-color: var(--sklearn-color-fitted-level-0);\n",
       "}\n",
       "\n",
       "#sk-container-id-9 div.sk-toggleable__content pre {\n",
       "  margin: 0.2em;\n",
       "  border-radius: 0.25em;\n",
       "  color: var(--sklearn-color-text);\n",
       "  /* unfitted */\n",
       "  background-color: var(--sklearn-color-unfitted-level-0);\n",
       "}\n",
       "\n",
       "#sk-container-id-9 div.sk-toggleable__content.fitted pre {\n",
       "  /* unfitted */\n",
       "  background-color: var(--sklearn-color-fitted-level-0);\n",
       "}\n",
       "\n",
       "#sk-container-id-9 input.sk-toggleable__control:checked~div.sk-toggleable__content {\n",
       "  /* Expand drop-down */\n",
       "  max-height: 200px;\n",
       "  max-width: 100%;\n",
       "  overflow: auto;\n",
       "}\n",
       "\n",
       "#sk-container-id-9 input.sk-toggleable__control:checked~label.sk-toggleable__label-arrow:before {\n",
       "  content: \"▾\";\n",
       "}\n",
       "\n",
       "/* Pipeline/ColumnTransformer-specific style */\n",
       "\n",
       "#sk-container-id-9 div.sk-label input.sk-toggleable__control:checked~label.sk-toggleable__label {\n",
       "  color: var(--sklearn-color-text);\n",
       "  background-color: var(--sklearn-color-unfitted-level-2);\n",
       "}\n",
       "\n",
       "#sk-container-id-9 div.sk-label.fitted input.sk-toggleable__control:checked~label.sk-toggleable__label {\n",
       "  background-color: var(--sklearn-color-fitted-level-2);\n",
       "}\n",
       "\n",
       "/* Estimator-specific style */\n",
       "\n",
       "/* Colorize estimator box */\n",
       "#sk-container-id-9 div.sk-estimator input.sk-toggleable__control:checked~label.sk-toggleable__label {\n",
       "  /* unfitted */\n",
       "  background-color: var(--sklearn-color-unfitted-level-2);\n",
       "}\n",
       "\n",
       "#sk-container-id-9 div.sk-estimator.fitted input.sk-toggleable__control:checked~label.sk-toggleable__label {\n",
       "  /* fitted */\n",
       "  background-color: var(--sklearn-color-fitted-level-2);\n",
       "}\n",
       "\n",
       "#sk-container-id-9 div.sk-label label.sk-toggleable__label,\n",
       "#sk-container-id-9 div.sk-label label {\n",
       "  /* The background is the default theme color */\n",
       "  color: var(--sklearn-color-text-on-default-background);\n",
       "}\n",
       "\n",
       "/* On hover, darken the color of the background */\n",
       "#sk-container-id-9 div.sk-label:hover label.sk-toggleable__label {\n",
       "  color: var(--sklearn-color-text);\n",
       "  background-color: var(--sklearn-color-unfitted-level-2);\n",
       "}\n",
       "\n",
       "/* Label box, darken color on hover, fitted */\n",
       "#sk-container-id-9 div.sk-label.fitted:hover label.sk-toggleable__label.fitted {\n",
       "  color: var(--sklearn-color-text);\n",
       "  background-color: var(--sklearn-color-fitted-level-2);\n",
       "}\n",
       "\n",
       "/* Estimator label */\n",
       "\n",
       "#sk-container-id-9 div.sk-label label {\n",
       "  font-family: monospace;\n",
       "  font-weight: bold;\n",
       "  display: inline-block;\n",
       "  line-height: 1.2em;\n",
       "}\n",
       "\n",
       "#sk-container-id-9 div.sk-label-container {\n",
       "  text-align: center;\n",
       "}\n",
       "\n",
       "/* Estimator-specific */\n",
       "#sk-container-id-9 div.sk-estimator {\n",
       "  font-family: monospace;\n",
       "  border: 1px dotted var(--sklearn-color-border-box);\n",
       "  border-radius: 0.25em;\n",
       "  box-sizing: border-box;\n",
       "  margin-bottom: 0.5em;\n",
       "  /* unfitted */\n",
       "  background-color: var(--sklearn-color-unfitted-level-0);\n",
       "}\n",
       "\n",
       "#sk-container-id-9 div.sk-estimator.fitted {\n",
       "  /* fitted */\n",
       "  background-color: var(--sklearn-color-fitted-level-0);\n",
       "}\n",
       "\n",
       "/* on hover */\n",
       "#sk-container-id-9 div.sk-estimator:hover {\n",
       "  /* unfitted */\n",
       "  background-color: var(--sklearn-color-unfitted-level-2);\n",
       "}\n",
       "\n",
       "#sk-container-id-9 div.sk-estimator.fitted:hover {\n",
       "  /* fitted */\n",
       "  background-color: var(--sklearn-color-fitted-level-2);\n",
       "}\n",
       "\n",
       "/* Specification for estimator info (e.g. \"i\" and \"?\") */\n",
       "\n",
       "/* Common style for \"i\" and \"?\" */\n",
       "\n",
       ".sk-estimator-doc-link,\n",
       "a:link.sk-estimator-doc-link,\n",
       "a:visited.sk-estimator-doc-link {\n",
       "  float: right;\n",
       "  font-size: smaller;\n",
       "  line-height: 1em;\n",
       "  font-family: monospace;\n",
       "  background-color: var(--sklearn-color-background);\n",
       "  border-radius: 1em;\n",
       "  height: 1em;\n",
       "  width: 1em;\n",
       "  text-decoration: none !important;\n",
       "  margin-left: 0.5em;\n",
       "  text-align: center;\n",
       "  /* unfitted */\n",
       "  border: var(--sklearn-color-unfitted-level-1) 1pt solid;\n",
       "  color: var(--sklearn-color-unfitted-level-1);\n",
       "}\n",
       "\n",
       ".sk-estimator-doc-link.fitted,\n",
       "a:link.sk-estimator-doc-link.fitted,\n",
       "a:visited.sk-estimator-doc-link.fitted {\n",
       "  /* fitted */\n",
       "  border: var(--sklearn-color-fitted-level-1) 1pt solid;\n",
       "  color: var(--sklearn-color-fitted-level-1);\n",
       "}\n",
       "\n",
       "/* On hover */\n",
       "div.sk-estimator:hover .sk-estimator-doc-link:hover,\n",
       ".sk-estimator-doc-link:hover,\n",
       "div.sk-label-container:hover .sk-estimator-doc-link:hover,\n",
       ".sk-estimator-doc-link:hover {\n",
       "  /* unfitted */\n",
       "  background-color: var(--sklearn-color-unfitted-level-3);\n",
       "  color: var(--sklearn-color-background);\n",
       "  text-decoration: none;\n",
       "}\n",
       "\n",
       "div.sk-estimator.fitted:hover .sk-estimator-doc-link.fitted:hover,\n",
       ".sk-estimator-doc-link.fitted:hover,\n",
       "div.sk-label-container:hover .sk-estimator-doc-link.fitted:hover,\n",
       ".sk-estimator-doc-link.fitted:hover {\n",
       "  /* fitted */\n",
       "  background-color: var(--sklearn-color-fitted-level-3);\n",
       "  color: var(--sklearn-color-background);\n",
       "  text-decoration: none;\n",
       "}\n",
       "\n",
       "/* Span, style for the box shown on hovering the info icon */\n",
       ".sk-estimator-doc-link span {\n",
       "  display: none;\n",
       "  z-index: 9999;\n",
       "  position: relative;\n",
       "  font-weight: normal;\n",
       "  right: .2ex;\n",
       "  padding: .5ex;\n",
       "  margin: .5ex;\n",
       "  width: min-content;\n",
       "  min-width: 20ex;\n",
       "  max-width: 50ex;\n",
       "  color: var(--sklearn-color-text);\n",
       "  box-shadow: 2pt 2pt 4pt #999;\n",
       "  /* unfitted */\n",
       "  background: var(--sklearn-color-unfitted-level-0);\n",
       "  border: .5pt solid var(--sklearn-color-unfitted-level-3);\n",
       "}\n",
       "\n",
       ".sk-estimator-doc-link.fitted span {\n",
       "  /* fitted */\n",
       "  background: var(--sklearn-color-fitted-level-0);\n",
       "  border: var(--sklearn-color-fitted-level-3);\n",
       "}\n",
       "\n",
       ".sk-estimator-doc-link:hover span {\n",
       "  display: block;\n",
       "}\n",
       "\n",
       "/* \"?\"-specific style due to the `<a>` HTML tag */\n",
       "\n",
       "#sk-container-id-9 a.estimator_doc_link {\n",
       "  float: right;\n",
       "  font-size: 1rem;\n",
       "  line-height: 1em;\n",
       "  font-family: monospace;\n",
       "  background-color: var(--sklearn-color-background);\n",
       "  border-radius: 1rem;\n",
       "  height: 1rem;\n",
       "  width: 1rem;\n",
       "  text-decoration: none;\n",
       "  /* unfitted */\n",
       "  color: var(--sklearn-color-unfitted-level-1);\n",
       "  border: var(--sklearn-color-unfitted-level-1) 1pt solid;\n",
       "}\n",
       "\n",
       "#sk-container-id-9 a.estimator_doc_link.fitted {\n",
       "  /* fitted */\n",
       "  border: var(--sklearn-color-fitted-level-1) 1pt solid;\n",
       "  color: var(--sklearn-color-fitted-level-1);\n",
       "}\n",
       "\n",
       "/* On hover */\n",
       "#sk-container-id-9 a.estimator_doc_link:hover {\n",
       "  /* unfitted */\n",
       "  background-color: var(--sklearn-color-unfitted-level-3);\n",
       "  color: var(--sklearn-color-background);\n",
       "  text-decoration: none;\n",
       "}\n",
       "\n",
       "#sk-container-id-9 a.estimator_doc_link.fitted:hover {\n",
       "  /* fitted */\n",
       "  background-color: var(--sklearn-color-fitted-level-3);\n",
       "}\n",
       "</style><div id=\"sk-container-id-9\" class=\"sk-top-container\"><div class=\"sk-text-repr-fallback\"><pre>XGBClassifier(base_score=None, booster=None, callbacks=None,\n",
       "              colsample_bylevel=None, colsample_bynode=None,\n",
       "              colsample_bytree=None, device=None, early_stopping_rounds=None,\n",
       "              enable_categorical=False, eval_metric=&#x27;logloss&#x27;,\n",
       "              feature_types=None, gamma=None, grow_policy=None,\n",
       "              importance_type=None, interaction_constraints=None,\n",
       "              learning_rate=None, max_bin=None, max_cat_threshold=None,\n",
       "              max_cat_to_onehot=None, max_delta_step=None, max_depth=None,\n",
       "              max_leaves=None, min_child_weight=None, missing=nan,\n",
       "              monotone_constraints=None, multi_strategy=None, n_estimators=None,\n",
       "              n_jobs=None, num_parallel_tree=None, random_state=42, ...)</pre><b>In a Jupyter environment, please rerun this cell to show the HTML representation or trust the notebook. <br />On GitHub, the HTML representation is unable to render, please try loading this page with nbviewer.org.</b></div><div class=\"sk-container\" hidden><div class=\"sk-item\"><div class=\"sk-estimator fitted sk-toggleable\"><input class=\"sk-toggleable__control sk-hidden--visually\" id=\"sk-estimator-id-9\" type=\"checkbox\" checked><label for=\"sk-estimator-id-9\" class=\"sk-toggleable__label fitted sk-toggleable__label-arrow\"><div><div>XGBClassifier</div></div><div><span class=\"sk-estimator-doc-link fitted\">i<span>Fitted</span></span></div></label><div class=\"sk-toggleable__content fitted\"><pre>XGBClassifier(base_score=None, booster=None, callbacks=None,\n",
       "              colsample_bylevel=None, colsample_bynode=None,\n",
       "              colsample_bytree=None, device=None, early_stopping_rounds=None,\n",
       "              enable_categorical=False, eval_metric=&#x27;logloss&#x27;,\n",
       "              feature_types=None, gamma=None, grow_policy=None,\n",
       "              importance_type=None, interaction_constraints=None,\n",
       "              learning_rate=None, max_bin=None, max_cat_threshold=None,\n",
       "              max_cat_to_onehot=None, max_delta_step=None, max_depth=None,\n",
       "              max_leaves=None, min_child_weight=None, missing=nan,\n",
       "              monotone_constraints=None, multi_strategy=None, n_estimators=None,\n",
       "              n_jobs=None, num_parallel_tree=None, random_state=42, ...)</pre></div> </div></div></div></div>"
      ]
     },
     "execution_count": 315,
     "metadata": {},
     "output_type": "execute_result"
    }
   ],
   "execution_count": 315
  },
  {
   "metadata": {
    "ExecuteTime": {
     "end_time": "2025-03-07T16:25:00.715881Z",
     "start_time": "2025-03-07T16:24:58.177381Z"
    }
   },
   "cell_type": "code",
   "source": [
    "from sklearn.metrics import accuracy_score, log_loss, confusion_matrix\n",
    "\n",
    "y_pred_log = log_reg.predict(X_test)\n",
    "y_pred_proba_log = log_reg.predict_proba(X_test)[:, 1]\n",
    "\n",
    "log_accuracy = accuracy_score(y_test, y_pred_log)\n",
    "log_loss_score = log_loss(y_test, y_pred_proba_log)\n",
    "\n",
    "print(f\"✅ Logistic Regression Accuracy: {log_accuracy:.4f}\")\n",
    "print(f\"✅ Logistic Regression Log Loss: {log_loss_score:.4f}\")\n",
    "\n",
    "y_pred_xgb = xgb_model.predict(X_test)\n",
    "y_pred_proba_xgb = xgb_model.predict_proba(X_test)[:, 1]\n",
    "\n",
    "xgb_accuracy = accuracy_score(y_test, y_pred_xgb)\n",
    "xgb_loss_score = log_loss(y_test, y_pred_proba_xgb)\n",
    "\n",
    "print(f\"✅ XGBoost Accuracy: {xgb_accuracy:.4f}\")\n",
    "print(f\"✅ XGBoost Log Loss: {xgb_loss_score:.4f}\")\n",
    "\n",
    "conf_matrix = confusion_matrix(y_test, y_pred_xgb)\n",
    "print(\"\\nConfusion Matrix (XGBoost):\\n\", conf_matrix)\n"
   ],
   "id": "249f1003a4b194c2",
   "outputs": [
    {
     "name": "stdout",
     "output_type": "stream",
     "text": [
      "✅ Logistic Regression Accuracy: 0.8617\n",
      "✅ Logistic Regression Log Loss: 0.2916\n",
      "✅ XGBoost Accuracy: 0.9605\n",
      "✅ XGBoost Log Loss: 0.1029\n",
      "\n",
      "Confusion Matrix (XGBoost):\n",
      " [[122473   4802]\n",
      " [  5251 121728]]\n"
     ]
    }
   ],
   "execution_count": 316
  },
  {
   "metadata": {
    "jupyter": {
     "is_executing": true
    },
    "ExecuteTime": {
     "start_time": "2025-03-07T16:25:00.746472Z"
    }
   },
   "cell_type": "code",
   "source": [
    "from sklearn.model_selection import GridSearchCV\n",
    "\n",
    "param_grid = {\n",
    "    \"n_estimators\": [100, 200],  # Reduce from [100, 200, 300] → [100, 200]\n",
    "    \"learning_rate\": [0.01, 0.1],  # Reduce from [0.01, 0.05, 0.1] → [0.01, 0.1]\n",
    "    \"max_depth\": [3, 5],  # Reduce from [3, 5, 7] → [3, 5]\n",
    "    \"subsample\": [0.8, 1.0],  # Reduce from [0.7, 0.8, 1.0] → [0.8, 1.0]\n",
    "    \"colsample_bytree\": [0.8, 1.0],  # Reduce from [0.7, 0.8, 1.0] → [0.8, 1.0]\n",
    "    \"gamma\": [0, 0.1],  # Reduce from [0, 0.1, 0.2] → [0, 0.1]\n",
    "}\n",
    "\n",
    "xgb_model = XGBClassifier(objective=\"binary:logistic\", eval_metric=\"logloss\", random_state=42)\n",
    "\n",
    "grid_search = GridSearchCV(xgb_model, param_grid, cv=3, scoring=\"accuracy\", verbose=2, n_jobs=-1)\n",
    "grid_search.fit(X_train, y_train)\n",
    "\n",
    "print(\"✅ Best Parameters:\", grid_search.best_params_)\n",
    "\n",
    "xgb_best = XGBClassifier(**grid_search.best_params_, objective=\"binary:logistic\", eval_metric=\"logloss\",\n",
    "                         random_state=42)\n",
    "xgb_best.fit(X_train, y_train)\n",
    "\n",
    "y_pred_xgb_tuned = xgb_best.predict(X_test)\n",
    "y_pred_proba_xgb_tuned = xgb_best.predict_proba(X_test)[:, 1]\n",
    "\n",
    "xgb_tuned_accuracy = accuracy_score(y_test, y_pred_xgb_tuned)\n",
    "xgb_tuned_logloss = log_loss(y_test, y_pred_proba_xgb_tuned)\n",
    "\n",
    "print(f\"✅ XGBoost Tuned Accuracy: {xgb_tuned_accuracy:.4f}\")\n",
    "print(f\"✅ XGBoost Tuned Log Loss: {xgb_tuned_logloss:.4f}\")\n",
    "\n",
    "joblib.dump(xgb_best, \"xgboost_women_march_madness_tuned.pkl\")\n",
    "print(\"✅ Tuned model saved as xgboost_women_march_madness_tuned.pkl\")\n"
   ],
   "id": "4ed32adcc8b426f8",
   "outputs": [
    {
     "name": "stdout",
     "output_type": "stream",
     "text": [
      "Fitting 3 folds for each of 64 candidates, totalling 192 fits\n"
     ]
    }
   ],
   "execution_count": null
  }
 ],
 "metadata": {
  "kernelspec": {
   "display_name": "Python 3",
   "language": "python",
   "name": "python3"
  },
  "language_info": {
   "codemirror_mode": {
    "name": "ipython",
    "version": 2
   },
   "file_extension": ".py",
   "mimetype": "text/x-python",
   "name": "python",
   "nbconvert_exporter": "python",
   "pygments_lexer": "ipython2",
   "version": "2.7.6"
  }
 },
 "nbformat": 4,
 "nbformat_minor": 5
}
